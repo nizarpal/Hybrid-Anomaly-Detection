{
 "cells": [
  {
   "cell_type": "markdown",
   "metadata": {},
   "source": [
    "### Data Preparation and Machine Learning Algorithms\n",
    "\n",
    "Here, we will choose the features which we will use in the dataset to create a binary classifier to determine if the network traffic is benign or malicious.\n",
    "\n",
    "We will try to find the most suitable unsupervised technique among somelike: K means, Isolation forest, Elliptical Envelope, LOF and mean shift. Also, we will see there performance."
   ]
  },
  {
   "cell_type": "code",
   "execution_count": 4,
   "metadata": {},
   "outputs": [],
   "source": [
    "import numpy as np\n",
    "import pandas as pd\n",
    "import matplotlib.pyplot as plt\n",
    "import seaborn as sns\n",
    "import glob\n",
    "import os\n",
    "import shap\n",
    "import scikitplot as skplt\n",
    "import eli5\n",
    "from sklearn.model_selection import train_test_split\n",
    "from sklearn.preprocessing import StandardScaler\n",
    "from sklearn.dummy import DummyClassifier\n",
    "from sklearn.linear_model import LogisticRegression\n",
    "from sklearn.ensemble import RandomForestClassifier\n",
    "from sklearn.metrics import classification_report, precision_recall_curve, average_precision_score\n",
    "from catboost import CatBoostClassifier\n",
    "from catboost import Pool\n",
    "from eli5.sklearn import PermutationImportance\n",
    "from scipy.stats import spearmanr\n",
    "from scipy.cluster import hierarchy\n",
    "from collections import defaultdict\n",
    "from scipy.stats import ks_2samp\n",
    "from scipy.stats import describe\n",
    "from imblearn.over_sampling import SMOTENC\n",
    "from collections import Counter\n",
    "from IPython.display import display\n",
    "import joblib\n",
    "%matplotlib inline\n",
    "import warnings\n",
    "warnings.filterwarnings('ignore')"
   ]
  },
  {
   "cell_type": "markdown",
   "metadata": {},
   "source": [
    "## 1. Dataset Preparation\n",
    "\n",
    "In this step we will replace infinte and negative values and we will define the features and the target variables."
   ]
  },
  {
   "cell_type": "code",
   "execution_count": 3,
   "metadata": {},
   "outputs": [],
   "source": [
    "df= pd.read_csv('all_data.csv')"
   ]
  },
  {
   "cell_type": "code",
   "execution_count": 4,
   "metadata": {},
   "outputs": [
    {
     "data": {
      "text/plain": [
       "Index(['Unnamed: 0', 'dst_port', 'protocol', 'timestamp', 'flow_duration',\n",
       "       'tot_fwd_pkts', 'tot_bwd_pkts', 'totlen_fwd_pkts', 'totlen_bwd_pkts',\n",
       "       'fwd_pkt_len_max', 'fwd_pkt_len_min', 'fwd_pkt_len_mean',\n",
       "       'fwd_pkt_len_std', 'bwd_pkt_len_max', 'bwd_pkt_len_min',\n",
       "       'bwd_pkt_len_mean', 'bwd_pkt_len_std', 'flow_byts_s', 'flow_pkts_s',\n",
       "       'flow_iat_mean', 'flow_iat_std', 'flow_iat_max', 'flow_iat_min',\n",
       "       'fwd_iat_tot', 'fwd_iat_mean', 'fwd_iat_std', 'fwd_iat_max',\n",
       "       'fwd_iat_min', 'bwd_iat_tot', 'bwd_iat_mean', 'bwd_iat_std',\n",
       "       'bwd_iat_max', 'bwd_iat_min', 'fwd_psh_flags', 'bwd_psh_flags',\n",
       "       'fwd_urg_flags', 'bwd_urg_flags', 'fwd_header_len', 'bwd_header_len',\n",
       "       'fwd_pkts_s', 'bwd_pkts_s', 'pkt_len_min', 'pkt_len_max',\n",
       "       'pkt_len_mean', 'pkt_len_std', 'pkt_len_var', 'fin_flag_cnt',\n",
       "       'syn_flag_cnt', 'rst_flag_cnt', 'psh_flag_cnt', 'ack_flag_cnt',\n",
       "       'urg_flag_cnt', 'cwe_flag_count', 'ece_flag_cnt', 'down_up_ratio',\n",
       "       'pkt_size_avg', 'fwd_seg_size_avg', 'bwd_seg_size_avg',\n",
       "       'fwd_byts_b_avg', 'fwd_pkts_b_avg', 'fwd_blk_rate_avg',\n",
       "       'bwd_byts_b_avg', 'bwd_pkts_b_avg', 'bwd_blk_rate_avg',\n",
       "       'subflow_fwd_pkts', 'subflow_fwd_byts', 'subflow_bwd_pkts',\n",
       "       'subflow_bwd_byts', 'init_fwd_win_byts', 'init_bwd_win_byts',\n",
       "       'fwd_act_data_pkts', 'fwd_seg_size_min', 'active_mean', 'active_std',\n",
       "       'active_max', 'active_min', 'idle_mean', 'idle_std', 'idle_max',\n",
       "       'idle_min', 'label', 'label_code', 'label_is_attack'],\n",
       "      dtype='object')"
      ]
     },
     "execution_count": 4,
     "metadata": {},
     "output_type": "execute_result"
    }
   ],
   "source": [
    "def replace_infinity_with_mean(df):\n",
    "    inf_columns = [c for c in df.columns if df[df[c] == np.inf][c].count() > 0]\n",
    "    for col in inf_columns:\n",
    "        df[col].replace([np.inf, -np.inf], np.nan, inplace=True)\n",
    "        mean = df[col].mean()\n",
    "        df[col].fillna(mean, inplace=True)\n",
    "    return df\n",
    "\n",
    "\n",
    "def replace_negative_values_with_mean(df):\n",
    "    numeric_cols = df.select_dtypes(include=[np.number]).columns.values\n",
    "    \n",
    "    columns = [c for c in numeric_cols if df[df[c] < 0][c].count() > 0]\n",
    "    for col in columns:\n",
    "        mask = df[col] < 0\n",
    "        df.loc[mask, col] = np.nan\n",
    "        mean = df[col].mean()\n",
    "        df[col].fillna(mean, inplace=True)\n",
    "    return df\n",
    "\n",
    "df = replace_infinity_with_mean(df)\n",
    "df = replace_negative_values_with_mean(df)\n",
    "df.columns"
   ]
  },
  {
   "cell_type": "code",
   "execution_count": 5,
   "metadata": {},
   "outputs": [],
   "source": [
    "X = df.drop(columns=['label', 'label_code', 'label_is_attack'])\n",
    "y = df[['label_is_attack', 'label_code', 'label']]"
   ]
  },
  {
   "cell_type": "markdown",
   "metadata": {},
   "source": [
    "## 2. Feature Engineering\n",
    "\n",
    "Here, we will remove all features with zero variation because it does not have any influence on the prediction of the target variable."
   ]
  },
  {
   "cell_type": "code",
   "execution_count": 6,
   "metadata": {},
   "outputs": [
    {
     "data": {
      "text/plain": [
       "7    bwd_blk_rate_avg\n",
       "5      bwd_byts_b_avg\n",
       "6      bwd_pkts_b_avg\n",
       "0       bwd_psh_flags\n",
       "1       bwd_urg_flags\n",
       "4    fwd_blk_rate_avg\n",
       "2      fwd_byts_b_avg\n",
       "3      fwd_pkts_b_avg\n",
       "dtype: object"
      ]
     },
     "execution_count": 6,
     "metadata": {},
     "output_type": "execute_result"
    }
   ],
   "source": [
    "stats = X.describe()\n",
    "std = stats.loc['std']\n",
    "features_no_variance = std[std == 0.0].index\n",
    "pd.Series(features_no_variance).sort_values()"
   ]
  },
  {
   "cell_type": "code",
   "execution_count": 7,
   "metadata": {},
   "outputs": [],
   "source": [
    "X = X.drop(columns=features_no_variance)"
   ]
  },
  {
   "cell_type": "markdown",
   "metadata": {},
   "source": [
    "We will remove some features which does not have influance on predicting the target variable."
   ]
  },
  {
   "cell_type": "code",
   "execution_count": 8,
   "metadata": {},
   "outputs": [],
   "source": [
    "X = X.drop(columns=['timestamp', 'dst_port'])"
   ]
  },
  {
   "cell_type": "markdown",
   "metadata": {},
   "source": [
    "As we saw when we did the exploratory analysis, there exists some features with high correlation between each others which are redundant and need to be ommited and use one of them only."
   ]
  },
  {
   "cell_type": "markdown",
   "metadata": {},
   "source": [
    "Thus, we will do clustering based on the correlation between features and pick one feature from each cluster."
   ]
  },
  {
   "cell_type": "code",
   "execution_count": 9,
   "metadata": {},
   "outputs": [
    {
     "name": "stdout",
     "output_type": "stream",
     "text": [
      "Selected features:\n"
     ]
    },
    {
     "data": {
      "text/plain": [
       "0            Unnamed: 0\n",
       "1              protocol\n",
       "2         flow_duration\n",
       "3          tot_fwd_pkts\n",
       "4          tot_bwd_pkts\n",
       "5       totlen_fwd_pkts\n",
       "6       totlen_bwd_pkts\n",
       "7      fwd_pkt_len_mean\n",
       "8       fwd_pkt_len_std\n",
       "9      bwd_pkt_len_mean\n",
       "10          flow_byts_s\n",
       "11          flow_pkts_s\n",
       "12         flow_iat_std\n",
       "13         flow_iat_min\n",
       "14          fwd_iat_tot\n",
       "15          fwd_iat_min\n",
       "16          bwd_iat_tot\n",
       "17          bwd_iat_min\n",
       "18        fwd_psh_flags\n",
       "19        fwd_urg_flags\n",
       "20           bwd_pkts_s\n",
       "21         fin_flag_cnt\n",
       "22         rst_flag_cnt\n",
       "23         psh_flag_cnt\n",
       "24         ack_flag_cnt\n",
       "25         urg_flag_cnt\n",
       "26        down_up_ratio\n",
       "27    init_fwd_win_byts\n",
       "28    init_bwd_win_byts\n",
       "29     fwd_seg_size_min\n",
       "30          active_mean\n",
       "31            idle_mean\n",
       "dtype: object"
      ]
     },
     "execution_count": 9,
     "metadata": {},
     "output_type": "execute_result"
    }
   ],
   "source": [
    "cluster_threshold = 1\n",
    "\n",
    "corr = spearmanr(X).correlation\n",
    "corr_linkage = hierarchy.ward(corr)\n",
    "\n",
    "\n",
    "cluster_ids = hierarchy.fcluster(corr_linkage, cluster_threshold, criterion='distance')\n",
    "cluster_id_to_feature_ids = defaultdict(list)\n",
    "\n",
    "for idx, cluster_id in enumerate(cluster_ids):\n",
    "    cluster_id_to_feature_ids[cluster_id].append(idx)\n",
    "selected_features = [v[0] for v in cluster_id_to_feature_ids.values()]\n",
    "\n",
    "selected_features = X.columns[selected_features].tolist()\n",
    "\n",
    "print('Selected features:')\n",
    "pd.Series(selected_features)"
   ]
  },
  {
   "cell_type": "code",
   "execution_count": 10,
   "metadata": {},
   "outputs": [
    {
     "name": "stdout",
     "output_type": "stream",
     "text": [
      "Remaining amount of features: 31\n"
     ]
    }
   ],
   "source": [
    "X = X[selected_features]\n",
    "X=X.drop(columns=['Unnamed: 0'],axis=1)\n",
    "print(f\"Remaining amount of features: {len(X.columns)}\")"
   ]
  },
  {
   "cell_type": "code",
   "execution_count": 9,
   "metadata": {},
   "outputs": [
    {
     "data": {
      "text/plain": [
       "Index(['dst_port', 'protocol', 'timestamp', 'flow_duration', 'tot_fwd_pkts',\n",
       "       'tot_bwd_pkts', 'totlen_fwd_pkts', 'totlen_bwd_pkts',\n",
       "       'fwd_pkt_len_mean', 'fwd_pkt_len_std', 'bwd_pkt_len_mean',\n",
       "       'flow_byts_s', 'flow_pkts_s', 'flow_iat_std', 'flow_iat_min',\n",
       "       'fwd_iat_tot', 'fwd_iat_min', 'bwd_iat_tot', 'bwd_iat_min',\n",
       "       'fwd_psh_flags', 'fwd_urg_flags', 'bwd_pkts_s', 'fin_flag_cnt',\n",
       "       'rst_flag_cnt', 'psh_flag_cnt', 'ack_flag_cnt', 'urg_flag_cnt',\n",
       "       'down_up_ratio', 'init_fwd_win_byts', 'init_bwd_win_byts',\n",
       "       'fwd_seg_size_min', 'active_mean', 'idle_mean'],\n",
       "      dtype='object')"
      ]
     },
     "execution_count": 9,
     "metadata": {},
     "output_type": "execute_result"
    }
   ],
   "source": [
    "X.columns"
   ]
  },
  {
   "cell_type": "markdown",
   "metadata": {},
   "source": [
    "The following figure shows the correlation heatmap after the removal of highly correlated features."
   ]
  },
  {
   "cell_type": "code",
   "execution_count": 60,
   "metadata": {},
   "outputs": [
    {
     "data": {
      "text/plain": [
       "<AxesSubplot:>"
      ]
     },
     "execution_count": 60,
     "metadata": {},
     "output_type": "execute_result"
    },
    {
     "data": {
      "image/png": "[encoded data removed]",
      "text/plain": [
       "<Figure size 1800x1440 with 2 Axes>"
      ]
     },
     "metadata": {
      "needs_background": "light"
     },
     "output_type": "display_data"
    }
   ],
   "source": [
    "corr_updated = spearmanr(X).correlation\n",
    "plt.figure(figsize=(25, 20))\n",
    "sns.heatmap(corr_updated, xticklabels=X.columns, yticklabels=X.columns, linewidths=.5, cmap=sns.diverging_palette(620, 10, as_cmap=True))"
   ]
  },
  {
   "cell_type": "markdown",
   "metadata": {},
   "source": [
    "## 3. Model Training Preparation\n",
    "\n",
    "### 3.1. Train / Test split\n",
    "\n",
    "In this stage we will split the data into training, evaluation and testing with ratios `0.8/0.1/0.1`.  \n",
    "In order to insure that all attacks are exists with the same ratio in both the training and testing sets, the split will be stratified by the attack category."
   ]
  },
  {
   "cell_type": "code",
   "execution_count": 5,
   "metadata": {},
   "outputs": [],
   "source": [
    "def print_report(ds_type, cls, X_vals, y_true, y_predict, plot_pr=False, plot_roc=False):\n",
    "    print(f\"Classification Report ({ds_type}):\")\n",
    "    print(classification_report(y_true, y_predict))\n",
    "    print(f\"Avg Precision Score: {average_precision_score(y_true, y_predict, average='weighted')}\")\n",
    "    \n",
    "    if plot_roc:\n",
    "        print(f\"ROC AUC Score: {roc_auc_score(y_true, y_predict)}\")\n",
    "        skplt.metrics.plot_roc(y_true, cls.predict_proba(X_vals))\n",
    "        plt.show()\n",
    "        \n",
    "    if plot_pr:\n",
    "        \n",
    "        skplt.metrics.plot_precision_recall(y_true, cls.predict_proba(X_vals))\n",
    "        plt.show()\n",
    "        \n",
    "    print('\\n')"
   ]
  },
  {
   "cell_type": "markdown",
   "metadata": {},
   "source": [
    "Here, we will also do one-hot-encoded on protocol column."
   ]
  },
  {
   "cell_type": "code",
   "execution_count": 12,
   "metadata": {},
   "outputs": [],
   "source": [
    "X_train, X_hold, y_train, y_hold = train_test_split(X, y, test_size=0.2, stratify=y.label_code)\n",
    "X_eval, X_test, y_eval, y_test = train_test_split(X_hold, y_hold, test_size=0.5, stratify=y_hold.label_code)\n",
    "\n",
    "X_train_oh = pd.get_dummies(X_train, columns=['protocol'])\n",
    "X_eval_oh = pd.get_dummies(X_eval, columns=['protocol'])\n",
    "X_test_oh = pd.get_dummies(X_test, columns=['protocol'])"
   ]
  },
  {
   "cell_type": "code",
   "execution_count": 6,
   "metadata": {},
   "outputs": [],
   "source": [
    "df = pd.read_pickle('all_data.pkl')\n",
    "X_train_oh = pd.read_pickle('X_train_oh.pkl')\n",
    "X_eval_oh = pd.read_pickle('X_eval_oh.pkl')\n",
    "X_test_oh = pd.read_pickle('X_test_oh.pkl')\n",
    "y_train = pd.read_pickle('y_train.pkl')\n",
    "y_eval = pd.read_pickle('y_eval.pkl')\n",
    "y_test = pd.read_pickle('y_test.pkl')"
   ]
  },
  {
   "cell_type": "code",
   "execution_count": 65,
   "metadata": {},
   "outputs": [
    {
     "data": {
      "text/plain": [
       "Index(['label_is_attack', 'label_code', 'label'], dtype='object')"
      ]
     },
     "execution_count": 65,
     "metadata": {},
     "output_type": "execute_result"
    }
   ],
   "source": [
    "y.columns"
   ]
  },
  {
   "cell_type": "markdown",
   "metadata": {},
   "source": [
    "Next, we will see the number of benign and different attack types in the original, train, evaluation and test data sets."
   ]
  },
  {
   "cell_type": "code",
   "execution_count": 66,
   "metadata": {},
   "outputs": [
    {
     "data": {
      "text/plain": [
       "Benign                      13484708\n",
       "DDOS attack-HOIC              686012\n",
       "DDoS attacks-LOIC-HTTP        576191\n",
       "DoS attacks-Hulk              461912\n",
       "Bot                           286191\n",
       "FTP-BruteForce                193360\n",
       "SSH-Bruteforce                187589\n",
       "Infilteration                 161934\n",
       "DoS attacks-SlowHTTPTest      139890\n",
       "DoS attacks-GoldenEye          41508\n",
       "DoS attacks-Slowloris          10990\n",
       "DDOS attack-LOIC-UDP            1730\n",
       "Brute Force -Web                 611\n",
       "Brute Force -XSS                 230\n",
       "SQL Injection                     87\n",
       "Name: label, dtype: int64"
      ]
     },
     "execution_count": 66,
     "metadata": {},
     "output_type": "execute_result"
    }
   ],
   "source": [
    "y.label.value_counts()"
   ]
  },
  {
   "cell_type": "code",
   "execution_count": 67,
   "metadata": {},
   "outputs": [
    {
     "data": {
      "text/plain": [
       "Benign                      10787766\n",
       "DDOS attack-HOIC              548809\n",
       "DDoS attacks-LOIC-HTTP        460953\n",
       "DoS attacks-Hulk              369530\n",
       "Bot                           228953\n",
       "FTP-BruteForce                154688\n",
       "SSH-Bruteforce                150071\n",
       "Infilteration                 129547\n",
       "DoS attacks-SlowHTTPTest      111912\n",
       "DoS attacks-GoldenEye          33206\n",
       "DoS attacks-Slowloris           8792\n",
       "DDOS attack-LOIC-UDP            1384\n",
       "Brute Force -Web                 489\n",
       "Brute Force -XSS                 184\n",
       "SQL Injection                     70\n",
       "Name: label, dtype: int64"
      ]
     },
     "execution_count": 67,
     "metadata": {},
     "output_type": "execute_result"
    }
   ],
   "source": [
    "y_train.label.value_counts()"
   ]
  },
  {
   "cell_type": "code",
   "execution_count": 68,
   "metadata": {},
   "outputs": [
    {
     "data": {
      "text/plain": [
       "Benign                      1348471\n",
       "DDOS attack-HOIC              68601\n",
       "DDoS attacks-LOIC-HTTP        57619\n",
       "DoS attacks-Hulk              46191\n",
       "Bot                           28619\n",
       "FTP-BruteForce                19336\n",
       "SSH-Bruteforce                18759\n",
       "Infilteration                 16193\n",
       "DoS attacks-SlowHTTPTest      13989\n",
       "DoS attacks-GoldenEye          4151\n",
       "DoS attacks-Slowloris          1099\n",
       "DDOS attack-LOIC-UDP            173\n",
       "Brute Force -Web                 61\n",
       "Brute Force -XSS                 23\n",
       "SQL Injection                     9\n",
       "Name: label, dtype: int64"
      ]
     },
     "execution_count": 68,
     "metadata": {},
     "output_type": "execute_result"
    }
   ],
   "source": [
    "y_eval.label.value_counts()"
   ]
  },
  {
   "cell_type": "code",
   "execution_count": 69,
   "metadata": {},
   "outputs": [
    {
     "data": {
      "text/plain": [
       "Benign                      1348471\n",
       "DDOS attack-HOIC              68602\n",
       "DDoS attacks-LOIC-HTTP        57619\n",
       "DoS attacks-Hulk              46191\n",
       "Bot                           28619\n",
       "FTP-BruteForce                19336\n",
       "SSH-Bruteforce                18759\n",
       "Infilteration                 16194\n",
       "DoS attacks-SlowHTTPTest      13989\n",
       "DoS attacks-GoldenEye          4151\n",
       "DoS attacks-Slowloris          1099\n",
       "DDOS attack-LOIC-UDP            173\n",
       "Brute Force -Web                 61\n",
       "Brute Force -XSS                 23\n",
       "SQL Injection                     8\n",
       "Name: label, dtype: int64"
      ]
     },
     "execution_count": 69,
     "metadata": {},
     "output_type": "execute_result"
    }
   ],
   "source": [
    "y_test.label.value_counts()"
   ]
  },
  {
   "cell_type": "markdown",
   "metadata": {},
   "source": [
    "### 3.2 Metrics for Evaluation"
   ]
  },
  {
   "cell_type": "code",
   "execution_count": 18,
   "metadata": {},
   "outputs": [
    {
     "name": "stdout",
     "output_type": "stream",
     "text": [
      "Class occurences:\n",
      "0    10787766\n",
      "1     2198588\n",
      "Name: label_is_attack, dtype: int64\n",
      "Percentage of benign samples: 0.8307\n"
     ]
    }
   ],
   "source": [
    "percentage_benign = len(y_train.label_is_attack[y_train.label_is_attack == 0]) / len(y_train.label_is_attack)\n",
    "\n",
    "print('Class occurences:')\n",
    "print(y_train.label_is_attack.value_counts())\n",
    "print('Percentage of benign samples: %.4f' % percentage_benign)"
   ]
  },
  {
   "cell_type": "markdown",
   "metadata": {},
   "source": [
    "As we see that the data is highly embalanced since we have arround `~83%` `Benign` records. Thus, the metric `accuracy` is not suitable to measure the performance of a classifier based on this dataset since the `accuracy` of a dummy classifier as we will see is `0.83`. Therefore, we will use the following metric to evaluate the performance of the classifiers:\n",
    "\n",
    "* `Recall (weighted avg)` which is more important since the goal is to detect as many attacks as possible. So, the classifier with higher recall will be better.\n",
    "* `Precision (weighted avg)` which should be large to reduce the number of false-positives(when we said that a netwirk flow is attack but it is not).\n"
   ]
  },
  {
   "cell_type": "markdown",
   "metadata": {},
   "source": [
    "## 4 Classifiers\n",
    "\n",
    "Unsupervised Classifiers"
   ]
  },
  {
   "cell_type": "markdown",
   "metadata": {},
   "source": [
    "### 4.1 K means\n",
    "\n",
    "Here, we will perform k mean clustering to group the similar network flows together."
   ]
  },
  {
   "cell_type": "code",
   "execution_count": 7,
   "metadata": {},
   "outputs": [],
   "source": [
    "from sklearn.cluster import KMeans                      #\n",
    "from mpl_toolkits.mplot3d import Axes3D                 #\n",
    "import io                                               #\n",
    "import pickle                                           #\n",
    "import requests                                         #\n",
    "from sklearn.decomposition import PCA                   #\n",
    "from sklearn import preprocessing  \n",
    "from matplotlib import colors as mcolors                #\n",
    "from sklearn.cluster import AgglomerativeClustering     #\n",
    "from sklearn.neighbors import LocalOutlierFactor        #\n",
    "############IMPORTS######################################\n",
    "import warnings\n",
    "warnings.filterwarnings('ignore')"
   ]
  },
  {
   "cell_type": "code",
   "execution_count": 88,
   "metadata": {},
   "outputs": [],
   "source": [
    "features = list(X)\n",
    "for i in range(len(features)):\n",
    "    X[features[i]] =  pd.to_numeric(X[features[i]], errors='coerce')"
   ]
  },
  {
   "cell_type": "code",
   "execution_count": 89,
   "metadata": {},
   "outputs": [],
   "source": [
    "# Creating a new normalized dataframe\n",
    "X2 = X[features].dropna()\n",
    "min_max_scaler = preprocessing.StandardScaler()\n",
    "np_scaled = min_max_scaler.fit_transform(X2)\n",
    "X2 = pd.DataFrame(np_scaled)"
   ]
  },
  {
   "cell_type": "code",
   "execution_count": 90,
   "metadata": {},
   "outputs": [],
   "source": [
    "# Principle Component Analasys Step\n",
    "pca = PCA(n_components=2)\n",
    "X2 = pca.fit_transform(X2)\n",
    "np_scaled = min_max_scaler.fit_transform(X2)\n",
    "X2 = pd.DataFrame(np_scaled)"
   ]
  },
  {
   "cell_type": "code",
   "execution_count": 26,
   "metadata": {},
   "outputs": [
    {
     "name": "stdout",
     "output_type": "stream",
     "text": [
      "[0 0 0 ... 0 0 0]\n"
     ]
    }
   ],
   "source": [
    "#Initialize the class object\n",
    "kmeans2 = KMeans(n_clusters= 2)\n",
    " \n",
    "#predict the labels of clusters.\n",
    "label = kmeans2.fit_predict(X2)\n",
    "#df1['New_clus']= label\n",
    "print(label)"
   ]
  },
  {
   "cell_type": "code",
   "execution_count": 30,
   "metadata": {},
   "outputs": [],
   "source": [
    "l=y.label_is_attack"
   ]
  },
  {
   "cell_type": "markdown",
   "metadata": {},
   "source": [
    "Here, we will plot in the first graph the data points after K-means clustering and the other one is for the data points before clustering"
   ]
  },
  {
   "cell_type": "code",
   "execution_count": 75,
   "metadata": {},
   "outputs": [
    {
     "data": {
      "image/png": "[encoded data removed]",
      "text/plain": [
       "<Figure size 1440x1080 with 2 Axes>"
      ]
     },
     "metadata": {
      "needs_background": "light"
     },
     "output_type": "display_data"
    }
   ],
   "source": [
    "relabels = np.choose(label,[1,0]).astype(np.int64)\n",
    "u_label = np.unique(label)\n",
    "y_label = np.unique(l) \n",
    "#plotting the results:\n",
    "plt.figure(figsize=(20,15))\n",
    "for i,j in zip(u_label,y_label):\n",
    "\n",
    "    plt.subplot(1,2,2)\n",
    "    plt.scatter(X2[l== j].iloc[:,0] , X2[l== j].iloc[:,1],label = j)\n",
    "    plt.subplot(1,2,1)\n",
    "    plt.scatter(X2[relabels == i].iloc[:,0] , X2[relabels == i].iloc[:,1] , label = i)\n",
    "\n",
    "    #plt.scatter(centroid[:,0] , centroid[:,1] , s = 80, color = 'k')\n",
    "    plt.legend()\n",
    "plt.show()"
   ]
  },
  {
   "cell_type": "markdown",
   "metadata": {},
   "source": [
    "We will see the accuracy of the model "
   ]
  },
  {
   "cell_type": "code",
   "execution_count": 76,
   "metadata": {},
   "outputs": [
    {
     "name": "stdout",
     "output_type": "stream",
     "text": [
      "              precision    recall  f1-score   support\n",
      "\n",
      "           0       0.89      0.74      0.81  13484708\n",
      "           1       0.31      0.56      0.40   2748235\n",
      "\n",
      "    accuracy                           0.71  16232943\n",
      "   macro avg       0.60      0.65      0.60  16232943\n",
      "weighted avg       0.79      0.71      0.74  16232943\n",
      "\n"
     ]
    }
   ],
   "source": [
    "print(classification_report(l,relabels))"
   ]
  },
  {
   "cell_type": "code",
   "execution_count": 212,
   "metadata": {},
   "outputs": [
    {
     "name": "stdout",
     "output_type": "stream",
     "text": [
      " Accuracy Score for Kmeans : 0.7115772537364297\n",
      " Precision for Kmeans : 0.3075735831039433\n",
      " Recall for Kmeans : 0.562332187749592\n",
      " Confusion Matrix: \n",
      " [[10005572  3479136]\n",
      " [ 1202814  1545421]]\n"
     ]
    }
   ],
   "source": [
    "cm5=confusion_matrix(l, relabels)\n",
    "print(\" Accuracy Score for Kmeans :\",accuracy_score(l, relabels))\n",
    "print(\" Precision for Kmeans :\", precision_score(l, relabels))\n",
    "print(\" Recall for Kmeans :\", recall_score(l, relabels))\n",
    "print(\" Confusion Matrix: \\n\", cm5)"
   ]
  },
  {
   "cell_type": "markdown",
   "metadata": {},
   "source": [
    "### Meanshift"
   ]
  },
  {
   "cell_type": "code",
   "execution_count": 47,
   "metadata": {},
   "outputs": [],
   "source": [
    "from sklearn.cluster import MeanShift,estimate_bandwidth"
   ]
  },
  {
   "cell_type": "code",
   "execution_count": null,
   "metadata": {},
   "outputs": [],
   "source": [
    "X=df.drop(['label_is_attack','label','label_code'],axis=1)\n",
    "X=pd.get_dummies(X, columns=['protocol'])\n",
    "tr=df.label_is_attack\n",
    "X3=X.copy()\n",
    "features = list(X3)\n",
    "for i in range(len(features)):\n",
    "    X3[features[i]] =  pd.to_numeric(X3[features[i]], errors='coerce')\n",
    "\n",
    "# Creating a new normalized dataframe\n",
    "X3 = X3[features].dropna()\n",
    "min_max_scaler = preprocessing.StandardScaler()\n",
    "np_scaled = min_max_scaler.fit_transform(X3)\n",
    "X3 = pd.DataFrame(np_scaled)\n",
    "\n",
    "# Principle Component Analasys Step\n",
    "pca = PCA(n_components=2)\n",
    "X3 = pca.fit_transform(X3)\n",
    "np_scaled = min_max_scaler.fit_transform(X3)\n",
    "X3 = pd.DataFrame(np_scaled)\n",
    "#bandwith = estimate_bandwidth(X3)\n",
    "ms = MeanShift(bandwidth=1.1985, bin_seeding=True,n_jobs=4)\n",
    "ms.fit_predict(X3)\n",
    "\n",
    "# The following bandwidth can be automatically detected using\n",
    "ms_labels_pca = ms.labels_\n",
    "ms_pca_cluster_centers = ms.cluster_centers_\n",
    "\n",
    "ms_pca_labels_unique = np.unique(ms_labels_pca)\n",
    "ms_pca_n_clusters_ = len(ms_pca_labels_unique)"
   ]
  },
  {
   "cell_type": "code",
   "execution_count": 96,
   "metadata": {},
   "outputs": [
    {
     "name": "stdout",
     "output_type": "stream",
     "text": [
      "number of estimated clusters : 44\n"
     ]
    }
   ],
   "source": [
    "print(\"number of estimated clusters : %d\" % ms_pca_n_clusters_)"
   ]
  },
  {
   "cell_type": "code",
   "execution_count": 97,
   "metadata": {},
   "outputs": [
    {
     "data": {
      "text/plain": [
       "{0: 8804512,\n",
       " 1: 5421879,\n",
       " 2: 973181,\n",
       " 3: 419780,\n",
       " 4: 609184,\n",
       " 5: 580,\n",
       " 6: 250,\n",
       " 7: 2828,\n",
       " 8: 81,\n",
       " 9: 71,\n",
       " 10: 45,\n",
       " 11: 44,\n",
       " 12: 33,\n",
       " 13: 32,\n",
       " 14: 20,\n",
       " 15: 16,\n",
       " 16: 16,\n",
       " 17: 6,\n",
       " 18: 4,\n",
       " 19: 3,\n",
       " 20: 3,\n",
       " 21: 3,\n",
       " 22: 2,\n",
       " 23: 2,\n",
       " 24: 2,\n",
       " 25: 1,\n",
       " 26: 2,\n",
       " 27: 74,\n",
       " 28: 1,\n",
       " 29: 1,\n",
       " 30: 1,\n",
       " 31: 1,\n",
       " 32: 1,\n",
       " 33: 1,\n",
       " 34: 1,\n",
       " 35: 1,\n",
       " 36: 1,\n",
       " 37: 2,\n",
       " 38: 1,\n",
       " 39: 1,\n",
       " 40: 1,\n",
       " 41: 1,\n",
       " 42: 1,\n",
       " 43: 273}"
      ]
     },
     "execution_count": 97,
     "metadata": {},
     "output_type": "execute_result"
    }
   ],
   "source": [
    "# how many observations in each cluster\n",
    "cluster, count = np.unique(ms_labels_pca, return_counts=True)\n",
    "dict(zip(cluster, count))"
   ]
  },
  {
   "cell_type": "code",
   "execution_count": 98,
   "metadata": {},
   "outputs": [
    {
     "data": {
      "text/plain": [
       "<Figure size 432x288 with 0 Axes>"
      ]
     },
     "metadata": {},
     "output_type": "display_data"
    },
    {
     "data": {
      "image/png": "[encoded data removed]",
      "text/plain": [
       "<Figure size 1152x720 with 1 Axes>"
      ]
     },
     "metadata": {
      "needs_background": "light"
     },
     "output_type": "display_data"
    }
   ],
   "source": [
    "from itertools import cycle\n",
    "plt.figure(1)\n",
    "plt.clf()\n",
    "\n",
    "fig = plt.figure(figsize=(16,10))\n",
    "colors = cycle('bgrcmykbgrcmykbgrcmykbgrcmyk')\n",
    "for k, col in zip(range(ms_pca_n_clusters_), colors):\n",
    "    my_members = ms_labels_pca == k\n",
    "    cluster_center = ms_pca_cluster_centers[k]\n",
    "    plt.plot(X3.iloc[my_members, 0], X3.iloc[my_members, 1], col + '.')\n",
    "    plt.plot(ms_pca_cluster_centers[0], ms_pca_cluster_centers[1], 'o', markerfacecolor=col,\n",
    "             markeredgecolor='k', markersize=14)\n",
    "plt.title('Estimated number of clusters: %d' % len(cluster))\n",
    "plt.show()"
   ]
  },
  {
   "cell_type": "code",
   "execution_count": 99,
   "metadata": {},
   "outputs": [
    {
     "data": {
      "text/html": [
       "<div>\n",
       "<style scoped>\n",
       "    .dataframe tbody tr th:only-of-type {\n",
       "        vertical-align: middle;\n",
       "    }\n",
       "\n",
       "    .dataframe tbody tr th {\n",
       "        vertical-align: top;\n",
       "    }\n",
       "\n",
       "    .dataframe thead th {\n",
       "        text-align: right;\n",
       "    }\n",
       "</style>\n",
       "<table border=\"1\" class=\"dataframe\">\n",
       "  <thead>\n",
       "    <tr style=\"text-align: right;\">\n",
       "      <th></th>\n",
       "      <th>0</th>\n",
       "      <th>1</th>\n",
       "    </tr>\n",
       "  </thead>\n",
       "  <tbody>\n",
       "    <tr>\n",
       "      <th>0</th>\n",
       "      <td>0</td>\n",
       "      <td>1</td>\n",
       "    </tr>\n",
       "    <tr>\n",
       "      <th>1</th>\n",
       "      <td>8804512</td>\n",
       "      <td>7428431</td>\n",
       "    </tr>\n",
       "  </tbody>\n",
       "</table>\n",
       "</div>"
      ],
      "text/plain": [
       "         0        1\n",
       "0        0        1\n",
       "1  8804512  7428431"
      ]
     },
     "execution_count": 99,
     "metadata": {},
     "output_type": "execute_result"
    }
   ],
   "source": [
    "# consolidate outlier \n",
    "def consolodate_outliers(labels, threshold): \n",
    "    new_labels = []\n",
    "    for i in labels: \n",
    "        if i == threshold: \n",
    "            new_labels.append(0)\n",
    "        else: \n",
    "            new_labels.append(1)\n",
    "\n",
    "    count = np.unique(new_labels, return_counts=True)\n",
    "    return new_labels,pd.DataFrame(count)\n",
    "\n",
    "pca_label, count = consolodate_outliers(ms_labels_pca, 0)\n",
    "count"
   ]
  },
  {
   "cell_type": "code",
   "execution_count": 100,
   "metadata": {},
   "outputs": [
    {
     "name": "stdout",
     "output_type": "stream",
     "text": [
      "              precision    recall  f1-score   support\n",
      "\n",
      "           0       0.83      0.54      0.66  13484708\n",
      "           1       0.17      0.46      0.25   2748235\n",
      "\n",
      "    accuracy                           0.53  16232943\n",
      "   macro avg       0.50      0.50      0.45  16232943\n",
      "weighted avg       0.72      0.53      0.59  16232943\n",
      "\n"
     ]
    }
   ],
   "source": [
    "print(classification_report(tr,pca_label))"
   ]
  },
  {
   "cell_type": "code",
   "execution_count": 125,
   "metadata": {},
   "outputs": [],
   "source": [
    "meanshift_data=X.copy()\n",
    "meanshift_data['pred'] = pca_label"
   ]
  },
  {
   "cell_type": "code",
   "execution_count": null,
   "metadata": {},
   "outputs": [],
   "source": []
  },
  {
   "cell_type": "markdown",
   "metadata": {},
   "source": [
    "### 4.2 Isolation Forest"
   ]
  },
  {
   "cell_type": "code",
   "execution_count": 8,
   "metadata": {},
   "outputs": [],
   "source": [
    "import pandas as pd\n",
    "from sklearn.ensemble import IsolationForest\n",
    "from sklearn.decomposition import PCA\n",
    "from mpl_toolkits.mplot3d import Axes3D\n",
    "from sklearn.preprocessing import StandardScaler\n",
    "import numpy as np\n",
    "from matplotlib import pyplot as plt\n",
    "from sklearn.metrics import confusion_matrix, accuracy_score, precision_score,recall_score,f1_score\n",
    "from sklearn.model_selection import train_test_split\n",
    "%matplotlib inline"
   ]
  },
  {
   "cell_type": "code",
   "execution_count": 79,
   "metadata": {},
   "outputs": [],
   "source": [
    "model = IsolationForest(n_estimators=100,n_jobs=4,random_state=2021, max_samples='auto', contamination=.16)"
   ]
  },
  {
   "cell_type": "markdown",
   "metadata": {},
   "source": [
    "# Applied on trained data (80% of all data)"
   ]
  },
  {
   "cell_type": "code",
   "execution_count": 80,
   "metadata": {},
   "outputs": [],
   "source": [
    "y_pred_train1=model.fit(X_train_oh)"
   ]
  },
  {
   "cell_type": "code",
   "execution_count": 81,
   "metadata": {},
   "outputs": [
    {
     "data": {
      "text/html": [
       "<div>\n",
       "<style scoped>\n",
       "    .dataframe tbody tr th:only-of-type {\n",
       "        vertical-align: middle;\n",
       "    }\n",
       "\n",
       "    .dataframe tbody tr th {\n",
       "        vertical-align: top;\n",
       "    }\n",
       "\n",
       "    .dataframe thead th {\n",
       "        text-align: right;\n",
       "    }\n",
       "</style>\n",
       "<table border=\"1\" class=\"dataframe\">\n",
       "  <thead>\n",
       "    <tr style=\"text-align: right;\">\n",
       "      <th></th>\n",
       "      <th>flow_duration</th>\n",
       "      <th>tot_fwd_pkts</th>\n",
       "      <th>tot_bwd_pkts</th>\n",
       "      <th>totlen_fwd_pkts</th>\n",
       "      <th>totlen_bwd_pkts</th>\n",
       "      <th>fwd_pkt_len_mean</th>\n",
       "      <th>fwd_pkt_len_std</th>\n",
       "      <th>bwd_pkt_len_mean</th>\n",
       "      <th>flow_byts_s</th>\n",
       "      <th>flow_pkts_s</th>\n",
       "      <th>...</th>\n",
       "      <th>down_up_ratio</th>\n",
       "      <th>init_fwd_win_byts</th>\n",
       "      <th>init_bwd_win_byts</th>\n",
       "      <th>fwd_seg_size_min</th>\n",
       "      <th>active_mean</th>\n",
       "      <th>idle_mean</th>\n",
       "      <th>protocol_0</th>\n",
       "      <th>protocol_6</th>\n",
       "      <th>protocol_17</th>\n",
       "      <th>if_scores</th>\n",
       "    </tr>\n",
       "  </thead>\n",
       "  <tbody>\n",
       "    <tr>\n",
       "      <th>7945668</th>\n",
       "      <td>940.0</td>\n",
       "      <td>1</td>\n",
       "      <td>1</td>\n",
       "      <td>77</td>\n",
       "      <td>155</td>\n",
       "      <td>77.0</td>\n",
       "      <td>0.0</td>\n",
       "      <td>155.0</td>\n",
       "      <td>246808.510638</td>\n",
       "      <td>2127.659574</td>\n",
       "      <td>...</td>\n",
       "      <td>1</td>\n",
       "      <td>12088.350041</td>\n",
       "      <td>17682.268468</td>\n",
       "      <td>8</td>\n",
       "      <td>0.0</td>\n",
       "      <td>0.0</td>\n",
       "      <td>0</td>\n",
       "      <td>0</td>\n",
       "      <td>1</td>\n",
       "      <td>0.049665</td>\n",
       "    </tr>\n",
       "    <tr>\n",
       "      <th>14495017</th>\n",
       "      <td>4308.0</td>\n",
       "      <td>2</td>\n",
       "      <td>0</td>\n",
       "      <td>0</td>\n",
       "      <td>0</td>\n",
       "      <td>0.0</td>\n",
       "      <td>0.0</td>\n",
       "      <td>0.0</td>\n",
       "      <td>0.000000</td>\n",
       "      <td>464.252553</td>\n",
       "      <td>...</td>\n",
       "      <td>0</td>\n",
       "      <td>225.000000</td>\n",
       "      <td>17682.268468</td>\n",
       "      <td>32</td>\n",
       "      <td>0.0</td>\n",
       "      <td>0.0</td>\n",
       "      <td>0</td>\n",
       "      <td>1</td>\n",
       "      <td>0</td>\n",
       "      <td>0.101550</td>\n",
       "    </tr>\n",
       "  </tbody>\n",
       "</table>\n",
       "<p>2 rows × 34 columns</p>\n",
       "</div>"
      ],
      "text/plain": [
       "          flow_duration  tot_fwd_pkts  tot_bwd_pkts  totlen_fwd_pkts  \\\n",
       "7945668           940.0             1             1               77   \n",
       "14495017         4308.0             2             0                0   \n",
       "\n",
       "          totlen_bwd_pkts  fwd_pkt_len_mean  fwd_pkt_len_std  \\\n",
       "7945668               155              77.0              0.0   \n",
       "14495017                0               0.0              0.0   \n",
       "\n",
       "          bwd_pkt_len_mean    flow_byts_s  flow_pkts_s  ...  down_up_ratio  \\\n",
       "7945668              155.0  246808.510638  2127.659574  ...              1   \n",
       "14495017               0.0       0.000000   464.252553  ...              0   \n",
       "\n",
       "          init_fwd_win_byts  init_bwd_win_byts  fwd_seg_size_min  active_mean  \\\n",
       "7945668        12088.350041       17682.268468                 8          0.0   \n",
       "14495017         225.000000       17682.268468                32          0.0   \n",
       "\n",
       "          idle_mean  protocol_0  protocol_6  protocol_17  if_scores  \n",
       "7945668         0.0           0           0            1   0.049665  \n",
       "14495017        0.0           0           1            0   0.101550  \n",
       "\n",
       "[2 rows x 34 columns]"
      ]
     },
     "execution_count": 81,
     "metadata": {},
     "output_type": "execute_result"
    }
   ],
   "source": [
    "dataset_test1 = X_test_oh.copy()\n",
    "y_pred1=model.predict(X_test_oh)\n",
    "dataset_test1['if_scores']=model.decision_function(X_test_oh)\n",
    "dataset_test1.head(2)"
   ]
  },
  {
   "cell_type": "code",
   "execution_count": 83,
   "metadata": {},
   "outputs": [
    {
     "data": {
      "text/html": [
       "<div>\n",
       "<style scoped>\n",
       "    .dataframe tbody tr th:only-of-type {\n",
       "        vertical-align: middle;\n",
       "    }\n",
       "\n",
       "    .dataframe tbody tr th {\n",
       "        vertical-align: top;\n",
       "    }\n",
       "\n",
       "    .dataframe thead th {\n",
       "        text-align: right;\n",
       "    }\n",
       "</style>\n",
       "<table border=\"1\" class=\"dataframe\">\n",
       "  <thead>\n",
       "    <tr style=\"text-align: right;\">\n",
       "      <th></th>\n",
       "      <th>flow_duration</th>\n",
       "      <th>tot_fwd_pkts</th>\n",
       "      <th>tot_bwd_pkts</th>\n",
       "      <th>totlen_fwd_pkts</th>\n",
       "      <th>totlen_bwd_pkts</th>\n",
       "      <th>fwd_pkt_len_mean</th>\n",
       "      <th>fwd_pkt_len_std</th>\n",
       "      <th>bwd_pkt_len_mean</th>\n",
       "      <th>flow_byts_s</th>\n",
       "      <th>flow_pkts_s</th>\n",
       "      <th>...</th>\n",
       "      <th>fwd_seg_size_min</th>\n",
       "      <th>active_mean</th>\n",
       "      <th>idle_mean</th>\n",
       "      <th>protocol_0</th>\n",
       "      <th>protocol_6</th>\n",
       "      <th>protocol_17</th>\n",
       "      <th>if_scores</th>\n",
       "      <th>is_attack</th>\n",
       "      <th>if_anomaly</th>\n",
       "      <th>normal</th>\n",
       "    </tr>\n",
       "  </thead>\n",
       "  <tbody>\n",
       "    <tr>\n",
       "      <th>7945668</th>\n",
       "      <td>940.0</td>\n",
       "      <td>1</td>\n",
       "      <td>1</td>\n",
       "      <td>77</td>\n",
       "      <td>155</td>\n",
       "      <td>77.0</td>\n",
       "      <td>0.0</td>\n",
       "      <td>155.0</td>\n",
       "      <td>246808.510638</td>\n",
       "      <td>2127.659574</td>\n",
       "      <td>...</td>\n",
       "      <td>8</td>\n",
       "      <td>0.0</td>\n",
       "      <td>0.0</td>\n",
       "      <td>0</td>\n",
       "      <td>0</td>\n",
       "      <td>1</td>\n",
       "      <td>0.049665</td>\n",
       "      <td>0</td>\n",
       "      <td>1</td>\n",
       "      <td>1.0</td>\n",
       "    </tr>\n",
       "    <tr>\n",
       "      <th>14495017</th>\n",
       "      <td>4308.0</td>\n",
       "      <td>2</td>\n",
       "      <td>0</td>\n",
       "      <td>0</td>\n",
       "      <td>0</td>\n",
       "      <td>0.0</td>\n",
       "      <td>0.0</td>\n",
       "      <td>0.0</td>\n",
       "      <td>0.000000</td>\n",
       "      <td>464.252553</td>\n",
       "      <td>...</td>\n",
       "      <td>32</td>\n",
       "      <td>0.0</td>\n",
       "      <td>0.0</td>\n",
       "      <td>0</td>\n",
       "      <td>1</td>\n",
       "      <td>0</td>\n",
       "      <td>0.101550</td>\n",
       "      <td>1</td>\n",
       "      <td>1</td>\n",
       "      <td>-1.0</td>\n",
       "    </tr>\n",
       "  </tbody>\n",
       "</table>\n",
       "<p>2 rows × 37 columns</p>\n",
       "</div>"
      ],
      "text/plain": [
       "          flow_duration  tot_fwd_pkts  tot_bwd_pkts  totlen_fwd_pkts  \\\n",
       "7945668           940.0             1             1               77   \n",
       "14495017         4308.0             2             0                0   \n",
       "\n",
       "          totlen_bwd_pkts  fwd_pkt_len_mean  fwd_pkt_len_std  \\\n",
       "7945668               155              77.0              0.0   \n",
       "14495017                0               0.0              0.0   \n",
       "\n",
       "          bwd_pkt_len_mean    flow_byts_s  flow_pkts_s  ...  fwd_seg_size_min  \\\n",
       "7945668              155.0  246808.510638  2127.659574  ...                 8   \n",
       "14495017               0.0       0.000000   464.252553  ...                32   \n",
       "\n",
       "          active_mean  idle_mean  protocol_0  protocol_6  protocol_17  \\\n",
       "7945668           0.0        0.0           0           0            1   \n",
       "14495017          0.0        0.0           0           1            0   \n",
       "\n",
       "          if_scores  is_attack  if_anomaly  normal  \n",
       "7945668    0.049665          0           1     1.0  \n",
       "14495017   0.101550          1           1    -1.0  \n",
       "\n",
       "[2 rows x 37 columns]"
      ]
     },
     "execution_count": 83,
     "metadata": {},
     "output_type": "execute_result"
    }
   ],
   "source": [
    "dataset_test1['is_attack'] = y_test.label_is_attack\n",
    "dataset_test1['if_anomaly']=list(y_pred1)\n",
    "dataset_test1.loc[dataset_test1['is_attack'] ==1, 'normal'] = -1\n",
    "dataset_test1.loc[dataset_test1['is_attack'] ==0, 'normal'] = 1\n",
    "dataset_test1.head(2)"
   ]
  },
  {
   "cell_type": "code",
   "execution_count": 84,
   "metadata": {},
   "outputs": [
    {
     "name": "stdout",
     "output_type": "stream",
     "text": [
      "              precision    recall  f1-score   support\n",
      "\n",
      "        -1.0       0.05      0.05      0.05    274824\n",
      "         1.0       0.81      0.82      0.81   1348471\n",
      "\n",
      "    accuracy                           0.69   1623295\n",
      "   macro avg       0.43      0.43      0.43   1623295\n",
      "weighted avg       0.68      0.69      0.68   1623295\n",
      "\n"
     ]
    }
   ],
   "source": [
    "print(classification_report(dataset_test1['normal'],dataset_test1['if_anomaly']))"
   ]
  },
  {
   "cell_type": "code",
   "execution_count": 103,
   "metadata": {},
   "outputs": [],
   "source": [
    "predicted_anomaly_index1=dataset_test1.loc[dataset_test1['if_anomaly']==-1]\n",
    "predicted_anomaly_index1=list(predicted_anomaly_index1.index)\n",
    "original_anomaly_index1=dataset_test1.loc[dataset_test1['normal']==-1]\n",
    "original_anomaly_index1=list(original_anomaly_index1.index)"
   ]
  },
  {
   "cell_type": "code",
   "execution_count": 104,
   "metadata": {},
   "outputs": [
    {
     "data": {
      "image/png": "[encoded data removed]",
      "text/plain": [
       "<Figure size 1800x360 with 2 Axes>"
      ]
     },
     "metadata": {
      "needs_background": "light"
     },
     "output_type": "display_data"
    }
   ],
   "source": [
    "fig=plt.figure(figsize=(25, 5))\n",
    "ax= fig.add_subplot(131, projection='3d')\n",
    "ax.scatter(X_reduced[:,0],X_reduced[:,1], zs=X_reduced[:,2], s=4, lw=1, label='inlier', c=\"green\", marker=\"o\")\n",
    "ax.scatter(X_reduced[original_anomaly_index1,0],X_reduced[original_anomaly_index1,1], zs=X_reduced[original_anomaly_index1,2], lw=2, s=60, marker=\"x\", c=\"red\", label=\"outliers\")\n",
    "ax.legend(loc='lower left')\n",
    "plt.title('Outliers on Original scaled data')\n",
    "ax= fig.add_subplot(132, projection='3d')\n",
    "plt.title('Outliers suing Isolation Forest')\n",
    "ax.scatter(X_reduced[:,0],X_reduced[:,1], zs=X_reduced[:,2], s=4, lw=1, label='inlier', c=\"green\", marker=\"o\")\n",
    "ax.scatter(X_reduced[predicted_anomaly_index1,0],X_reduced[predicted_anomaly_index1,1], zs=X_reduced[predicted_anomaly_index1,2], lw=2, s=60, marker=\"x\", c=\"red\", label=\"outliers\")\n",
    "ax.legend(loc='lower left')\n",
    "plt.show()"
   ]
  },
  {
   "cell_type": "markdown",
   "metadata": {},
   "source": [
    "### 4.4 LOF (Local Outlier Factor) detection"
   ]
  },
  {
   "cell_type": "code",
   "execution_count": 70,
   "metadata": {},
   "outputs": [
    {
     "data": {
      "text/plain": [
       "Index(['protocol', 'flow_duration', 'tot_fwd_pkts', 'tot_bwd_pkts',\n",
       "       'totlen_fwd_pkts', 'totlen_bwd_pkts', 'fwd_pkt_len_mean',\n",
       "       'fwd_pkt_len_std', 'bwd_pkt_len_mean', 'flow_byts_s', 'flow_pkts_s',\n",
       "       'flow_iat_std', 'flow_iat_min', 'fwd_iat_tot', 'fwd_iat_min',\n",
       "       'bwd_iat_tot', 'bwd_iat_min', 'fwd_psh_flags', 'fwd_urg_flags',\n",
       "       'bwd_pkts_s', 'fin_flag_cnt', 'rst_flag_cnt', 'psh_flag_cnt',\n",
       "       'ack_flag_cnt', 'urg_flag_cnt', 'down_up_ratio', 'init_fwd_win_byts',\n",
       "       'init_bwd_win_byts', 'fwd_seg_size_min', 'active_mean', 'idle_mean',\n",
       "       'label_is_attack', 'label_code', 'label'],\n",
       "      dtype='object')"
      ]
     },
     "execution_count": 70,
     "metadata": {},
     "output_type": "execute_result"
    }
   ],
   "source": [
    "df.columns"
   ]
  },
  {
   "cell_type": "code",
   "execution_count": 71,
   "metadata": {},
   "outputs": [],
   "source": [
    "X = df.drop(['label_is_attack','label_code','label'],axis = 1)\n",
    "y = df.label_is_attack"
   ]
  },
  {
   "cell_type": "code",
   "execution_count": 72,
   "metadata": {},
   "outputs": [],
   "source": [
    "X1=X.copy()\n",
    "features = list(X1)"
   ]
  },
  {
   "cell_type": "code",
   "execution_count": 73,
   "metadata": {},
   "outputs": [],
   "source": [
    "for i in range(len(features)):\n",
    "    X1[features[i]] =  pd.to_numeric(X1[features[i]], errors='coerce')\n",
    "\n",
    "# Creating a new normalized dataframe\n",
    "X1 = X1[features].dropna()\n",
    "min_max_scaler = preprocessing.StandardScaler()\n",
    "np_scaled = min_max_scaler.fit_transform(X1)\n",
    "X1 = pd.DataFrame(np_scaled)\n",
    "\n",
    "# Principle Component Analasys Step\n",
    "pca = PCA(n_components=2)\n",
    "X1 = pca.fit_transform(X1)\n",
    "np_scaled = min_max_scaler.fit_transform(X1)\n",
    "X1 = pd.DataFrame(np_scaled)"
   ]
  },
  {
   "cell_type": "code",
   "execution_count": 74,
   "metadata": {},
   "outputs": [],
   "source": [
    "from sklearn.neighbors import LocalOutlierFactor \n",
    "# fit the model for outlier detection (default)\n",
    "clf = LocalOutlierFactor(n_neighbors=20, contamination=0.1)\n",
    "y_pred1 = clf.fit_predict(X1)"
   ]
  },
  {
   "cell_type": "code",
   "execution_count": 75,
   "metadata": {},
   "outputs": [],
   "source": [
    "y_true=y"
   ]
  },
  {
   "cell_type": "code",
   "execution_count": 76,
   "metadata": {},
   "outputs": [
    {
     "data": {
      "text/plain": [
       "0           1\n",
       "1           1\n",
       "2           1\n",
       "3           1\n",
       "4           1\n",
       "           ..\n",
       "16232938   -1\n",
       "16232939   -1\n",
       "16232940    1\n",
       "16232941   -1\n",
       "16232942   -1\n",
       "Name: label_is_attack, Length: 16232943, dtype: int64"
      ]
     },
     "execution_count": 76,
     "metadata": {},
     "output_type": "execute_result"
    }
   ],
   "source": [
    "y_true=y_true.replace(to_replace=1,value=-1)\n",
    "y_true=y_true.replace(to_replace=0,value=1)\n",
    "y_true"
   ]
  },
  {
   "cell_type": "code",
   "execution_count": 155,
   "metadata": {},
   "outputs": [
    {
     "data": {
      "image/png": "[encoded data removed]",
      "text/plain": [
       "<Figure size 432x288 with 1 Axes>"
      ]
     },
     "metadata": {},
     "output_type": "display_data"
    }
   ],
   "source": [
    "ground_truth = np.ones(len(X1), dtype=int)\n",
    "n_errors = (y_pred1 != ground_truth).sum()\n",
    "X_scores = clf.negative_outlier_factor_\n",
    "\n",
    "plt.title(\"Local Outlier Factor (LOF)\")\n",
    "plt.scatter(X1[0], X1[1], \n",
    "            color='k', s=3., label='Data points')\n",
    "\n",
    "# plot circles with radius proportional to the outlier scores\n",
    "radius = (X_scores.max() - X_scores) / (X_scores.max() - X_scores.min())\n",
    "plt.scatter(X1[0], X1[1],\n",
    "            s=1000 * radius, edgecolors='r',\n",
    "            facecolors='none', label='Outlier scores')\n",
    "plt.axis('tight')\n",
    "plt.xlim((-10, 10))\n",
    "plt.ylim((-10, 10))\n",
    "plt.xlabel(\"prediction errors: %d\" % (n_errors))\n",
    "legend = plt.legend(loc='upper left')\n",
    "legend.legendHandles[0]._sizes = [10]\n",
    "legend.legendHandles[1]._sizes = [20]\n",
    "plt.show()"
   ]
  },
  {
   "cell_type": "code",
   "execution_count": 77,
   "metadata": {},
   "outputs": [
    {
     "name": "stdout",
     "output_type": "stream",
     "text": [
      "              precision    recall  f1-score   support\n",
      "\n",
      "          -1       0.09      0.05      0.07   2748235\n",
      "           1       0.82      0.89      0.86  13484708\n",
      "\n",
      "    accuracy                           0.75  16232943\n",
      "   macro avg       0.46      0.47      0.46  16232943\n",
      "weighted avg       0.70      0.75      0.72  16232943\n",
      "\n"
     ]
    }
   ],
   "source": [
    "print(classification_report(y_true,y_pred1))"
   ]
  },
  {
   "cell_type": "code",
   "execution_count": 67,
   "metadata": {},
   "outputs": [],
   "source": [
    "joblib.dump(clf, 'LOF.pkl')"
   ]
  },
  {
   "cell_type": "code",
   "execution_count": 66,
   "metadata": {},
   "outputs": [],
   "source": [
    "model_LOF = joblib.load('LOF.pkl')"
   ]
  },
  {
   "cell_type": "code",
   "execution_count": null,
   "metadata": {},
   "outputs": [],
   "source": [
    "model_LOF.fit_predict"
   ]
  },
  {
   "cell_type": "markdown",
   "metadata": {},
   "source": [
    "## Combined Models"
   ]
  },
  {
   "cell_type": "markdown",
   "metadata": {},
   "source": [
    "### Kmeans with logistic regression and random forest"
   ]
  },
  {
   "cell_type": "code",
   "execution_count": 283,
   "metadata": {},
   "outputs": [],
   "source": [
    "X_train_oh=X_train_oh.drop(['km_clust'],axis=1)\n",
    "X_test_oh = X_test_oh.drop(['km_clust'],axis=1)"
   ]
  },
  {
   "cell_type": "code",
   "execution_count": 268,
   "metadata": {},
   "outputs": [
    {
     "data": {
      "text/plain": [
       "8"
      ]
     },
     "execution_count": 268,
     "metadata": {},
     "output_type": "execute_result"
    }
   ],
   "source": [
    "import threading\n",
    "threading.activeCount()"
   ]
  },
  {
   "cell_type": "code",
   "execution_count": 5,
   "metadata": {},
   "outputs": [],
   "source": [
    "import time\n",
    "from sklearn.preprocessing import LabelEncoder\n",
    "from sklearn.impute import SimpleImputer"
   ]
  },
  {
   "cell_type": "code",
   "execution_count": 270,
   "metadata": {},
   "outputs": [],
   "source": [
    "def timeit(method):\n",
    "    def timed(*args, **kw):\n",
    "        ts = time.time()\n",
    "        result = method(*args, **kw)\n",
    "        te = time.time()\n",
    "        if 'log_time' in kw:\n",
    "            name = kw.get('log_name', method.__name__.upper())\n",
    "            kw['log_time'][name] = int((te - ts) * 1000)\n",
    "        else:\n",
    "            print('%r  %2.2f ms' % \\\n",
    "                  (method.__name__, (te - ts) * 1000))\n",
    "        return result\n",
    "    return timed"
   ]
  },
  {
   "cell_type": "code",
   "execution_count": 294,
   "metadata": {},
   "outputs": [],
   "source": [
    "class clust():\n",
    "    def _load_data(self):\n",
    "        self.X_train, self.X_test, self.y_train, self.y_test = X_train_oh, X_test_oh,y_train.label_is_attack,y_test.label_is_attack \n",
    "    def __init__(self):\n",
    "        self._load_data()\n",
    "    @timeit\n",
    "    def classify(self, model=RandomForestClassifier(verbose=1, n_jobs=32, class_weight='balanced')):\n",
    "        model.fit(self.X_train, self.y_train)\n",
    "        y_pred = model.predict(self.X_test)\n",
    "        print('Accuracy: {}'.format(accuracy_score(self.y_test, y_pred))) \n",
    "        print('F1 Score: {}'.format(f1_score(self.y_test, y_pred)))\n",
    "     \n",
    "    @timeit\n",
    "    def classifylog(self, model=LogisticRegression(solver='saga', n_jobs=32, verbose=2)):\n",
    "        scaler = StandardScaler()\n",
    "        scaler.fit(self.X_train)\n",
    "        model.fit(scaler.transform(self.X_train), self.y_train)\n",
    "        y_pred = model.predict(self.X_test)\n",
    "        print('Accuracy: {}'.format(accuracy_score(self.y_test, y_pred)))\n",
    "        print('F1 Score: {}'.format(f1_score(self.y_test, y_pred)))\n",
    "        print('Precision Score: {}'.format(precision_score(self.y_test, y_pred)))\n",
    "        print('Recall Score: {}'.format(recall_score(self.y_test, y_pred)))\n",
    "        \n",
    "    @timeit\n",
    "    def Kmeans(self,output='add'):\n",
    "        n_clusters = len(np.unique(self.y_train))\n",
    "        clf = KMeans(n_clusters = n_clusters, random_state=42)\n",
    "        clf.fit(self.X_train)\n",
    "        y_labels_train = clf.labels_\n",
    "        y_labels_test = clf.predict(self.X_test)\n",
    "        if output == 'add':\n",
    "            self.X_train['km_clust'] = y_labels_train\n",
    "            self.X_test['km_clust'] = y_labels_test\n",
    "        elif output == 'replace':\n",
    "            self.X_train = y_labels_train[:, np.newaxis]\n",
    "            print(self.X_train)\n",
    "            print(self.X_train.shape)\n",
    "            self.X_test = y_labels_test[:, np.newaxis]\n",
    "        else:\n",
    "            raise ValueError('output should be either add or replace')\n",
    "        return self"
   ]
  },
  {
   "cell_type": "code",
   "execution_count": 290,
   "metadata": {},
   "outputs": [
    {
     "data": {
      "text/plain": [
       "(12986354, 34)"
      ]
     },
     "execution_count": 290,
     "metadata": {},
     "output_type": "execute_result"
    }
   ],
   "source": [
    "clust().X_train.shape"
   ]
  },
  {
   "cell_type": "markdown",
   "metadata": {},
   "source": [
    "#### Kmeans with logistic regression"
   ]
  },
  {
   "cell_type": "code",
   "execution_count": 9,
   "metadata": {},
   "outputs": [],
   "source": [
    "features = list(X_train_oh)\n",
    "for i in range(len(features)):\n",
    "    X_train_oh[features[i]] =  pd.to_numeric(X_train_oh[features[i]], errors='coerce')\n",
    "# Creating a new normalized dataframe\n",
    "X2 = X_train_oh[features].dropna()\n",
    "min_max_scaler = preprocessing.StandardScaler()\n",
    "np_scaled = min_max_scaler.fit_transform(X2)\n",
    "X2 = pd.DataFrame(np_scaled)\n",
    "# Principle Component Analasys Step\n",
    "pca = PCA(n_components=2)\n",
    "X2 = pca.fit_transform(X2)\n",
    "np_scaled = min_max_scaler.fit_transform(X2)\n",
    "X2 = pd.DataFrame(np_scaled)\n",
    "#Initialize the class object\n",
    "kmeans2 = KMeans(n_clusters= 2)\n",
    " \n",
    "#predict the labels of clusters.\n",
    "label = kmeans2.fit_predict(X2)\n"
   ]
  },
  {
   "cell_type": "code",
   "execution_count": 10,
   "metadata": {},
   "outputs": [],
   "source": [
    "features = list(X_test_oh)\n",
    "for i in range(len(features)):\n",
    "    X_test_oh[features[i]] =  pd.to_numeric(X_test_oh[features[i]], errors='coerce')\n",
    "# Creating a new normalized dataframe\n",
    "X3 = X_test_oh[features].dropna()\n",
    "min_max_scaler = preprocessing.StandardScaler()\n",
    "np_scaled = min_max_scaler.fit_transform(X3)\n",
    "X3 = pd.DataFrame(np_scaled)\n",
    "# Principle Component Analasys Step\n",
    "pca = PCA(n_components=2)\n",
    "X3 = pca.fit_transform(X3)\n",
    "np_scaled = min_max_scaler.fit_transform(X3)\n",
    "X3 = pd.DataFrame(np_scaled)\n",
    "#Initialize the class object\n",
    "kmeans3 = KMeans(n_clusters= 2)\n",
    " \n",
    "#predict the labels of clusters.\n",
    "label1 = kmeans3.fit_predict(X3)\n"
   ]
  },
  {
   "cell_type": "code",
   "execution_count": 11,
   "metadata": {},
   "outputs": [],
   "source": [
    "train_log = X_train_oh.copy()\n",
    "train_log['clus'] = label\n",
    "test_log = X_test_oh.copy()\n",
    "test_log['clus'] = label1"
   ]
  },
  {
   "cell_type": "code",
   "execution_count": 10,
   "metadata": {},
   "outputs": [
    {
     "data": {
      "text/plain": [
       "StandardScaler()"
      ]
     },
     "execution_count": 10,
     "metadata": {},
     "output_type": "execute_result"
    }
   ],
   "source": [
    "scaler = StandardScaler()\n",
    "scaler.fit(train_log)"
   ]
  },
  {
   "cell_type": "code",
   "execution_count": 11,
   "metadata": {},
   "outputs": [
    {
     "name": "stderr",
     "output_type": "stream",
     "text": [
      "[Parallel(n_jobs=32)]: Using backend ThreadingBackend with 32 concurrent workers.\n"
     ]
    },
    {
     "name": "stdout",
     "output_type": "stream",
     "text": [
      "max_iter reached after 2772 seconds\n"
     ]
    },
    {
     "name": "stderr",
     "output_type": "stream",
     "text": [
      "[Parallel(n_jobs=32)]: Done   1 out of   1 | elapsed: 46.2min finished\n"
     ]
    },
    {
     "data": {
      "text/plain": [
       "LogisticRegression(n_jobs=32, solver='saga', verbose=2)"
      ]
     },
     "execution_count": 11,
     "metadata": {},
     "output_type": "execute_result"
    }
   ],
   "source": [
    "cls_lr = LogisticRegression(solver='saga', n_jobs=32, verbose=2)\n",
    "cls_lr.fit(scaler.transform(train_log), y_train.label_is_attack)"
   ]
  },
  {
   "cell_type": "code",
   "execution_count": 12,
   "metadata": {},
   "outputs": [
    {
     "name": "stdout",
     "output_type": "stream",
     "text": [
      "Classification Report (Test):\n",
      "              precision    recall  f1-score   support\n",
      "\n",
      "           0       0.91      0.96      0.94   1348471\n",
      "           1       0.74      0.55      0.63    274824\n",
      "\n",
      "    accuracy                           0.89   1623295\n",
      "   macro avg       0.82      0.76      0.78   1623295\n",
      "weighted avg       0.88      0.89      0.88   1623295\n",
      "\n",
      "Avg Precision Score: 0.4829066730293959\n"
     ]
    },
    {
     "data": {
      "image/png": "[encoded data removed]",
      "text/plain": [
       "<Figure size 432x288 with 1 Axes>"
      ]
     },
     "metadata": {
      "needs_background": "light"
     },
     "output_type": "display_data"
    },
    {
     "name": "stdout",
     "output_type": "stream",
     "text": [
      "\n",
      "\n"
     ]
    }
   ],
   "source": [
    "print_report('Test', cls_lr, scaler.transform(test_log), y_test.label_is_attack, cls_lr.predict(scaler.transform(test_log)), plot_pr=True)"
   ]
  },
  {
   "cell_type": "markdown",
   "metadata": {},
   "source": [
    "Kmeans with random forest"
   ]
  },
  {
   "cell_type": "code",
   "execution_count": 12,
   "metadata": {},
   "outputs": [
    {
     "name": "stderr",
     "output_type": "stream",
     "text": [
      "[Parallel(n_jobs=32)]: Using backend ThreadingBackend with 32 concurrent workers.\n",
      "[Parallel(n_jobs=32)]: Done 100 out of 100 | elapsed: 15.7min finished\n"
     ]
    },
    {
     "data": {
      "text/plain": [
       "RandomForestClassifier(class_weight='balanced', n_jobs=32, verbose=1)"
      ]
     },
     "execution_count": 12,
     "metadata": {},
     "output_type": "execute_result"
    }
   ],
   "source": [
    "model = RandomForestClassifier(verbose=1, n_jobs=32, class_weight='balanced')\n",
    "model.fit(train_log,  y_train.label_is_attack)"
   ]
  },
  {
   "cell_type": "code",
   "execution_count": 13,
   "metadata": {},
   "outputs": [
    {
     "name": "stderr",
     "output_type": "stream",
     "text": [
      "[Parallel(n_jobs=32)]: Using backend ThreadingBackend with 32 concurrent workers.\n",
      "[Parallel(n_jobs=32)]: Done 100 out of 100 | elapsed:    5.2s finished\n"
     ]
    }
   ],
   "source": [
    "y_pred = model.predict(test_log)"
   ]
  },
  {
   "cell_type": "code",
   "execution_count": 14,
   "metadata": {},
   "outputs": [
    {
     "name": "stdout",
     "output_type": "stream",
     "text": [
      "Classification Report (Test):\n",
      "              precision    recall  f1-score   support\n",
      "\n",
      "           0       0.99      0.99      0.99   1348471\n",
      "           1       0.97      0.95      0.96    274824\n",
      "\n",
      "    accuracy                           0.99   1623295\n",
      "   macro avg       0.98      0.97      0.98   1623295\n",
      "weighted avg       0.99      0.99      0.99   1623295\n",
      "\n",
      "Avg Precision Score: 0.931931821900797\n",
      "\n",
      "\n"
     ]
    }
   ],
   "source": [
    "print_report('Test', model, test_log, y_test.label_is_attack, y_pred)"
   ]
  },
  {
   "cell_type": "code",
   "execution_count": 292,
   "metadata": {},
   "outputs": [
    {
     "name": "stdout",
     "output_type": "stream",
     "text": [
      "'Kmeans'  143570.92 ms\n"
     ]
    },
    {
     "name": "stderr",
     "output_type": "stream",
     "text": [
      "[Parallel(n_jobs=32)]: Using backend ThreadingBackend with 32 concurrent workers.\n",
      "[Parallel(n_jobs=32)]: Done 100 out of 100 | elapsed: 15.9min finished\n",
      "[Parallel(n_jobs=32)]: Using backend ThreadingBackend with 32 concurrent workers.\n",
      "[Parallel(n_jobs=32)]: Done 100 out of 100 | elapsed:    7.0s finished\n"
     ]
    },
    {
     "name": "stdout",
     "output_type": "stream",
     "text": [
      "Accuracy: 0.9856415500571368\n",
      "F1 Score: 0.9574353074380468\n",
      "'classify'  979023.72 ms\n"
     ]
    }
   ],
   "source": [
    "result1 = clust().Kmeans().classify()\n",
    "result1 "
   ]
  },
  {
   "cell_type": "markdown",
   "metadata": {},
   "source": [
    "### LOF and Random Forest"
   ]
  },
  {
   "cell_type": "markdown",
   "metadata": {},
   "source": [
    "LOF on training dataset"
   ]
  },
  {
   "cell_type": "code",
   "execution_count": 138,
   "metadata": {},
   "outputs": [],
   "source": [
    "X=X_train_oh.copy()"
   ]
  },
  {
   "cell_type": "code",
   "execution_count": 139,
   "metadata": {},
   "outputs": [],
   "source": [
    "X_train_LOF = X.copy()\n",
    "features = list(X_train_LOF)\n",
    "for i in range(len(features)):\n",
    "    X_train_LOF[features[i]] =  pd.to_numeric(X_train_LOF[features[i]], errors='coerce')\n",
    "\n",
    "# Creating a new normalized dataframe\n",
    "X_train_LOF = X_train_LOF[features].dropna()\n",
    "min_max_scaler = preprocessing.StandardScaler()\n",
    "np_scaled = min_max_scaler.fit_transform(X_train_LOF)\n",
    "X_train_LOF = pd.DataFrame(np_scaled)\n",
    "\n",
    "# Principle Component Analasys Step\n",
    "pca = PCA(n_components=2)\n",
    "X_train_LOF = pca.fit_transform(X_train_LOF)\n",
    "np_scaled = min_max_scaler.fit_transform(X_train_LOF)\n",
    "X_train_LOF = pd.DataFrame(np_scaled)"
   ]
  },
  {
   "cell_type": "code",
   "execution_count": 140,
   "metadata": {},
   "outputs": [],
   "source": [
    "X1=X_test_oh.copy()"
   ]
  },
  {
   "cell_type": "code",
   "execution_count": 141,
   "metadata": {},
   "outputs": [],
   "source": [
    "X1=X_test_oh.copy()\n",
    "X_test_LOF = X1.copy()\n",
    "features = list(X_test_LOF)\n",
    "for i in range(len(features)):\n",
    "    X_test_LOF[features[i]] =  pd.to_numeric(X_test_LOF[features[i]], errors='coerce')\n",
    "\n",
    "# Creating a new normalized dataframe\n",
    "X_test_LOF = X_test_LOF[features].dropna()\n",
    "min_max_scaler = preprocessing.StandardScaler()\n",
    "np_scaled = min_max_scaler.fit_transform(X_test_LOF)\n",
    "X_test_LOF = pd.DataFrame(np_scaled)\n",
    "\n",
    "# Principle Component Analasys Step\n",
    "pca = PCA(n_components=2)\n",
    "X_test_LOF = pca.fit_transform(X_test_LOF)\n",
    "np_scaled = min_max_scaler.fit_transform(X_test_LOF)\n",
    "X_test_LOF = pd.DataFrame(np_scaled)"
   ]
  },
  {
   "cell_type": "code",
   "execution_count": 142,
   "metadata": {},
   "outputs": [],
   "source": [
    "LOF = LocalOutlierFactor(n_neighbors=20, novelty=False, contamination=0.16,n_jobs=32)"
   ]
  },
  {
   "cell_type": "code",
   "execution_count": 143,
   "metadata": {},
   "outputs": [],
   "source": [
    "y_labels_test = LOF.fit_predict(X_test_LOF)"
   ]
  },
  {
   "cell_type": "code",
   "execution_count": 144,
   "metadata": {},
   "outputs": [
    {
     "data": {
      "text/html": [
       "<div>\n",
       "<style scoped>\n",
       "    .dataframe tbody tr th:only-of-type {\n",
       "        vertical-align: middle;\n",
       "    }\n",
       "\n",
       "    .dataframe tbody tr th {\n",
       "        vertical-align: top;\n",
       "    }\n",
       "\n",
       "    .dataframe thead th {\n",
       "        text-align: right;\n",
       "    }\n",
       "</style>\n",
       "<table border=\"1\" class=\"dataframe\">\n",
       "  <thead>\n",
       "    <tr style=\"text-align: right;\">\n",
       "      <th></th>\n",
       "      <th>flow_duration</th>\n",
       "      <th>tot_fwd_pkts</th>\n",
       "      <th>tot_bwd_pkts</th>\n",
       "      <th>totlen_fwd_pkts</th>\n",
       "      <th>totlen_bwd_pkts</th>\n",
       "      <th>fwd_pkt_len_mean</th>\n",
       "      <th>fwd_pkt_len_std</th>\n",
       "      <th>bwd_pkt_len_mean</th>\n",
       "      <th>flow_byts_s</th>\n",
       "      <th>flow_pkts_s</th>\n",
       "      <th>...</th>\n",
       "      <th>init_bwd_win_byts</th>\n",
       "      <th>fwd_seg_size_min</th>\n",
       "      <th>active_mean</th>\n",
       "      <th>idle_mean</th>\n",
       "      <th>protocol_0</th>\n",
       "      <th>protocol_6</th>\n",
       "      <th>protocol_17</th>\n",
       "      <th>is_attack</th>\n",
       "      <th>if_anomaly</th>\n",
       "      <th>normal</th>\n",
       "    </tr>\n",
       "  </thead>\n",
       "  <tbody>\n",
       "    <tr>\n",
       "      <th>7945668</th>\n",
       "      <td>940.0</td>\n",
       "      <td>1</td>\n",
       "      <td>1</td>\n",
       "      <td>77</td>\n",
       "      <td>155</td>\n",
       "      <td>77.0</td>\n",
       "      <td>0.0</td>\n",
       "      <td>155.0</td>\n",
       "      <td>246808.510638</td>\n",
       "      <td>2127.659574</td>\n",
       "      <td>...</td>\n",
       "      <td>17682.268468</td>\n",
       "      <td>8</td>\n",
       "      <td>0.0</td>\n",
       "      <td>0.0</td>\n",
       "      <td>0</td>\n",
       "      <td>0</td>\n",
       "      <td>1</td>\n",
       "      <td>0</td>\n",
       "      <td>1</td>\n",
       "      <td>1.0</td>\n",
       "    </tr>\n",
       "    <tr>\n",
       "      <th>14495017</th>\n",
       "      <td>4308.0</td>\n",
       "      <td>2</td>\n",
       "      <td>0</td>\n",
       "      <td>0</td>\n",
       "      <td>0</td>\n",
       "      <td>0.0</td>\n",
       "      <td>0.0</td>\n",
       "      <td>0.0</td>\n",
       "      <td>0.000000</td>\n",
       "      <td>464.252553</td>\n",
       "      <td>...</td>\n",
       "      <td>17682.268468</td>\n",
       "      <td>32</td>\n",
       "      <td>0.0</td>\n",
       "      <td>0.0</td>\n",
       "      <td>0</td>\n",
       "      <td>1</td>\n",
       "      <td>0</td>\n",
       "      <td>1</td>\n",
       "      <td>1</td>\n",
       "      <td>-1.0</td>\n",
       "    </tr>\n",
       "  </tbody>\n",
       "</table>\n",
       "<p>2 rows × 36 columns</p>\n",
       "</div>"
      ],
      "text/plain": [
       "          flow_duration  tot_fwd_pkts  tot_bwd_pkts  totlen_fwd_pkts  \\\n",
       "7945668           940.0             1             1               77   \n",
       "14495017         4308.0             2             0                0   \n",
       "\n",
       "          totlen_bwd_pkts  fwd_pkt_len_mean  fwd_pkt_len_std  \\\n",
       "7945668               155              77.0              0.0   \n",
       "14495017                0               0.0              0.0   \n",
       "\n",
       "          bwd_pkt_len_mean    flow_byts_s  flow_pkts_s  ...  \\\n",
       "7945668              155.0  246808.510638  2127.659574  ...   \n",
       "14495017               0.0       0.000000   464.252553  ...   \n",
       "\n",
       "          init_bwd_win_byts  fwd_seg_size_min  active_mean  idle_mean  \\\n",
       "7945668        17682.268468                 8          0.0        0.0   \n",
       "14495017       17682.268468                32          0.0        0.0   \n",
       "\n",
       "          protocol_0  protocol_6  protocol_17  is_attack  if_anomaly  normal  \n",
       "7945668            0           0            1          0           1     1.0  \n",
       "14495017           0           1            0          1           1    -1.0  \n",
       "\n",
       "[2 rows x 36 columns]"
      ]
     },
     "execution_count": 144,
     "metadata": {},
     "output_type": "execute_result"
    }
   ],
   "source": [
    "X1['is_attack'] = y_test.label_is_attack\n",
    "X1['if_anomaly']=list(y_labels_test)\n",
    "X1.loc[X1['is_attack'] ==1, 'normal'] = -1\n",
    "X1.loc[X1['is_attack'] ==0, 'normal'] = 1\n",
    "X1.head(2)"
   ]
  },
  {
   "cell_type": "code",
   "execution_count": 145,
   "metadata": {},
   "outputs": [
    {
     "name": "stdout",
     "output_type": "stream",
     "text": [
      " Accuracy Score for LOF : 0.6998746376967834\n",
      " Accuracy Score for LOF : 0.8203594492407554\n",
      " Precision for LOF : 0.8158183646274807\n",
      " Recall for LOF : 0.8249513708489096\n"
     ]
    }
   ],
   "source": [
    "print(\" Accuracy Score for LOF :\",accuracy_score(X1['normal'], X1['if_anomaly']))\n",
    "print(\" Accuracy Score for LOF :\",f1_score(X1['normal'], X1['if_anomaly']))\n",
    "print(\" Precision for LOF :\", precision_score(X1['normal'], X1['if_anomaly']))\n",
    "print(\" Recall for LOF :\", recall_score(X1['normal'], X1['if_anomaly']))"
   ]
  },
  {
   "cell_type": "code",
   "execution_count": 146,
   "metadata": {},
   "outputs": [],
   "source": [
    "LOF1 = LocalOutlierFactor(n_neighbors=20, novelty=False, contamination=0.16,n_jobs=32)"
   ]
  },
  {
   "cell_type": "code",
   "execution_count": 147,
   "metadata": {},
   "outputs": [],
   "source": [
    "out = LOF1.fit_predict(X_train_LOF)"
   ]
  },
  {
   "cell_type": "code",
   "execution_count": 148,
   "metadata": {},
   "outputs": [],
   "source": [
    "y_labels_train = out"
   ]
  },
  {
   "cell_type": "code",
   "execution_count": 149,
   "metadata": {},
   "outputs": [
    {
     "data": {
      "text/html": [
       "<div>\n",
       "<style scoped>\n",
       "    .dataframe tbody tr th:only-of-type {\n",
       "        vertical-align: middle;\n",
       "    }\n",
       "\n",
       "    .dataframe tbody tr th {\n",
       "        vertical-align: top;\n",
       "    }\n",
       "\n",
       "    .dataframe thead th {\n",
       "        text-align: right;\n",
       "    }\n",
       "</style>\n",
       "<table border=\"1\" class=\"dataframe\">\n",
       "  <thead>\n",
       "    <tr style=\"text-align: right;\">\n",
       "      <th></th>\n",
       "      <th>flow_duration</th>\n",
       "      <th>tot_fwd_pkts</th>\n",
       "      <th>tot_bwd_pkts</th>\n",
       "      <th>totlen_fwd_pkts</th>\n",
       "      <th>totlen_bwd_pkts</th>\n",
       "      <th>fwd_pkt_len_mean</th>\n",
       "      <th>fwd_pkt_len_std</th>\n",
       "      <th>bwd_pkt_len_mean</th>\n",
       "      <th>flow_byts_s</th>\n",
       "      <th>flow_pkts_s</th>\n",
       "      <th>...</th>\n",
       "      <th>init_bwd_win_byts</th>\n",
       "      <th>fwd_seg_size_min</th>\n",
       "      <th>active_mean</th>\n",
       "      <th>idle_mean</th>\n",
       "      <th>protocol_0</th>\n",
       "      <th>protocol_6</th>\n",
       "      <th>protocol_17</th>\n",
       "      <th>is_attack</th>\n",
       "      <th>if_anomaly</th>\n",
       "      <th>normal</th>\n",
       "    </tr>\n",
       "  </thead>\n",
       "  <tbody>\n",
       "    <tr>\n",
       "      <th>6676218</th>\n",
       "      <td>3133459.0</td>\n",
       "      <td>9</td>\n",
       "      <td>11</td>\n",
       "      <td>1278</td>\n",
       "      <td>1736</td>\n",
       "      <td>142.0</td>\n",
       "      <td>213.26744</td>\n",
       "      <td>157.81818</td>\n",
       "      <td>961.876316</td>\n",
       "      <td>6.382723</td>\n",
       "      <td>...</td>\n",
       "      <td>62856.0</td>\n",
       "      <td>20</td>\n",
       "      <td>0.0</td>\n",
       "      <td>0.0</td>\n",
       "      <td>0</td>\n",
       "      <td>1</td>\n",
       "      <td>0</td>\n",
       "      <td>0</td>\n",
       "      <td>1</td>\n",
       "      <td>1.0</td>\n",
       "    </tr>\n",
       "    <tr>\n",
       "      <th>15568248</th>\n",
       "      <td>2788351.0</td>\n",
       "      <td>10</td>\n",
       "      <td>7</td>\n",
       "      <td>1148</td>\n",
       "      <td>1581</td>\n",
       "      <td>114.8</td>\n",
       "      <td>210.09247</td>\n",
       "      <td>225.85715</td>\n",
       "      <td>978.714660</td>\n",
       "      <td>6.096793</td>\n",
       "      <td>...</td>\n",
       "      <td>62852.0</td>\n",
       "      <td>20</td>\n",
       "      <td>0.0</td>\n",
       "      <td>0.0</td>\n",
       "      <td>0</td>\n",
       "      <td>1</td>\n",
       "      <td>0</td>\n",
       "      <td>1</td>\n",
       "      <td>1</td>\n",
       "      <td>-1.0</td>\n",
       "    </tr>\n",
       "  </tbody>\n",
       "</table>\n",
       "<p>2 rows × 36 columns</p>\n",
       "</div>"
      ],
      "text/plain": [
       "          flow_duration  tot_fwd_pkts  tot_bwd_pkts  totlen_fwd_pkts  \\\n",
       "6676218       3133459.0             9            11             1278   \n",
       "15568248      2788351.0            10             7             1148   \n",
       "\n",
       "          totlen_bwd_pkts  fwd_pkt_len_mean  fwd_pkt_len_std  \\\n",
       "6676218              1736             142.0        213.26744   \n",
       "15568248             1581             114.8        210.09247   \n",
       "\n",
       "          bwd_pkt_len_mean  flow_byts_s  flow_pkts_s  ...  init_bwd_win_byts  \\\n",
       "6676218          157.81818   961.876316     6.382723  ...            62856.0   \n",
       "15568248         225.85715   978.714660     6.096793  ...            62852.0   \n",
       "\n",
       "          fwd_seg_size_min  active_mean  idle_mean  protocol_0  protocol_6  \\\n",
       "6676218                 20          0.0        0.0           0           1   \n",
       "15568248                20          0.0        0.0           0           1   \n",
       "\n",
       "          protocol_17  is_attack  if_anomaly  normal  \n",
       "6676218             0          0           1     1.0  \n",
       "15568248            0          1           1    -1.0  \n",
       "\n",
       "[2 rows x 36 columns]"
      ]
     },
     "execution_count": 149,
     "metadata": {},
     "output_type": "execute_result"
    }
   ],
   "source": [
    "X['is_attack'] = y_train.label_is_attack\n",
    "X['if_anomaly']=list(y_labels_train)\n",
    "X.loc[X['is_attack'] ==1, 'normal'] = -1\n",
    "X.loc[X['is_attack'] ==0, 'normal'] = 1\n",
    "X.head(2)"
   ]
  },
  {
   "cell_type": "code",
   "execution_count": 150,
   "metadata": {},
   "outputs": [
    {
     "name": "stdout",
     "output_type": "stream",
     "text": [
      " Accuracy Score for LOF : 0.7034202979527587\n",
      " f1 Score for LOF : 0.8224817841085645\n",
      " Precision for LOF : 0.8179288386701168\n",
      " Recall for LOF : 0.8270857005982517\n"
     ]
    }
   ],
   "source": [
    "print(\" Accuracy Score for LOF :\",accuracy_score(X['normal'], X['if_anomaly']))\n",
    "print(\" f1 Score for LOF :\",f1_score(X['normal'], X['if_anomaly']))\n",
    "print(\" Precision for LOF :\", precision_score(X['normal'], X['if_anomaly']))\n",
    "print(\" Recall for LOF :\", recall_score(X['normal'], X['if_anomaly']))"
   ]
  },
  {
   "cell_type": "markdown",
   "metadata": {},
   "source": [
    "#### Random Forest after LOF"
   ]
  },
  {
   "cell_type": "code",
   "execution_count": 151,
   "metadata": {},
   "outputs": [],
   "source": [
    "X_train_lo = X.drop(['normal','is_attack'],axis=1)\n",
    "y_train_lo = X['normal']"
   ]
  },
  {
   "cell_type": "code",
   "execution_count": 159,
   "metadata": {},
   "outputs": [
    {
     "name": "stderr",
     "output_type": "stream",
     "text": [
      "[Parallel(n_jobs=32)]: Using backend ThreadingBackend with 32 concurrent workers.\n",
      "[Parallel(n_jobs=32)]: Done 100 out of 100 | elapsed: 15.5min finished\n"
     ]
    },
    {
     "data": {
      "text/plain": [
       "RandomForestClassifier(class_weight='balanced', n_jobs=32, verbose=1)"
      ]
     },
     "execution_count": 159,
     "metadata": {},
     "output_type": "execute_result"
    }
   ],
   "source": [
    "model2 = RandomForestClassifier(verbose=1, n_jobs=32, class_weight='balanced')\n",
    "model2.fit(X_train_lo, y_train_lo)"
   ]
  },
  {
   "cell_type": "code",
   "execution_count": 152,
   "metadata": {},
   "outputs": [],
   "source": [
    "X_test_lo = X1.drop(['normal','is_attack'],axis=1)\n",
    "y_test_lo = X1['normal']"
   ]
  },
  {
   "cell_type": "code",
   "execution_count": 160,
   "metadata": {},
   "outputs": [
    {
     "name": "stderr",
     "output_type": "stream",
     "text": [
      "[Parallel(n_jobs=32)]: Using backend ThreadingBackend with 32 concurrent workers.\n",
      "[Parallel(n_jobs=32)]: Done 100 out of 100 | elapsed:    6.4s finished\n"
     ]
    }
   ],
   "source": [
    "y_pred_rf = model2.predict(X_test_lo)"
   ]
  },
  {
   "cell_type": "code",
   "execution_count": 161,
   "metadata": {},
   "outputs": [
    {
     "name": "stdout",
     "output_type": "stream",
     "text": [
      "Classification Report (Test):\n",
      "              precision    recall  f1-score   support\n",
      "\n",
      "        -1.0       0.96      0.95      0.96    274824\n",
      "         1.0       0.99      0.99      0.99   1348471\n",
      "\n",
      "    accuracy                           0.99   1623295\n",
      "   macro avg       0.98      0.97      0.97   1623295\n",
      "weighted avg       0.99      0.99      0.99   1623295\n",
      "\n",
      "Avg Precision Score: 0.9884479499621105\n",
      "\n",
      "\n"
     ]
    }
   ],
   "source": [
    "print_report('Test', model2, X_test_lo, y_test_lo, y_pred_rf)"
   ]
  },
  {
   "cell_type": "code",
   "execution_count": 166,
   "metadata": {},
   "outputs": [
    {
     "data": {
      "text/plain": [
       "['randomforest_lof.pkl']"
      ]
     },
     "execution_count": 166,
     "metadata": {},
     "output_type": "execute_result"
    }
   ],
   "source": [
    "joblib.dump(model2, 'randomforest_lof.pkl')"
   ]
  },
  {
   "cell_type": "markdown",
   "metadata": {},
   "source": [
    "### LOF with logistic regression"
   ]
  },
  {
   "cell_type": "code",
   "execution_count": 153,
   "metadata": {},
   "outputs": [
    {
     "data": {
      "text/plain": [
       "StandardScaler()"
      ]
     },
     "execution_count": 153,
     "metadata": {},
     "output_type": "execute_result"
    }
   ],
   "source": [
    "scaler = StandardScaler()\n",
    "scaler.fit(X_train_lo)"
   ]
  },
  {
   "cell_type": "code",
   "execution_count": 5,
   "metadata": {},
   "outputs": [],
   "source": [
    "cls_lr = LogisticRegression(solver='saga', n_jobs=32, verbose=2)\n",
    "cls_lr.fit(scaler.transform(X_train_lo), y_train_lo)"
   ]
  },
  {
   "cell_type": "code",
   "execution_count": 156,
   "metadata": {},
   "outputs": [
    {
     "name": "stdout",
     "output_type": "stream",
     "text": [
      "Classification Report (Test):\n",
      "              precision    recall  f1-score   support\n",
      "\n",
      "        -1.0       0.84      0.70      0.76    274824\n",
      "         1.0       0.94      0.97      0.96   1348471\n",
      "\n",
      "    accuracy                           0.93   1623295\n",
      "   macro avg       0.89      0.84      0.86   1623295\n",
      "weighted avg       0.92      0.93      0.92   1623295\n",
      "\n",
      "Avg Precision Score: 0.9376187749627509\n"
     ]
    },
    {
     "data": {
      "image/png": "[encoded data removed]",
      "text/plain": [
       "<Figure size 432x288 with 1 Axes>"
      ]
     },
     "metadata": {
      "needs_background": "light"
     },
     "output_type": "display_data"
    },
    {
     "name": "stdout",
     "output_type": "stream",
     "text": [
      "\n",
      "\n"
     ]
    }
   ],
   "source": [
    "print_report('Test', cls_lr, scaler.transform(X_test_lo), y_test_lo, cls_lr.predict(scaler.transform(X_test_lo)), plot_pr=True)"
   ]
  },
  {
   "cell_type": "code",
   "execution_count": 169,
   "metadata": {},
   "outputs": [],
   "source": [
    "log_pred=cls_lr.predict(scaler.transform(X_test_lo))"
   ]
  },
  {
   "cell_type": "code",
   "execution_count": 158,
   "metadata": {},
   "outputs": [
    {
     "data": {
      "text/plain": [
       "['logistic_lof.pkl']"
      ]
     },
     "execution_count": 158,
     "metadata": {},
     "output_type": "execute_result"
    }
   ],
   "source": [
    "joblib.dump(cls_lr, 'logistic_lof.pkl')"
   ]
  },
  {
   "cell_type": "markdown",
   "metadata": {},
   "source": [
    "### LOF with Gradiant Boost"
   ]
  },
  {
   "cell_type": "code",
   "execution_count": 63,
   "metadata": {},
   "outputs": [],
   "source": [
    "y_train_loo=X['is_attack']"
   ]
  },
  {
   "cell_type": "code",
   "execution_count": 67,
   "metadata": {},
   "outputs": [
    {
     "data": {
      "text/plain": [
       "4.90667919592029"
      ]
     },
     "execution_count": 67,
     "metadata": {},
     "output_type": "execute_result"
    }
   ],
   "source": [
    "len(y_train_lo[y_train_lo == 1]) / len(y_train_lo[y_train_lo == -1])"
   ]
  },
  {
   "cell_type": "code",
   "execution_count": 162,
   "metadata": {},
   "outputs": [],
   "source": [
    "train_pool = Pool(X_train_lo, y_train_lo)\n",
    "test_pool = Pool(X_test_lo)"
   ]
  },
  {
   "cell_type": "code",
   "execution_count": 163,
   "metadata": {
    "scrolled": true
   },
   "outputs": [
    {
     "name": "stdout",
     "output_type": "stream",
     "text": [
      "Learning rate set to 0.5\n",
      "0:\tlearn: 0.9976096\ttotal: 1.78s\tremaining: 29m 40s\n",
      "1:\tlearn: 0.9978739\ttotal: 2.73s\tremaining: 22m 39s\n",
      "2:\tlearn: 0.9986659\ttotal: 3.63s\tremaining: 20m 4s\n",
      "3:\tlearn: 0.9987825\ttotal: 4.49s\tremaining: 18m 38s\n",
      "4:\tlearn: 0.9994116\ttotal: 5.43s\tremaining: 17m 59s\n",
      "5:\tlearn: 0.9994646\ttotal: 6.4s\tremaining: 17m 39s\n",
      "6:\tlearn: 0.9995296\ttotal: 7.24s\tremaining: 17m 6s\n",
      "7:\tlearn: 0.9996400\ttotal: 8.09s\tremaining: 16m 43s\n",
      "8:\tlearn: 0.9996392\ttotal: 9.01s\tremaining: 16m 32s\n",
      "9:\tlearn: 0.9997452\ttotal: 9.9s\tremaining: 16m 20s\n",
      "10:\tlearn: 0.9997516\ttotal: 10.8s\tremaining: 16m 9s\n",
      "11:\tlearn: 0.9998261\ttotal: 11.7s\tremaining: 16m\n",
      "12:\tlearn: 0.9998270\ttotal: 12.5s\tremaining: 15m 52s\n",
      "13:\tlearn: 0.9998612\ttotal: 13.5s\tremaining: 15m 50s\n",
      "14:\tlearn: 0.9998563\ttotal: 14.4s\tremaining: 15m 42s\n",
      "15:\tlearn: 0.9998532\ttotal: 15.2s\tremaining: 15m 37s\n",
      "16:\tlearn: 0.9998509\ttotal: 16.1s\tremaining: 15m 31s\n",
      "17:\tlearn: 0.9999077\ttotal: 16.9s\tremaining: 15m 24s\n",
      "18:\tlearn: 0.9999080\ttotal: 17.9s\tremaining: 15m 22s\n",
      "19:\tlearn: 0.9999105\ttotal: 18.7s\tremaining: 15m 18s\n",
      "20:\tlearn: 0.9999120\ttotal: 19.5s\tremaining: 15m 9s\n",
      "21:\tlearn: 0.9999137\ttotal: 20.4s\tremaining: 15m 4s\n",
      "22:\tlearn: 0.9999157\ttotal: 21.2s\tremaining: 14m 59s\n",
      "23:\tlearn: 0.9999157\ttotal: 21.9s\tremaining: 14m 52s\n",
      "24:\tlearn: 0.9999159\ttotal: 22.7s\tremaining: 14m 46s\n",
      "25:\tlearn: 0.9999159\ttotal: 23.6s\tremaining: 14m 43s\n",
      "26:\tlearn: 0.9999159\ttotal: 24.4s\tremaining: 14m 38s\n",
      "27:\tlearn: 0.9999159\ttotal: 25.2s\tremaining: 14m 33s\n",
      "28:\tlearn: 0.9999159\ttotal: 25.9s\tremaining: 14m 28s\n",
      "29:\tlearn: 0.9999160\ttotal: 26.8s\tremaining: 14m 25s\n",
      "30:\tlearn: 0.9999312\ttotal: 27.7s\tremaining: 14m 25s\n",
      "31:\tlearn: 0.9999312\ttotal: 28.4s\tremaining: 14m 20s\n",
      "32:\tlearn: 0.9999312\ttotal: 29.2s\tremaining: 14m 15s\n",
      "33:\tlearn: 0.9999312\ttotal: 30s\tremaining: 14m 11s\n",
      "34:\tlearn: 0.9999312\ttotal: 30.7s\tremaining: 14m 6s\n",
      "35:\tlearn: 0.9999312\ttotal: 31.5s\tremaining: 14m 3s\n",
      "36:\tlearn: 0.9999312\ttotal: 32.3s\tremaining: 14m\n",
      "37:\tlearn: 0.9999312\ttotal: 33.1s\tremaining: 13m 56s\n",
      "38:\tlearn: 0.9999312\ttotal: 33.8s\tremaining: 13m 53s\n",
      "39:\tlearn: 0.9999312\ttotal: 34.5s\tremaining: 13m 49s\n",
      "40:\tlearn: 0.9999312\ttotal: 35.3s\tremaining: 13m 45s\n",
      "41:\tlearn: 0.9999312\ttotal: 36s\tremaining: 13m 42s\n",
      "42:\tlearn: 0.9999312\ttotal: 36.8s\tremaining: 13m 39s\n",
      "43:\tlearn: 0.9999312\ttotal: 37.6s\tremaining: 13m 36s\n",
      "44:\tlearn: 0.9999312\ttotal: 38.3s\tremaining: 13m 33s\n",
      "45:\tlearn: 0.9999312\ttotal: 39.1s\tremaining: 13m 30s\n",
      "46:\tlearn: 0.9999312\ttotal: 39.9s\tremaining: 13m 29s\n",
      "47:\tlearn: 0.9999312\ttotal: 40.7s\tremaining: 13m 27s\n",
      "48:\tlearn: 0.9999311\ttotal: 41.6s\tremaining: 13m 27s\n",
      "49:\tlearn: 0.9999311\ttotal: 42.4s\tremaining: 13m 25s\n",
      "50:\tlearn: 0.9999311\ttotal: 43.1s\tremaining: 13m 22s\n",
      "51:\tlearn: 0.9999311\ttotal: 43.9s\tremaining: 13m 20s\n",
      "52:\tlearn: 0.9999311\ttotal: 44.6s\tremaining: 13m 17s\n",
      "53:\tlearn: 0.9999311\ttotal: 45.4s\tremaining: 13m 16s\n",
      "54:\tlearn: 0.9999311\ttotal: 46.2s\tremaining: 13m 14s\n",
      "55:\tlearn: 0.9999311\ttotal: 47s\tremaining: 13m 12s\n",
      "56:\tlearn: 0.9999311\ttotal: 47.8s\tremaining: 13m 10s\n",
      "57:\tlearn: 0.9999311\ttotal: 48.6s\tremaining: 13m 8s\n",
      "58:\tlearn: 0.9999311\ttotal: 49.3s\tremaining: 13m 6s\n",
      "59:\tlearn: 0.9999311\ttotal: 50.1s\tremaining: 13m 4s\n",
      "60:\tlearn: 0.9999311\ttotal: 50.8s\tremaining: 13m 2s\n",
      "61:\tlearn: 0.9999311\ttotal: 51.6s\tremaining: 13m\n",
      "62:\tlearn: 0.9999311\ttotal: 52.4s\tremaining: 12m 58s\n",
      "63:\tlearn: 0.9999311\ttotal: 53.1s\tremaining: 12m 56s\n",
      "64:\tlearn: 0.9999311\ttotal: 53.9s\tremaining: 12m 54s\n",
      "65:\tlearn: 0.9999311\ttotal: 54.7s\tremaining: 12m 53s\n",
      "66:\tlearn: 0.9999311\ttotal: 55.5s\tremaining: 12m 52s\n",
      "67:\tlearn: 0.9999311\ttotal: 56.3s\tremaining: 12m 51s\n",
      "68:\tlearn: 0.9999311\ttotal: 57s\tremaining: 12m 49s\n",
      "69:\tlearn: 0.9999311\ttotal: 57.8s\tremaining: 12m 47s\n",
      "70:\tlearn: 0.9999311\ttotal: 58.6s\tremaining: 12m 46s\n",
      "71:\tlearn: 0.9999311\ttotal: 59.3s\tremaining: 12m 44s\n",
      "72:\tlearn: 0.9999311\ttotal: 1m\tremaining: 12m 42s\n",
      "73:\tlearn: 0.9999318\ttotal: 1m\tremaining: 12m 41s\n",
      "74:\tlearn: 0.9999318\ttotal: 1m 1s\tremaining: 12m 39s\n",
      "75:\tlearn: 0.9999318\ttotal: 1m 2s\tremaining: 12m 38s\n",
      "76:\tlearn: 0.9999318\ttotal: 1m 3s\tremaining: 12m 37s\n",
      "77:\tlearn: 0.9999318\ttotal: 1m 3s\tremaining: 12m 35s\n",
      "78:\tlearn: 0.9999318\ttotal: 1m 4s\tremaining: 12m 34s\n",
      "79:\tlearn: 0.9999318\ttotal: 1m 5s\tremaining: 12m 32s\n",
      "80:\tlearn: 0.9999318\ttotal: 1m 6s\tremaining: 12m 31s\n",
      "81:\tlearn: 0.9999318\ttotal: 1m 6s\tremaining: 12m 29s\n",
      "82:\tlearn: 0.9999318\ttotal: 1m 7s\tremaining: 12m 28s\n",
      "83:\tlearn: 0.9999318\ttotal: 1m 8s\tremaining: 12m 26s\n",
      "84:\tlearn: 0.9999318\ttotal: 1m 9s\tremaining: 12m 25s\n",
      "85:\tlearn: 0.9999318\ttotal: 1m 10s\tremaining: 12m 24s\n",
      "86:\tlearn: 0.9999318\ttotal: 1m 10s\tremaining: 12m 23s\n",
      "87:\tlearn: 0.9999318\ttotal: 1m 11s\tremaining: 12m 22s\n",
      "88:\tlearn: 0.9999318\ttotal: 1m 12s\tremaining: 12m 21s\n",
      "89:\tlearn: 0.9999318\ttotal: 1m 13s\tremaining: 12m 19s\n",
      "90:\tlearn: 0.9999318\ttotal: 1m 13s\tremaining: 12m 18s\n",
      "91:\tlearn: 0.9999318\ttotal: 1m 14s\tremaining: 12m 17s\n",
      "92:\tlearn: 0.9999318\ttotal: 1m 15s\tremaining: 12m 16s\n",
      "93:\tlearn: 0.9999318\ttotal: 1m 16s\tremaining: 12m 14s\n",
      "94:\tlearn: 0.9999318\ttotal: 1m 17s\tremaining: 12m 13s\n",
      "95:\tlearn: 0.9999318\ttotal: 1m 17s\tremaining: 12m 12s\n",
      "96:\tlearn: 0.9999318\ttotal: 1m 18s\tremaining: 12m 10s\n",
      "97:\tlearn: 0.9999318\ttotal: 1m 19s\tremaining: 12m 9s\n",
      "98:\tlearn: 0.9999318\ttotal: 1m 20s\tremaining: 12m 8s\n",
      "99:\tlearn: 0.9999318\ttotal: 1m 20s\tremaining: 12m 7s\n",
      "100:\tlearn: 0.9999318\ttotal: 1m 21s\tremaining: 12m 5s\n",
      "101:\tlearn: 0.9999318\ttotal: 1m 22s\tremaining: 12m 4s\n",
      "102:\tlearn: 0.9999318\ttotal: 1m 23s\tremaining: 12m 3s\n",
      "103:\tlearn: 0.9999318\ttotal: 1m 23s\tremaining: 12m 2s\n",
      "104:\tlearn: 0.9999318\ttotal: 1m 24s\tremaining: 12m 1s\n",
      "105:\tlearn: 0.9999318\ttotal: 1m 25s\tremaining: 12m\n",
      "106:\tlearn: 0.9999318\ttotal: 1m 26s\tremaining: 11m 59s\n",
      "107:\tlearn: 0.9999318\ttotal: 1m 26s\tremaining: 11m 57s\n",
      "108:\tlearn: 0.9999318\ttotal: 1m 27s\tremaining: 11m 56s\n",
      "109:\tlearn: 0.9999318\ttotal: 1m 28s\tremaining: 11m 55s\n",
      "110:\tlearn: 0.9999318\ttotal: 1m 29s\tremaining: 11m 54s\n",
      "111:\tlearn: 0.9999318\ttotal: 1m 29s\tremaining: 11m 53s\n",
      "112:\tlearn: 0.9999318\ttotal: 1m 30s\tremaining: 11m 52s\n",
      "113:\tlearn: 0.9999318\ttotal: 1m 31s\tremaining: 11m 50s\n",
      "114:\tlearn: 0.9999318\ttotal: 1m 32s\tremaining: 11m 49s\n",
      "115:\tlearn: 0.9999318\ttotal: 1m 32s\tremaining: 11m 48s\n",
      "116:\tlearn: 0.9999318\ttotal: 1m 33s\tremaining: 11m 47s\n",
      "117:\tlearn: 0.9999318\ttotal: 1m 34s\tremaining: 11m 46s\n",
      "118:\tlearn: 0.9999318\ttotal: 1m 35s\tremaining: 11m 45s\n",
      "119:\tlearn: 0.9999318\ttotal: 1m 36s\tremaining: 11m 44s\n",
      "120:\tlearn: 0.9999318\ttotal: 1m 36s\tremaining: 11m 42s\n",
      "121:\tlearn: 0.9999318\ttotal: 1m 37s\tremaining: 11m 41s\n",
      "122:\tlearn: 0.9999318\ttotal: 1m 38s\tremaining: 11m 40s\n",
      "123:\tlearn: 0.9999318\ttotal: 1m 39s\tremaining: 11m 39s\n",
      "124:\tlearn: 0.9999318\ttotal: 1m 39s\tremaining: 11m 38s\n",
      "125:\tlearn: 0.9999318\ttotal: 1m 40s\tremaining: 11m 37s\n",
      "126:\tlearn: 0.9999318\ttotal: 1m 41s\tremaining: 11m 36s\n",
      "127:\tlearn: 0.9999318\ttotal: 1m 42s\tremaining: 11m 35s\n",
      "128:\tlearn: 0.9999318\ttotal: 1m 42s\tremaining: 11m 34s\n",
      "129:\tlearn: 0.9999318\ttotal: 1m 43s\tremaining: 11m 33s\n",
      "130:\tlearn: 0.9999318\ttotal: 1m 44s\tremaining: 11m 32s\n",
      "131:\tlearn: 0.9999318\ttotal: 1m 45s\tremaining: 11m 31s\n",
      "132:\tlearn: 0.9999318\ttotal: 1m 45s\tremaining: 11m 30s\n",
      "133:\tlearn: 0.9999318\ttotal: 1m 46s\tremaining: 11m 29s\n",
      "134:\tlearn: 0.9999318\ttotal: 1m 47s\tremaining: 11m 28s\n",
      "135:\tlearn: 0.9999318\ttotal: 1m 48s\tremaining: 11m 28s\n",
      "136:\tlearn: 0.9999318\ttotal: 1m 49s\tremaining: 11m 27s\n",
      "137:\tlearn: 0.9999318\ttotal: 1m 49s\tremaining: 11m 26s\n",
      "138:\tlearn: 0.9999318\ttotal: 1m 50s\tremaining: 11m 25s\n",
      "139:\tlearn: 0.9999318\ttotal: 1m 51s\tremaining: 11m 24s\n",
      "140:\tlearn: 0.9999318\ttotal: 1m 52s\tremaining: 11m 23s\n",
      "141:\tlearn: 0.9999318\ttotal: 1m 52s\tremaining: 11m 22s\n",
      "142:\tlearn: 0.9999318\ttotal: 1m 53s\tremaining: 11m 21s\n",
      "143:\tlearn: 0.9999318\ttotal: 1m 54s\tremaining: 11m 20s\n",
      "144:\tlearn: 0.9999318\ttotal: 1m 55s\tremaining: 11m 19s\n",
      "145:\tlearn: 0.9999318\ttotal: 1m 56s\tremaining: 11m 18s\n",
      "146:\tlearn: 0.9999318\ttotal: 1m 56s\tremaining: 11m 17s\n",
      "147:\tlearn: 0.9999318\ttotal: 1m 57s\tremaining: 11m 16s\n",
      "148:\tlearn: 0.9999318\ttotal: 1m 58s\tremaining: 11m 15s\n",
      "149:\tlearn: 0.9999318\ttotal: 1m 59s\tremaining: 11m 14s\n",
      "150:\tlearn: 0.9999318\ttotal: 1m 59s\tremaining: 11m 13s\n",
      "151:\tlearn: 0.9999319\ttotal: 2m\tremaining: 11m 12s\n",
      "152:\tlearn: 0.9999319\ttotal: 2m 1s\tremaining: 11m 11s\n",
      "153:\tlearn: 0.9999319\ttotal: 2m 2s\tremaining: 11m 10s\n"
     ]
    },
    {
     "name": "stdout",
     "output_type": "stream",
     "text": [
      "154:\tlearn: 0.9999319\ttotal: 2m 2s\tremaining: 11m 9s\n",
      "155:\tlearn: 0.9999319\ttotal: 2m 3s\tremaining: 11m 8s\n",
      "156:\tlearn: 0.9999319\ttotal: 2m 4s\tremaining: 11m 8s\n",
      "157:\tlearn: 0.9999319\ttotal: 2m 5s\tremaining: 11m 7s\n",
      "158:\tlearn: 0.9999319\ttotal: 2m 5s\tremaining: 11m 6s\n",
      "159:\tlearn: 0.9999319\ttotal: 2m 6s\tremaining: 11m 5s\n",
      "160:\tlearn: 0.9999319\ttotal: 2m 7s\tremaining: 11m 4s\n",
      "161:\tlearn: 0.9999319\ttotal: 2m 8s\tremaining: 11m 3s\n",
      "162:\tlearn: 0.9999319\ttotal: 2m 9s\tremaining: 11m 2s\n",
      "163:\tlearn: 0.9999319\ttotal: 2m 9s\tremaining: 11m 1s\n",
      "164:\tlearn: 0.9999319\ttotal: 2m 10s\tremaining: 11m 1s\n",
      "165:\tlearn: 0.9999319\ttotal: 2m 11s\tremaining: 11m\n",
      "166:\tlearn: 0.9999319\ttotal: 2m 12s\tremaining: 10m 59s\n",
      "167:\tlearn: 0.9999319\ttotal: 2m 12s\tremaining: 10m 58s\n",
      "168:\tlearn: 0.9999319\ttotal: 2m 13s\tremaining: 10m 57s\n",
      "169:\tlearn: 0.9999319\ttotal: 2m 14s\tremaining: 10m 56s\n",
      "170:\tlearn: 0.9999319\ttotal: 2m 15s\tremaining: 10m 55s\n",
      "171:\tlearn: 0.9999319\ttotal: 2m 16s\tremaining: 10m 54s\n",
      "172:\tlearn: 0.9999319\ttotal: 2m 16s\tremaining: 10m 54s\n",
      "173:\tlearn: 0.9999319\ttotal: 2m 17s\tremaining: 10m 53s\n",
      "174:\tlearn: 0.9999319\ttotal: 2m 18s\tremaining: 10m 52s\n",
      "175:\tlearn: 0.9999319\ttotal: 2m 19s\tremaining: 10m 51s\n",
      "176:\tlearn: 0.9999319\ttotal: 2m 19s\tremaining: 10m 50s\n",
      "177:\tlearn: 0.9999319\ttotal: 2m 20s\tremaining: 10m 49s\n",
      "178:\tlearn: 0.9999319\ttotal: 2m 21s\tremaining: 10m 48s\n",
      "179:\tlearn: 0.9999319\ttotal: 2m 22s\tremaining: 10m 47s\n",
      "180:\tlearn: 0.9999319\ttotal: 2m 22s\tremaining: 10m 46s\n",
      "181:\tlearn: 0.9999500\ttotal: 2m 23s\tremaining: 10m 46s\n",
      "182:\tlearn: 0.9999500\ttotal: 2m 24s\tremaining: 10m 45s\n",
      "183:\tlearn: 0.9999500\ttotal: 2m 25s\tremaining: 10m 44s\n",
      "184:\tlearn: 0.9999500\ttotal: 2m 26s\tremaining: 10m 43s\n",
      "185:\tlearn: 0.9999500\ttotal: 2m 26s\tremaining: 10m 42s\n",
      "186:\tlearn: 0.9999500\ttotal: 2m 27s\tremaining: 10m 41s\n",
      "187:\tlearn: 0.9999500\ttotal: 2m 28s\tremaining: 10m 40s\n",
      "188:\tlearn: 0.9999500\ttotal: 2m 29s\tremaining: 10m 39s\n",
      "189:\tlearn: 0.9999500\ttotal: 2m 29s\tremaining: 10m 38s\n",
      "190:\tlearn: 0.9999500\ttotal: 2m 30s\tremaining: 10m 37s\n",
      "191:\tlearn: 0.9999500\ttotal: 2m 31s\tremaining: 10m 36s\n",
      "192:\tlearn: 0.9999500\ttotal: 2m 32s\tremaining: 10m 35s\n",
      "193:\tlearn: 0.9999500\ttotal: 2m 32s\tremaining: 10m 34s\n",
      "194:\tlearn: 0.9999500\ttotal: 2m 33s\tremaining: 10m 34s\n",
      "195:\tlearn: 0.9999500\ttotal: 2m 34s\tremaining: 10m 33s\n",
      "196:\tlearn: 0.9999500\ttotal: 2m 35s\tremaining: 10m 32s\n",
      "197:\tlearn: 0.9999500\ttotal: 2m 35s\tremaining: 10m 31s\n",
      "198:\tlearn: 0.9999500\ttotal: 2m 36s\tremaining: 10m 30s\n",
      "199:\tlearn: 0.9999500\ttotal: 2m 37s\tremaining: 10m 29s\n",
      "200:\tlearn: 0.9999500\ttotal: 2m 38s\tremaining: 10m 28s\n",
      "201:\tlearn: 0.9999500\ttotal: 2m 38s\tremaining: 10m 27s\n",
      "202:\tlearn: 0.9999500\ttotal: 2m 39s\tremaining: 10m 26s\n",
      "203:\tlearn: 0.9999500\ttotal: 2m 40s\tremaining: 10m 25s\n",
      "204:\tlearn: 0.9999500\ttotal: 2m 41s\tremaining: 10m 24s\n",
      "205:\tlearn: 0.9999500\ttotal: 2m 41s\tremaining: 10m 23s\n",
      "206:\tlearn: 0.9999500\ttotal: 2m 42s\tremaining: 10m 22s\n",
      "207:\tlearn: 0.9999500\ttotal: 2m 43s\tremaining: 10m 21s\n",
      "208:\tlearn: 0.9999500\ttotal: 2m 44s\tremaining: 10m 21s\n",
      "209:\tlearn: 0.9999500\ttotal: 2m 44s\tremaining: 10m 20s\n",
      "210:\tlearn: 0.9999500\ttotal: 2m 45s\tremaining: 10m 19s\n",
      "211:\tlearn: 0.9999500\ttotal: 2m 46s\tremaining: 10m 18s\n",
      "212:\tlearn: 0.9999500\ttotal: 2m 47s\tremaining: 10m 17s\n",
      "213:\tlearn: 0.9999500\ttotal: 2m 47s\tremaining: 10m 16s\n",
      "214:\tlearn: 0.9999500\ttotal: 2m 48s\tremaining: 10m 15s\n",
      "215:\tlearn: 0.9999500\ttotal: 2m 49s\tremaining: 10m 14s\n",
      "216:\tlearn: 0.9999500\ttotal: 2m 50s\tremaining: 10m 13s\n",
      "217:\tlearn: 0.9999500\ttotal: 2m 50s\tremaining: 10m 13s\n",
      "218:\tlearn: 0.9999500\ttotal: 2m 51s\tremaining: 10m 12s\n",
      "219:\tlearn: 0.9999500\ttotal: 2m 52s\tremaining: 10m 11s\n",
      "220:\tlearn: 0.9999500\ttotal: 2m 53s\tremaining: 10m 10s\n",
      "221:\tlearn: 0.9999500\ttotal: 2m 53s\tremaining: 10m 9s\n",
      "222:\tlearn: 0.9999500\ttotal: 2m 54s\tremaining: 10m 8s\n",
      "223:\tlearn: 0.9999500\ttotal: 2m 55s\tremaining: 10m 8s\n",
      "224:\tlearn: 0.9999500\ttotal: 2m 56s\tremaining: 10m 7s\n",
      "225:\tlearn: 0.9999500\ttotal: 2m 57s\tremaining: 10m 6s\n",
      "226:\tlearn: 0.9999500\ttotal: 2m 57s\tremaining: 10m 5s\n",
      "227:\tlearn: 0.9999500\ttotal: 2m 58s\tremaining: 10m 4s\n",
      "228:\tlearn: 0.9999500\ttotal: 2m 59s\tremaining: 10m 3s\n",
      "229:\tlearn: 0.9999500\ttotal: 3m\tremaining: 10m 3s\n",
      "230:\tlearn: 0.9999500\ttotal: 3m\tremaining: 10m 2s\n",
      "231:\tlearn: 0.9999500\ttotal: 3m 1s\tremaining: 10m 1s\n",
      "232:\tlearn: 0.9999500\ttotal: 3m 2s\tremaining: 10m\n",
      "233:\tlearn: 0.9999500\ttotal: 3m 3s\tremaining: 9m 59s\n",
      "234:\tlearn: 0.9999500\ttotal: 3m 3s\tremaining: 9m 58s\n",
      "235:\tlearn: 0.9999500\ttotal: 3m 4s\tremaining: 9m 57s\n",
      "236:\tlearn: 0.9999500\ttotal: 3m 5s\tremaining: 9m 57s\n",
      "237:\tlearn: 0.9999500\ttotal: 3m 6s\tremaining: 9m 56s\n",
      "238:\tlearn: 0.9999500\ttotal: 3m 6s\tremaining: 9m 55s\n",
      "239:\tlearn: 0.9999500\ttotal: 3m 7s\tremaining: 9m 54s\n",
      "240:\tlearn: 0.9999500\ttotal: 3m 8s\tremaining: 9m 53s\n",
      "241:\tlearn: 0.9999500\ttotal: 3m 9s\tremaining: 9m 52s\n",
      "242:\tlearn: 0.9999500\ttotal: 3m 9s\tremaining: 9m 51s\n",
      "243:\tlearn: 0.9999500\ttotal: 3m 10s\tremaining: 9m 50s\n",
      "244:\tlearn: 0.9999500\ttotal: 3m 11s\tremaining: 9m 50s\n",
      "245:\tlearn: 0.9999500\ttotal: 3m 12s\tremaining: 9m 49s\n",
      "246:\tlearn: 0.9999500\ttotal: 3m 12s\tremaining: 9m 48s\n",
      "247:\tlearn: 0.9999500\ttotal: 3m 13s\tremaining: 9m 47s\n",
      "248:\tlearn: 0.9999500\ttotal: 3m 14s\tremaining: 9m 46s\n",
      "249:\tlearn: 0.9999500\ttotal: 3m 15s\tremaining: 9m 45s\n",
      "250:\tlearn: 0.9999500\ttotal: 3m 16s\tremaining: 9m 44s\n",
      "251:\tlearn: 0.9999500\ttotal: 3m 16s\tremaining: 9m 44s\n",
      "252:\tlearn: 0.9999500\ttotal: 3m 17s\tremaining: 9m 43s\n",
      "253:\tlearn: 0.9999500\ttotal: 3m 18s\tremaining: 9m 42s\n",
      "254:\tlearn: 0.9999500\ttotal: 3m 19s\tremaining: 9m 41s\n",
      "255:\tlearn: 0.9999500\ttotal: 3m 19s\tremaining: 9m 40s\n",
      "256:\tlearn: 0.9999500\ttotal: 3m 20s\tremaining: 9m 39s\n",
      "257:\tlearn: 0.9999500\ttotal: 3m 21s\tremaining: 9m 38s\n",
      "258:\tlearn: 0.9999500\ttotal: 3m 22s\tremaining: 9m 38s\n",
      "259:\tlearn: 0.9999500\ttotal: 3m 22s\tremaining: 9m 37s\n",
      "260:\tlearn: 0.9999500\ttotal: 3m 23s\tremaining: 9m 36s\n",
      "261:\tlearn: 0.9999500\ttotal: 3m 24s\tremaining: 9m 35s\n",
      "262:\tlearn: 0.9999500\ttotal: 3m 25s\tremaining: 9m 34s\n",
      "263:\tlearn: 0.9999500\ttotal: 3m 25s\tremaining: 9m 33s\n",
      "264:\tlearn: 0.9999500\ttotal: 3m 26s\tremaining: 9m 32s\n",
      "265:\tlearn: 0.9999500\ttotal: 3m 27s\tremaining: 9m 32s\n",
      "266:\tlearn: 0.9999500\ttotal: 3m 28s\tremaining: 9m 31s\n",
      "267:\tlearn: 0.9999500\ttotal: 3m 28s\tremaining: 9m 30s\n",
      "268:\tlearn: 0.9999500\ttotal: 3m 29s\tremaining: 9m 29s\n",
      "269:\tlearn: 0.9999500\ttotal: 3m 30s\tremaining: 9m 28s\n",
      "270:\tlearn: 0.9999500\ttotal: 3m 31s\tremaining: 9m 27s\n",
      "271:\tlearn: 0.9999500\ttotal: 3m 31s\tremaining: 9m 26s\n",
      "272:\tlearn: 0.9999500\ttotal: 3m 32s\tremaining: 9m 26s\n",
      "273:\tlearn: 0.9999500\ttotal: 3m 33s\tremaining: 9m 25s\n",
      "274:\tlearn: 0.9999500\ttotal: 3m 34s\tremaining: 9m 24s\n",
      "275:\tlearn: 0.9999500\ttotal: 3m 34s\tremaining: 9m 23s\n",
      "276:\tlearn: 0.9999500\ttotal: 3m 35s\tremaining: 9m 22s\n",
      "277:\tlearn: 0.9999500\ttotal: 3m 36s\tremaining: 9m 21s\n",
      "278:\tlearn: 0.9999500\ttotal: 3m 37s\tremaining: 9m 21s\n",
      "279:\tlearn: 0.9999500\ttotal: 3m 37s\tremaining: 9m 20s\n",
      "280:\tlearn: 0.9999500\ttotal: 3m 38s\tremaining: 9m 19s\n",
      "281:\tlearn: 0.9999500\ttotal: 3m 39s\tremaining: 9m 18s\n",
      "282:\tlearn: 0.9999500\ttotal: 3m 40s\tremaining: 9m 17s\n",
      "283:\tlearn: 0.9999500\ttotal: 3m 40s\tremaining: 9m 16s\n",
      "284:\tlearn: 0.9999500\ttotal: 3m 41s\tremaining: 9m 16s\n",
      "285:\tlearn: 0.9999500\ttotal: 3m 42s\tremaining: 9m 15s\n",
      "286:\tlearn: 0.9999500\ttotal: 3m 43s\tremaining: 9m 14s\n",
      "287:\tlearn: 0.9999500\ttotal: 3m 43s\tremaining: 9m 13s\n",
      "288:\tlearn: 0.9999500\ttotal: 3m 44s\tremaining: 9m 12s\n",
      "289:\tlearn: 0.9999500\ttotal: 3m 45s\tremaining: 9m 11s\n",
      "290:\tlearn: 0.9999500\ttotal: 3m 46s\tremaining: 9m 10s\n",
      "291:\tlearn: 0.9999500\ttotal: 3m 46s\tremaining: 9m 10s\n",
      "292:\tlearn: 0.9999500\ttotal: 3m 47s\tremaining: 9m 9s\n",
      "293:\tlearn: 0.9999500\ttotal: 3m 48s\tremaining: 9m 8s\n",
      "294:\tlearn: 0.9999500\ttotal: 3m 49s\tremaining: 9m 7s\n",
      "295:\tlearn: 0.9999500\ttotal: 3m 49s\tremaining: 9m 6s\n",
      "296:\tlearn: 0.9999500\ttotal: 3m 50s\tremaining: 9m 6s\n",
      "297:\tlearn: 0.9999500\ttotal: 3m 51s\tremaining: 9m 5s\n",
      "298:\tlearn: 0.9999500\ttotal: 3m 52s\tremaining: 9m 4s\n",
      "299:\tlearn: 0.9999500\ttotal: 3m 52s\tremaining: 9m 3s\n",
      "300:\tlearn: 0.9999500\ttotal: 3m 53s\tremaining: 9m 2s\n",
      "301:\tlearn: 0.9999500\ttotal: 3m 54s\tremaining: 9m 1s\n",
      "302:\tlearn: 0.9999500\ttotal: 3m 55s\tremaining: 9m 1s\n",
      "303:\tlearn: 0.9999500\ttotal: 3m 56s\tremaining: 9m\n",
      "304:\tlearn: 0.9999500\ttotal: 3m 56s\tremaining: 8m 59s\n",
      "305:\tlearn: 0.9999500\ttotal: 3m 57s\tremaining: 8m 58s\n"
     ]
    },
    {
     "name": "stdout",
     "output_type": "stream",
     "text": [
      "306:\tlearn: 0.9999500\ttotal: 3m 58s\tremaining: 8m 58s\n",
      "307:\tlearn: 0.9999500\ttotal: 3m 59s\tremaining: 8m 57s\n",
      "308:\tlearn: 0.9999500\ttotal: 3m 59s\tremaining: 8m 56s\n",
      "309:\tlearn: 0.9999500\ttotal: 4m\tremaining: 8m 55s\n",
      "310:\tlearn: 0.9999500\ttotal: 4m 1s\tremaining: 8m 54s\n",
      "311:\tlearn: 0.9999500\ttotal: 4m 2s\tremaining: 8m 54s\n",
      "312:\tlearn: 0.9999500\ttotal: 4m 3s\tremaining: 8m 53s\n",
      "313:\tlearn: 0.9999500\ttotal: 4m 3s\tremaining: 8m 52s\n",
      "314:\tlearn: 0.9999500\ttotal: 4m 4s\tremaining: 8m 51s\n",
      "315:\tlearn: 0.9999500\ttotal: 4m 5s\tremaining: 8m 51s\n",
      "316:\tlearn: 0.9999500\ttotal: 4m 6s\tremaining: 8m 50s\n",
      "317:\tlearn: 0.9999500\ttotal: 4m 6s\tremaining: 8m 49s\n",
      "318:\tlearn: 0.9999500\ttotal: 4m 7s\tremaining: 8m 48s\n",
      "319:\tlearn: 0.9999500\ttotal: 4m 8s\tremaining: 8m 47s\n",
      "320:\tlearn: 0.9999500\ttotal: 4m 9s\tremaining: 8m 47s\n",
      "321:\tlearn: 0.9999500\ttotal: 4m 9s\tremaining: 8m 46s\n",
      "322:\tlearn: 0.9999500\ttotal: 4m 10s\tremaining: 8m 45s\n",
      "323:\tlearn: 0.9999500\ttotal: 4m 11s\tremaining: 8m 44s\n",
      "324:\tlearn: 0.9999500\ttotal: 4m 12s\tremaining: 8m 44s\n",
      "325:\tlearn: 0.9999500\ttotal: 4m 13s\tremaining: 8m 43s\n",
      "326:\tlearn: 0.9999500\ttotal: 4m 13s\tremaining: 8m 42s\n",
      "327:\tlearn: 0.9999500\ttotal: 4m 14s\tremaining: 8m 41s\n",
      "328:\tlearn: 0.9999500\ttotal: 4m 15s\tremaining: 8m 40s\n",
      "329:\tlearn: 0.9999500\ttotal: 4m 16s\tremaining: 8m 40s\n",
      "330:\tlearn: 0.9999500\ttotal: 4m 16s\tremaining: 8m 39s\n",
      "331:\tlearn: 0.9999500\ttotal: 4m 17s\tremaining: 8m 38s\n",
      "332:\tlearn: 0.9999500\ttotal: 4m 18s\tremaining: 8m 37s\n",
      "333:\tlearn: 0.9999500\ttotal: 4m 19s\tremaining: 8m 37s\n",
      "334:\tlearn: 0.9999500\ttotal: 4m 20s\tremaining: 8m 36s\n",
      "335:\tlearn: 0.9999500\ttotal: 4m 20s\tremaining: 8m 35s\n",
      "336:\tlearn: 0.9999500\ttotal: 4m 21s\tremaining: 8m 34s\n",
      "337:\tlearn: 0.9999500\ttotal: 4m 22s\tremaining: 8m 34s\n",
      "338:\tlearn: 0.9999500\ttotal: 4m 23s\tremaining: 8m 33s\n",
      "339:\tlearn: 0.9999500\ttotal: 4m 24s\tremaining: 8m 32s\n",
      "340:\tlearn: 0.9999500\ttotal: 4m 24s\tremaining: 8m 31s\n",
      "341:\tlearn: 0.9999500\ttotal: 4m 25s\tremaining: 8m 30s\n",
      "342:\tlearn: 0.9999500\ttotal: 4m 26s\tremaining: 8m 30s\n",
      "343:\tlearn: 0.9999500\ttotal: 4m 27s\tremaining: 8m 29s\n",
      "344:\tlearn: 0.9999500\ttotal: 4m 27s\tremaining: 8m 28s\n",
      "345:\tlearn: 0.9999500\ttotal: 4m 28s\tremaining: 8m 27s\n",
      "346:\tlearn: 0.9999500\ttotal: 4m 29s\tremaining: 8m 27s\n",
      "347:\tlearn: 0.9999500\ttotal: 4m 30s\tremaining: 8m 26s\n",
      "348:\tlearn: 0.9999500\ttotal: 4m 31s\tremaining: 8m 25s\n",
      "349:\tlearn: 0.9999500\ttotal: 4m 31s\tremaining: 8m 24s\n",
      "350:\tlearn: 0.9999500\ttotal: 4m 32s\tremaining: 8m 23s\n",
      "351:\tlearn: 0.9999500\ttotal: 4m 33s\tremaining: 8m 23s\n",
      "352:\tlearn: 0.9999500\ttotal: 4m 34s\tremaining: 8m 22s\n",
      "353:\tlearn: 0.9999500\ttotal: 4m 34s\tremaining: 8m 21s\n",
      "354:\tlearn: 0.9999500\ttotal: 4m 35s\tremaining: 8m 20s\n",
      "355:\tlearn: 0.9999500\ttotal: 4m 36s\tremaining: 8m 20s\n",
      "356:\tlearn: 0.9999500\ttotal: 4m 37s\tremaining: 8m 19s\n",
      "357:\tlearn: 0.9999500\ttotal: 4m 38s\tremaining: 8m 18s\n",
      "358:\tlearn: 0.9999500\ttotal: 4m 38s\tremaining: 8m 17s\n",
      "359:\tlearn: 0.9999500\ttotal: 4m 39s\tremaining: 8m 17s\n",
      "360:\tlearn: 0.9999500\ttotal: 4m 40s\tremaining: 8m 16s\n",
      "361:\tlearn: 0.9999500\ttotal: 4m 41s\tremaining: 8m 15s\n",
      "362:\tlearn: 0.9999500\ttotal: 4m 41s\tremaining: 8m 14s\n",
      "363:\tlearn: 0.9999500\ttotal: 4m 42s\tremaining: 8m 13s\n",
      "364:\tlearn: 0.9999500\ttotal: 4m 43s\tremaining: 8m 13s\n",
      "365:\tlearn: 0.9999500\ttotal: 4m 44s\tremaining: 8m 12s\n",
      "366:\tlearn: 0.9999500\ttotal: 4m 45s\tremaining: 8m 11s\n",
      "367:\tlearn: 0.9999500\ttotal: 4m 45s\tremaining: 8m 10s\n",
      "368:\tlearn: 0.9999500\ttotal: 4m 46s\tremaining: 8m 10s\n",
      "369:\tlearn: 0.9999500\ttotal: 4m 47s\tremaining: 8m 9s\n",
      "370:\tlearn: 0.9999500\ttotal: 4m 48s\tremaining: 8m 8s\n",
      "371:\tlearn: 0.9999500\ttotal: 4m 48s\tremaining: 8m 7s\n",
      "372:\tlearn: 0.9999500\ttotal: 4m 49s\tremaining: 8m 7s\n",
      "373:\tlearn: 0.9999500\ttotal: 4m 50s\tremaining: 8m 6s\n",
      "374:\tlearn: 0.9999500\ttotal: 4m 51s\tremaining: 8m 5s\n",
      "375:\tlearn: 0.9999500\ttotal: 4m 52s\tremaining: 8m 4s\n",
      "376:\tlearn: 0.9999500\ttotal: 4m 52s\tremaining: 8m 3s\n",
      "377:\tlearn: 0.9999500\ttotal: 4m 53s\tremaining: 8m 3s\n",
      "378:\tlearn: 0.9999500\ttotal: 4m 54s\tremaining: 8m 2s\n",
      "379:\tlearn: 0.9999500\ttotal: 4m 55s\tremaining: 8m 1s\n",
      "380:\tlearn: 0.9999500\ttotal: 4m 56s\tremaining: 8m\n",
      "381:\tlearn: 0.9999500\ttotal: 4m 56s\tremaining: 8m\n",
      "382:\tlearn: 0.9999500\ttotal: 4m 57s\tremaining: 7m 59s\n",
      "383:\tlearn: 0.9999500\ttotal: 4m 58s\tremaining: 7m 58s\n",
      "384:\tlearn: 0.9999500\ttotal: 4m 59s\tremaining: 7m 58s\n",
      "385:\tlearn: 0.9999500\ttotal: 5m\tremaining: 7m 57s\n",
      "386:\tlearn: 0.9999500\ttotal: 5m\tremaining: 7m 56s\n",
      "387:\tlearn: 0.9999500\ttotal: 5m 1s\tremaining: 7m 55s\n",
      "388:\tlearn: 0.9999500\ttotal: 5m 2s\tremaining: 7m 54s\n",
      "389:\tlearn: 0.9999500\ttotal: 5m 3s\tremaining: 7m 54s\n",
      "390:\tlearn: 0.9999500\ttotal: 5m 3s\tremaining: 7m 53s\n",
      "391:\tlearn: 0.9999500\ttotal: 5m 4s\tremaining: 7m 52s\n",
      "392:\tlearn: 0.9999500\ttotal: 5m 5s\tremaining: 7m 51s\n",
      "393:\tlearn: 0.9999500\ttotal: 5m 6s\tremaining: 7m 51s\n",
      "394:\tlearn: 0.9999500\ttotal: 5m 7s\tremaining: 7m 50s\n",
      "395:\tlearn: 0.9999500\ttotal: 5m 7s\tremaining: 7m 49s\n",
      "396:\tlearn: 0.9999500\ttotal: 5m 8s\tremaining: 7m 48s\n",
      "397:\tlearn: 0.9999500\ttotal: 5m 9s\tremaining: 7m 48s\n",
      "398:\tlearn: 0.9999500\ttotal: 5m 10s\tremaining: 7m 47s\n",
      "399:\tlearn: 0.9999500\ttotal: 5m 10s\tremaining: 7m 46s\n",
      "400:\tlearn: 0.9999500\ttotal: 5m 11s\tremaining: 7m 45s\n",
      "401:\tlearn: 0.9999500\ttotal: 5m 12s\tremaining: 7m 44s\n",
      "402:\tlearn: 0.9999500\ttotal: 5m 13s\tremaining: 7m 44s\n",
      "403:\tlearn: 0.9999500\ttotal: 5m 14s\tremaining: 7m 43s\n",
      "404:\tlearn: 0.9999500\ttotal: 5m 14s\tremaining: 7m 42s\n",
      "405:\tlearn: 0.9999500\ttotal: 5m 15s\tremaining: 7m 41s\n",
      "406:\tlearn: 0.9999500\ttotal: 5m 16s\tremaining: 7m 41s\n",
      "407:\tlearn: 0.9999500\ttotal: 5m 17s\tremaining: 7m 40s\n",
      "408:\tlearn: 0.9999500\ttotal: 5m 17s\tremaining: 7m 39s\n",
      "409:\tlearn: 0.9999500\ttotal: 5m 18s\tremaining: 7m 38s\n",
      "410:\tlearn: 0.9999500\ttotal: 5m 19s\tremaining: 7m 37s\n",
      "411:\tlearn: 0.9999500\ttotal: 5m 20s\tremaining: 7m 37s\n",
      "412:\tlearn: 0.9999500\ttotal: 5m 21s\tremaining: 7m 36s\n",
      "413:\tlearn: 0.9999500\ttotal: 5m 21s\tremaining: 7m 35s\n",
      "414:\tlearn: 0.9999500\ttotal: 5m 22s\tremaining: 7m 34s\n",
      "415:\tlearn: 0.9999500\ttotal: 5m 23s\tremaining: 7m 34s\n",
      "416:\tlearn: 0.9999500\ttotal: 5m 24s\tremaining: 7m 33s\n",
      "417:\tlearn: 0.9999500\ttotal: 5m 25s\tremaining: 7m 32s\n",
      "418:\tlearn: 0.9999500\ttotal: 5m 25s\tremaining: 7m 31s\n",
      "419:\tlearn: 0.9999500\ttotal: 5m 26s\tremaining: 7m 31s\n",
      "420:\tlearn: 0.9999500\ttotal: 5m 27s\tremaining: 7m 30s\n",
      "421:\tlearn: 0.9999500\ttotal: 5m 28s\tremaining: 7m 29s\n",
      "422:\tlearn: 0.9999500\ttotal: 5m 28s\tremaining: 7m 28s\n",
      "423:\tlearn: 0.9999500\ttotal: 5m 29s\tremaining: 7m 27s\n",
      "424:\tlearn: 0.9999500\ttotal: 5m 30s\tremaining: 7m 27s\n",
      "425:\tlearn: 0.9999500\ttotal: 5m 31s\tremaining: 7m 26s\n",
      "426:\tlearn: 0.9999500\ttotal: 5m 32s\tremaining: 7m 25s\n",
      "427:\tlearn: 0.9999500\ttotal: 5m 32s\tremaining: 7m 24s\n",
      "428:\tlearn: 0.9999500\ttotal: 5m 33s\tremaining: 7m 24s\n",
      "429:\tlearn: 0.9999500\ttotal: 5m 34s\tremaining: 7m 23s\n",
      "430:\tlearn: 0.9999500\ttotal: 5m 35s\tremaining: 7m 22s\n",
      "431:\tlearn: 0.9999500\ttotal: 5m 35s\tremaining: 7m 21s\n",
      "432:\tlearn: 0.9999500\ttotal: 5m 36s\tremaining: 7m 20s\n",
      "433:\tlearn: 0.9999500\ttotal: 5m 37s\tremaining: 7m 20s\n",
      "434:\tlearn: 0.9999500\ttotal: 5m 38s\tremaining: 7m 19s\n",
      "435:\tlearn: 0.9999500\ttotal: 5m 39s\tremaining: 7m 18s\n",
      "436:\tlearn: 0.9999500\ttotal: 5m 39s\tremaining: 7m 17s\n",
      "437:\tlearn: 0.9999500\ttotal: 5m 40s\tremaining: 7m 17s\n",
      "438:\tlearn: 0.9999500\ttotal: 5m 41s\tremaining: 7m 16s\n",
      "439:\tlearn: 0.9999500\ttotal: 5m 42s\tremaining: 7m 15s\n",
      "440:\tlearn: 0.9999500\ttotal: 5m 42s\tremaining: 7m 14s\n",
      "441:\tlearn: 0.9999500\ttotal: 5m 43s\tremaining: 7m 13s\n",
      "442:\tlearn: 0.9999500\ttotal: 5m 44s\tremaining: 7m 13s\n",
      "443:\tlearn: 0.9999500\ttotal: 5m 45s\tremaining: 7m 12s\n",
      "444:\tlearn: 0.9999500\ttotal: 5m 46s\tremaining: 7m 11s\n",
      "445:\tlearn: 0.9999500\ttotal: 5m 46s\tremaining: 7m 10s\n",
      "446:\tlearn: 0.9999500\ttotal: 5m 47s\tremaining: 7m 10s\n",
      "447:\tlearn: 0.9999500\ttotal: 5m 48s\tremaining: 7m 9s\n",
      "448:\tlearn: 0.9999500\ttotal: 5m 49s\tremaining: 7m 8s\n",
      "449:\tlearn: 0.9999500\ttotal: 5m 49s\tremaining: 7m 7s\n",
      "450:\tlearn: 0.9999500\ttotal: 5m 50s\tremaining: 7m 6s\n",
      "451:\tlearn: 0.9999500\ttotal: 5m 51s\tremaining: 7m 6s\n",
      "452:\tlearn: 0.9999500\ttotal: 5m 52s\tremaining: 7m 5s\n",
      "453:\tlearn: 0.9999500\ttotal: 5m 53s\tremaining: 7m 4s\n",
      "454:\tlearn: 0.9999500\ttotal: 5m 53s\tremaining: 7m 3s\n",
      "455:\tlearn: 0.9999500\ttotal: 5m 54s\tremaining: 7m 3s\n",
      "456:\tlearn: 0.9999500\ttotal: 5m 55s\tremaining: 7m 2s\n",
      "457:\tlearn: 0.9999500\ttotal: 5m 56s\tremaining: 7m 1s\n",
      "458:\tlearn: 0.9999500\ttotal: 5m 56s\tremaining: 7m\n"
     ]
    },
    {
     "name": "stdout",
     "output_type": "stream",
     "text": [
      "459:\tlearn: 0.9999500\ttotal: 5m 57s\tremaining: 6m 59s\n",
      "460:\tlearn: 0.9999500\ttotal: 5m 58s\tremaining: 6m 59s\n",
      "461:\tlearn: 0.9999500\ttotal: 5m 59s\tremaining: 6m 58s\n",
      "462:\tlearn: 0.9999500\ttotal: 6m\tremaining: 6m 57s\n",
      "463:\tlearn: 0.9999500\ttotal: 6m\tremaining: 6m 56s\n",
      "464:\tlearn: 0.9999500\ttotal: 6m 1s\tremaining: 6m 56s\n",
      "465:\tlearn: 0.9999500\ttotal: 6m 2s\tremaining: 6m 55s\n",
      "466:\tlearn: 0.9999500\ttotal: 6m 3s\tremaining: 6m 54s\n",
      "467:\tlearn: 0.9999500\ttotal: 6m 3s\tremaining: 6m 53s\n",
      "468:\tlearn: 0.9999500\ttotal: 6m 4s\tremaining: 6m 52s\n",
      "469:\tlearn: 0.9999500\ttotal: 6m 5s\tremaining: 6m 52s\n",
      "470:\tlearn: 0.9999500\ttotal: 6m 6s\tremaining: 6m 51s\n",
      "471:\tlearn: 0.9999500\ttotal: 6m 7s\tremaining: 6m 50s\n",
      "472:\tlearn: 0.9999500\ttotal: 6m 7s\tremaining: 6m 49s\n",
      "473:\tlearn: 0.9999500\ttotal: 6m 8s\tremaining: 6m 49s\n",
      "474:\tlearn: 0.9999500\ttotal: 6m 9s\tremaining: 6m 48s\n",
      "475:\tlearn: 0.9999500\ttotal: 6m 10s\tremaining: 6m 47s\n",
      "476:\tlearn: 0.9999500\ttotal: 6m 11s\tremaining: 6m 46s\n",
      "477:\tlearn: 0.9999500\ttotal: 6m 11s\tremaining: 6m 46s\n",
      "478:\tlearn: 0.9999500\ttotal: 6m 12s\tremaining: 6m 45s\n",
      "479:\tlearn: 0.9999500\ttotal: 6m 13s\tremaining: 6m 44s\n",
      "480:\tlearn: 0.9999500\ttotal: 6m 14s\tremaining: 6m 43s\n",
      "481:\tlearn: 0.9999500\ttotal: 6m 14s\tremaining: 6m 42s\n",
      "482:\tlearn: 0.9999500\ttotal: 6m 15s\tremaining: 6m 42s\n",
      "483:\tlearn: 0.9999500\ttotal: 6m 16s\tremaining: 6m 41s\n",
      "484:\tlearn: 0.9999500\ttotal: 6m 17s\tremaining: 6m 40s\n",
      "485:\tlearn: 0.9999500\ttotal: 6m 18s\tremaining: 6m 39s\n",
      "486:\tlearn: 0.9999500\ttotal: 6m 18s\tremaining: 6m 39s\n",
      "487:\tlearn: 0.9999500\ttotal: 6m 19s\tremaining: 6m 38s\n",
      "488:\tlearn: 0.9999500\ttotal: 6m 20s\tremaining: 6m 37s\n",
      "489:\tlearn: 0.9999500\ttotal: 6m 21s\tremaining: 6m 36s\n",
      "490:\tlearn: 0.9999500\ttotal: 6m 21s\tremaining: 6m 35s\n",
      "491:\tlearn: 0.9999500\ttotal: 6m 22s\tremaining: 6m 35s\n",
      "492:\tlearn: 0.9999500\ttotal: 6m 23s\tremaining: 6m 34s\n",
      "493:\tlearn: 0.9999500\ttotal: 6m 24s\tremaining: 6m 33s\n",
      "494:\tlearn: 0.9999500\ttotal: 6m 25s\tremaining: 6m 32s\n",
      "495:\tlearn: 0.9999500\ttotal: 6m 25s\tremaining: 6m 32s\n",
      "496:\tlearn: 0.9999500\ttotal: 6m 26s\tremaining: 6m 31s\n",
      "497:\tlearn: 0.9999500\ttotal: 6m 27s\tremaining: 6m 30s\n",
      "498:\tlearn: 0.9999500\ttotal: 6m 28s\tremaining: 6m 29s\n",
      "499:\tlearn: 0.9999500\ttotal: 6m 28s\tremaining: 6m 28s\n",
      "500:\tlearn: 0.9999500\ttotal: 6m 29s\tremaining: 6m 28s\n",
      "501:\tlearn: 0.9999500\ttotal: 6m 30s\tremaining: 6m 27s\n",
      "502:\tlearn: 0.9999500\ttotal: 6m 31s\tremaining: 6m 26s\n",
      "503:\tlearn: 0.9999500\ttotal: 6m 32s\tremaining: 6m 25s\n",
      "504:\tlearn: 0.9999500\ttotal: 6m 32s\tremaining: 6m 25s\n",
      "505:\tlearn: 0.9999500\ttotal: 6m 33s\tremaining: 6m 24s\n",
      "506:\tlearn: 0.9999500\ttotal: 6m 34s\tremaining: 6m 23s\n",
      "507:\tlearn: 0.9999500\ttotal: 6m 35s\tremaining: 6m 22s\n",
      "508:\tlearn: 0.9999500\ttotal: 6m 36s\tremaining: 6m 22s\n",
      "509:\tlearn: 0.9999500\ttotal: 6m 36s\tremaining: 6m 21s\n",
      "510:\tlearn: 0.9999500\ttotal: 6m 37s\tremaining: 6m 20s\n",
      "511:\tlearn: 0.9999500\ttotal: 6m 38s\tremaining: 6m 19s\n",
      "512:\tlearn: 0.9999500\ttotal: 6m 39s\tremaining: 6m 18s\n",
      "513:\tlearn: 0.9999500\ttotal: 6m 39s\tremaining: 6m 18s\n",
      "514:\tlearn: 0.9999500\ttotal: 6m 40s\tremaining: 6m 17s\n",
      "515:\tlearn: 0.9999500\ttotal: 6m 41s\tremaining: 6m 16s\n",
      "516:\tlearn: 0.9999500\ttotal: 6m 42s\tremaining: 6m 15s\n",
      "517:\tlearn: 0.9999500\ttotal: 6m 43s\tremaining: 6m 15s\n",
      "518:\tlearn: 0.9999500\ttotal: 6m 43s\tremaining: 6m 14s\n",
      "519:\tlearn: 0.9999500\ttotal: 6m 44s\tremaining: 6m 13s\n",
      "520:\tlearn: 0.9999500\ttotal: 6m 45s\tremaining: 6m 12s\n",
      "521:\tlearn: 0.9999500\ttotal: 6m 46s\tremaining: 6m 12s\n",
      "522:\tlearn: 0.9999500\ttotal: 6m 47s\tremaining: 6m 11s\n",
      "523:\tlearn: 0.9999500\ttotal: 6m 47s\tremaining: 6m 10s\n",
      "524:\tlearn: 0.9999500\ttotal: 6m 48s\tremaining: 6m 9s\n",
      "525:\tlearn: 0.9999500\ttotal: 6m 49s\tremaining: 6m 8s\n",
      "526:\tlearn: 0.9999500\ttotal: 6m 50s\tremaining: 6m 8s\n",
      "527:\tlearn: 0.9999500\ttotal: 6m 51s\tremaining: 6m 7s\n",
      "528:\tlearn: 0.9999500\ttotal: 6m 51s\tremaining: 6m 6s\n",
      "529:\tlearn: 0.9999500\ttotal: 6m 52s\tremaining: 6m 5s\n",
      "530:\tlearn: 0.9999500\ttotal: 6m 53s\tremaining: 6m 5s\n",
      "531:\tlearn: 0.9999500\ttotal: 6m 54s\tremaining: 6m 4s\n",
      "532:\tlearn: 0.9999500\ttotal: 6m 54s\tremaining: 6m 3s\n",
      "533:\tlearn: 0.9999500\ttotal: 6m 55s\tremaining: 6m 2s\n",
      "534:\tlearn: 0.9999500\ttotal: 6m 56s\tremaining: 6m 1s\n",
      "535:\tlearn: 0.9999500\ttotal: 6m 57s\tremaining: 6m 1s\n",
      "536:\tlearn: 0.9999500\ttotal: 6m 57s\tremaining: 6m\n",
      "537:\tlearn: 0.9999500\ttotal: 6m 58s\tremaining: 5m 59s\n",
      "538:\tlearn: 0.9999500\ttotal: 6m 59s\tremaining: 5m 58s\n",
      "539:\tlearn: 0.9999500\ttotal: 7m\tremaining: 5m 58s\n",
      "540:\tlearn: 0.9999500\ttotal: 7m 1s\tremaining: 5m 57s\n",
      "541:\tlearn: 0.9999500\ttotal: 7m 1s\tremaining: 5m 56s\n",
      "542:\tlearn: 0.9999500\ttotal: 7m 2s\tremaining: 5m 55s\n",
      "543:\tlearn: 0.9999500\ttotal: 7m 3s\tremaining: 5m 54s\n",
      "544:\tlearn: 0.9999500\ttotal: 7m 4s\tremaining: 5m 54s\n",
      "545:\tlearn: 0.9999500\ttotal: 7m 4s\tremaining: 5m 53s\n",
      "546:\tlearn: 0.9999500\ttotal: 7m 5s\tremaining: 5m 52s\n",
      "547:\tlearn: 0.9999500\ttotal: 7m 6s\tremaining: 5m 51s\n",
      "548:\tlearn: 0.9999500\ttotal: 7m 7s\tremaining: 5m 51s\n",
      "549:\tlearn: 0.9999500\ttotal: 7m 8s\tremaining: 5m 50s\n",
      "550:\tlearn: 0.9999500\ttotal: 7m 8s\tremaining: 5m 49s\n",
      "551:\tlearn: 0.9999500\ttotal: 7m 9s\tremaining: 5m 48s\n",
      "552:\tlearn: 0.9999500\ttotal: 7m 10s\tremaining: 5m 47s\n",
      "553:\tlearn: 0.9999500\ttotal: 7m 11s\tremaining: 5m 47s\n",
      "554:\tlearn: 0.9999500\ttotal: 7m 11s\tremaining: 5m 46s\n",
      "555:\tlearn: 0.9999500\ttotal: 7m 12s\tremaining: 5m 45s\n",
      "556:\tlearn: 0.9999500\ttotal: 7m 13s\tremaining: 5m 44s\n",
      "557:\tlearn: 0.9999500\ttotal: 7m 14s\tremaining: 5m 44s\n",
      "558:\tlearn: 0.9999500\ttotal: 7m 15s\tremaining: 5m 43s\n",
      "559:\tlearn: 0.9999500\ttotal: 7m 15s\tremaining: 5m 42s\n",
      "560:\tlearn: 0.9999500\ttotal: 7m 16s\tremaining: 5m 41s\n",
      "561:\tlearn: 0.9999500\ttotal: 7m 17s\tremaining: 5m 40s\n",
      "562:\tlearn: 0.9999500\ttotal: 7m 18s\tremaining: 5m 40s\n",
      "563:\tlearn: 0.9999500\ttotal: 7m 19s\tremaining: 5m 39s\n",
      "564:\tlearn: 0.9999500\ttotal: 7m 19s\tremaining: 5m 38s\n",
      "565:\tlearn: 0.9999500\ttotal: 7m 20s\tremaining: 5m 37s\n",
      "566:\tlearn: 0.9999500\ttotal: 7m 21s\tremaining: 5m 37s\n",
      "567:\tlearn: 0.9999500\ttotal: 7m 22s\tremaining: 5m 36s\n",
      "568:\tlearn: 0.9999500\ttotal: 7m 22s\tremaining: 5m 35s\n",
      "569:\tlearn: 0.9999500\ttotal: 7m 23s\tremaining: 5m 34s\n",
      "570:\tlearn: 0.9999500\ttotal: 7m 24s\tremaining: 5m 33s\n",
      "571:\tlearn: 0.9999500\ttotal: 7m 25s\tremaining: 5m 33s\n",
      "572:\tlearn: 0.9999500\ttotal: 7m 26s\tremaining: 5m 32s\n",
      "573:\tlearn: 0.9999500\ttotal: 7m 26s\tremaining: 5m 31s\n",
      "574:\tlearn: 0.9999500\ttotal: 7m 27s\tremaining: 5m 30s\n",
      "575:\tlearn: 0.9999500\ttotal: 7m 28s\tremaining: 5m 30s\n",
      "576:\tlearn: 0.9999500\ttotal: 7m 29s\tremaining: 5m 29s\n",
      "577:\tlearn: 0.9999500\ttotal: 7m 30s\tremaining: 5m 28s\n",
      "578:\tlearn: 0.9999500\ttotal: 7m 30s\tremaining: 5m 27s\n",
      "579:\tlearn: 0.9999500\ttotal: 7m 31s\tremaining: 5m 26s\n",
      "580:\tlearn: 0.9999500\ttotal: 7m 32s\tremaining: 5m 26s\n",
      "581:\tlearn: 0.9999500\ttotal: 7m 33s\tremaining: 5m 25s\n",
      "582:\tlearn: 0.9999500\ttotal: 7m 33s\tremaining: 5m 24s\n",
      "583:\tlearn: 0.9999500\ttotal: 7m 34s\tremaining: 5m 23s\n",
      "584:\tlearn: 0.9999500\ttotal: 7m 35s\tremaining: 5m 23s\n",
      "585:\tlearn: 0.9999500\ttotal: 7m 36s\tremaining: 5m 22s\n",
      "586:\tlearn: 0.9999500\ttotal: 7m 37s\tremaining: 5m 21s\n",
      "587:\tlearn: 0.9999500\ttotal: 7m 37s\tremaining: 5m 20s\n",
      "588:\tlearn: 0.9999500\ttotal: 7m 38s\tremaining: 5m 19s\n",
      "589:\tlearn: 0.9999500\ttotal: 7m 39s\tremaining: 5m 19s\n",
      "590:\tlearn: 0.9999500\ttotal: 7m 40s\tremaining: 5m 18s\n",
      "591:\tlearn: 0.9999500\ttotal: 7m 40s\tremaining: 5m 17s\n",
      "592:\tlearn: 0.9999500\ttotal: 7m 41s\tremaining: 5m 16s\n",
      "593:\tlearn: 0.9999500\ttotal: 7m 42s\tremaining: 5m 16s\n",
      "594:\tlearn: 0.9999500\ttotal: 7m 43s\tremaining: 5m 15s\n",
      "595:\tlearn: 0.9999500\ttotal: 7m 43s\tremaining: 5m 14s\n",
      "596:\tlearn: 0.9999500\ttotal: 7m 44s\tremaining: 5m 13s\n",
      "597:\tlearn: 0.9999500\ttotal: 7m 45s\tremaining: 5m 12s\n",
      "598:\tlearn: 0.9999500\ttotal: 7m 46s\tremaining: 5m 12s\n",
      "599:\tlearn: 0.9999500\ttotal: 7m 47s\tremaining: 5m 11s\n",
      "600:\tlearn: 0.9999500\ttotal: 7m 47s\tremaining: 5m 10s\n",
      "601:\tlearn: 0.9999500\ttotal: 7m 48s\tremaining: 5m 9s\n",
      "602:\tlearn: 0.9999500\ttotal: 7m 49s\tremaining: 5m 9s\n",
      "603:\tlearn: 0.9999500\ttotal: 7m 50s\tremaining: 5m 8s\n",
      "604:\tlearn: 0.9999500\ttotal: 7m 51s\tremaining: 5m 7s\n",
      "605:\tlearn: 0.9999500\ttotal: 7m 51s\tremaining: 5m 6s\n",
      "606:\tlearn: 0.9999500\ttotal: 7m 52s\tremaining: 5m 6s\n",
      "607:\tlearn: 0.9999500\ttotal: 7m 53s\tremaining: 5m 5s\n",
      "608:\tlearn: 0.9999500\ttotal: 7m 54s\tremaining: 5m 4s\n",
      "609:\tlearn: 0.9999500\ttotal: 7m 55s\tremaining: 5m 3s\n",
      "610:\tlearn: 0.9999500\ttotal: 7m 55s\tremaining: 5m 2s\n",
      "611:\tlearn: 0.9999500\ttotal: 7m 56s\tremaining: 5m 2s\n"
     ]
    },
    {
     "name": "stdout",
     "output_type": "stream",
     "text": [
      "612:\tlearn: 0.9999500\ttotal: 7m 57s\tremaining: 5m 1s\n",
      "613:\tlearn: 0.9999500\ttotal: 7m 58s\tremaining: 5m\n",
      "614:\tlearn: 0.9999500\ttotal: 7m 58s\tremaining: 4m 59s\n",
      "615:\tlearn: 0.9999500\ttotal: 7m 59s\tremaining: 4m 59s\n",
      "616:\tlearn: 0.9999500\ttotal: 8m\tremaining: 4m 58s\n",
      "617:\tlearn: 0.9999500\ttotal: 8m 1s\tremaining: 4m 57s\n",
      "618:\tlearn: 0.9999500\ttotal: 8m 2s\tremaining: 4m 56s\n",
      "619:\tlearn: 0.9999500\ttotal: 8m 2s\tremaining: 4m 55s\n",
      "620:\tlearn: 0.9999500\ttotal: 8m 3s\tremaining: 4m 55s\n",
      "621:\tlearn: 0.9999500\ttotal: 8m 4s\tremaining: 4m 54s\n",
      "622:\tlearn: 0.9999500\ttotal: 8m 5s\tremaining: 4m 53s\n",
      "623:\tlearn: 0.9999500\ttotal: 8m 6s\tremaining: 4m 52s\n",
      "624:\tlearn: 0.9999500\ttotal: 8m 6s\tremaining: 4m 52s\n",
      "625:\tlearn: 0.9999500\ttotal: 8m 7s\tremaining: 4m 51s\n",
      "626:\tlearn: 0.9999500\ttotal: 8m 8s\tremaining: 4m 50s\n",
      "627:\tlearn: 0.9999500\ttotal: 8m 9s\tremaining: 4m 49s\n",
      "628:\tlearn: 0.9999500\ttotal: 8m 9s\tremaining: 4m 49s\n",
      "629:\tlearn: 0.9999500\ttotal: 8m 10s\tremaining: 4m 48s\n",
      "630:\tlearn: 0.9999500\ttotal: 8m 11s\tremaining: 4m 47s\n",
      "631:\tlearn: 0.9999500\ttotal: 8m 12s\tremaining: 4m 46s\n",
      "632:\tlearn: 0.9999500\ttotal: 8m 13s\tremaining: 4m 45s\n",
      "633:\tlearn: 0.9999500\ttotal: 8m 13s\tremaining: 4m 45s\n",
      "634:\tlearn: 0.9999500\ttotal: 8m 14s\tremaining: 4m 44s\n",
      "635:\tlearn: 0.9999500\ttotal: 8m 15s\tremaining: 4m 43s\n",
      "636:\tlearn: 0.9999500\ttotal: 8m 16s\tremaining: 4m 42s\n",
      "637:\tlearn: 0.9999500\ttotal: 8m 17s\tremaining: 4m 42s\n",
      "638:\tlearn: 0.9999500\ttotal: 8m 17s\tremaining: 4m 41s\n",
      "639:\tlearn: 0.9999500\ttotal: 8m 18s\tremaining: 4m 40s\n",
      "640:\tlearn: 0.9999500\ttotal: 8m 19s\tremaining: 4m 39s\n",
      "641:\tlearn: 0.9999500\ttotal: 8m 20s\tremaining: 4m 38s\n",
      "642:\tlearn: 0.9999500\ttotal: 8m 20s\tremaining: 4m 38s\n",
      "643:\tlearn: 0.9999500\ttotal: 8m 21s\tremaining: 4m 37s\n",
      "644:\tlearn: 0.9999500\ttotal: 8m 22s\tremaining: 4m 36s\n",
      "645:\tlearn: 0.9999500\ttotal: 8m 23s\tremaining: 4m 35s\n",
      "646:\tlearn: 0.9999500\ttotal: 8m 24s\tremaining: 4m 34s\n",
      "647:\tlearn: 0.9999500\ttotal: 8m 24s\tremaining: 4m 34s\n",
      "648:\tlearn: 0.9999500\ttotal: 8m 25s\tremaining: 4m 33s\n",
      "649:\tlearn: 0.9999500\ttotal: 8m 26s\tremaining: 4m 32s\n",
      "650:\tlearn: 0.9999500\ttotal: 8m 27s\tremaining: 4m 31s\n",
      "651:\tlearn: 0.9999500\ttotal: 8m 27s\tremaining: 4m 31s\n",
      "652:\tlearn: 0.9999500\ttotal: 8m 28s\tremaining: 4m 30s\n",
      "653:\tlearn: 0.9999500\ttotal: 8m 29s\tremaining: 4m 29s\n",
      "654:\tlearn: 0.9999500\ttotal: 8m 30s\tremaining: 4m 28s\n",
      "655:\tlearn: 0.9999500\ttotal: 8m 30s\tremaining: 4m 27s\n",
      "656:\tlearn: 0.9999500\ttotal: 8m 31s\tremaining: 4m 27s\n",
      "657:\tlearn: 0.9999500\ttotal: 8m 32s\tremaining: 4m 26s\n",
      "658:\tlearn: 0.9999500\ttotal: 8m 33s\tremaining: 4m 25s\n",
      "659:\tlearn: 0.9999500\ttotal: 8m 34s\tremaining: 4m 24s\n",
      "660:\tlearn: 0.9999500\ttotal: 8m 35s\tremaining: 4m 24s\n",
      "661:\tlearn: 0.9999500\ttotal: 8m 35s\tremaining: 4m 23s\n",
      "662:\tlearn: 0.9999500\ttotal: 8m 36s\tremaining: 4m 22s\n",
      "663:\tlearn: 0.9999500\ttotal: 8m 37s\tremaining: 4m 21s\n",
      "664:\tlearn: 0.9999500\ttotal: 8m 38s\tremaining: 4m 20s\n",
      "665:\tlearn: 0.9999500\ttotal: 8m 38s\tremaining: 4m 20s\n",
      "666:\tlearn: 0.9999500\ttotal: 8m 39s\tremaining: 4m 19s\n",
      "667:\tlearn: 0.9999500\ttotal: 8m 40s\tremaining: 4m 18s\n",
      "668:\tlearn: 0.9999500\ttotal: 8m 41s\tremaining: 4m 17s\n",
      "669:\tlearn: 0.9999500\ttotal: 8m 41s\tremaining: 4m 17s\n",
      "670:\tlearn: 0.9999500\ttotal: 8m 42s\tremaining: 4m 16s\n",
      "671:\tlearn: 0.9999500\ttotal: 8m 43s\tremaining: 4m 15s\n",
      "672:\tlearn: 0.9999500\ttotal: 8m 44s\tremaining: 4m 14s\n",
      "673:\tlearn: 0.9999500\ttotal: 8m 45s\tremaining: 4m 14s\n",
      "674:\tlearn: 0.9999500\ttotal: 8m 45s\tremaining: 4m 13s\n",
      "675:\tlearn: 0.9999500\ttotal: 8m 46s\tremaining: 4m 12s\n",
      "676:\tlearn: 0.9999500\ttotal: 8m 47s\tremaining: 4m 11s\n",
      "677:\tlearn: 0.9999500\ttotal: 8m 48s\tremaining: 4m 10s\n",
      "678:\tlearn: 0.9999500\ttotal: 8m 49s\tremaining: 4m 10s\n",
      "679:\tlearn: 0.9999500\ttotal: 8m 49s\tremaining: 4m 9s\n",
      "680:\tlearn: 0.9999500\ttotal: 8m 50s\tremaining: 4m 8s\n",
      "681:\tlearn: 0.9999500\ttotal: 8m 51s\tremaining: 4m 7s\n",
      "682:\tlearn: 0.9999500\ttotal: 8m 52s\tremaining: 4m 7s\n",
      "683:\tlearn: 0.9999500\ttotal: 8m 53s\tremaining: 4m 6s\n",
      "684:\tlearn: 0.9999500\ttotal: 8m 53s\tremaining: 4m 5s\n",
      "685:\tlearn: 0.9999500\ttotal: 8m 54s\tremaining: 4m 4s\n",
      "686:\tlearn: 0.9999500\ttotal: 8m 55s\tremaining: 4m 3s\n",
      "687:\tlearn: 0.9999500\ttotal: 8m 56s\tremaining: 4m 3s\n",
      "688:\tlearn: 0.9999500\ttotal: 8m 56s\tremaining: 4m 2s\n",
      "689:\tlearn: 0.9999500\ttotal: 8m 57s\tremaining: 4m 1s\n",
      "690:\tlearn: 0.9999500\ttotal: 8m 58s\tremaining: 4m\n",
      "691:\tlearn: 0.9999500\ttotal: 8m 59s\tremaining: 4m\n",
      "692:\tlearn: 0.9999500\ttotal: 9m\tremaining: 3m 59s\n",
      "693:\tlearn: 0.9999500\ttotal: 9m\tremaining: 3m 58s\n",
      "694:\tlearn: 0.9999500\ttotal: 9m 1s\tremaining: 3m 57s\n",
      "695:\tlearn: 0.9999500\ttotal: 9m 2s\tremaining: 3m 56s\n",
      "696:\tlearn: 0.9999500\ttotal: 9m 3s\tremaining: 3m 56s\n",
      "697:\tlearn: 0.9999500\ttotal: 9m 3s\tremaining: 3m 55s\n",
      "698:\tlearn: 0.9999500\ttotal: 9m 4s\tremaining: 3m 54s\n",
      "699:\tlearn: 0.9999500\ttotal: 9m 5s\tremaining: 3m 53s\n",
      "700:\tlearn: 0.9999500\ttotal: 9m 6s\tremaining: 3m 53s\n",
      "701:\tlearn: 0.9999500\ttotal: 9m 7s\tremaining: 3m 52s\n",
      "702:\tlearn: 0.9999500\ttotal: 9m 7s\tremaining: 3m 51s\n",
      "703:\tlearn: 0.9999500\ttotal: 9m 8s\tremaining: 3m 50s\n",
      "704:\tlearn: 0.9999500\ttotal: 9m 9s\tremaining: 3m 49s\n",
      "705:\tlearn: 0.9999500\ttotal: 9m 10s\tremaining: 3m 49s\n",
      "706:\tlearn: 0.9999500\ttotal: 9m 11s\tremaining: 3m 48s\n",
      "707:\tlearn: 0.9999500\ttotal: 9m 11s\tremaining: 3m 47s\n",
      "708:\tlearn: 0.9999500\ttotal: 9m 12s\tremaining: 3m 46s\n",
      "709:\tlearn: 0.9999500\ttotal: 9m 13s\tremaining: 3m 46s\n",
      "710:\tlearn: 0.9999500\ttotal: 9m 14s\tremaining: 3m 45s\n",
      "711:\tlearn: 0.9999500\ttotal: 9m 15s\tremaining: 3m 44s\n",
      "712:\tlearn: 0.9999500\ttotal: 9m 15s\tremaining: 3m 43s\n",
      "713:\tlearn: 0.9999500\ttotal: 9m 16s\tremaining: 3m 42s\n",
      "714:\tlearn: 0.9999500\ttotal: 9m 17s\tremaining: 3m 42s\n",
      "715:\tlearn: 0.9999500\ttotal: 9m 18s\tremaining: 3m 41s\n",
      "716:\tlearn: 0.9999500\ttotal: 9m 18s\tremaining: 3m 40s\n",
      "717:\tlearn: 0.9999500\ttotal: 9m 19s\tremaining: 3m 39s\n",
      "718:\tlearn: 0.9999500\ttotal: 9m 20s\tremaining: 3m 39s\n",
      "719:\tlearn: 0.9999500\ttotal: 9m 21s\tremaining: 3m 38s\n",
      "720:\tlearn: 0.9999500\ttotal: 9m 22s\tremaining: 3m 37s\n",
      "721:\tlearn: 0.9999500\ttotal: 9m 22s\tremaining: 3m 36s\n",
      "722:\tlearn: 0.9999500\ttotal: 9m 23s\tremaining: 3m 35s\n",
      "723:\tlearn: 0.9999500\ttotal: 9m 24s\tremaining: 3m 35s\n",
      "724:\tlearn: 0.9999500\ttotal: 9m 25s\tremaining: 3m 34s\n",
      "725:\tlearn: 0.9999500\ttotal: 9m 25s\tremaining: 3m 33s\n",
      "726:\tlearn: 0.9999500\ttotal: 9m 26s\tremaining: 3m 32s\n",
      "727:\tlearn: 0.9999500\ttotal: 9m 27s\tremaining: 3m 32s\n",
      "728:\tlearn: 0.9999500\ttotal: 9m 28s\tremaining: 3m 31s\n",
      "729:\tlearn: 0.9999500\ttotal: 9m 29s\tremaining: 3m 30s\n",
      "730:\tlearn: 0.9999500\ttotal: 9m 29s\tremaining: 3m 29s\n",
      "731:\tlearn: 0.9999500\ttotal: 9m 30s\tremaining: 3m 28s\n",
      "732:\tlearn: 0.9999500\ttotal: 9m 31s\tremaining: 3m 28s\n",
      "733:\tlearn: 0.9999500\ttotal: 9m 32s\tremaining: 3m 27s\n",
      "734:\tlearn: 0.9999500\ttotal: 9m 32s\tremaining: 3m 26s\n",
      "735:\tlearn: 0.9999500\ttotal: 9m 33s\tremaining: 3m 25s\n",
      "736:\tlearn: 0.9999500\ttotal: 9m 34s\tremaining: 3m 25s\n",
      "737:\tlearn: 0.9999500\ttotal: 9m 35s\tremaining: 3m 24s\n",
      "738:\tlearn: 0.9999500\ttotal: 9m 36s\tremaining: 3m 23s\n",
      "739:\tlearn: 0.9999500\ttotal: 9m 36s\tremaining: 3m 22s\n",
      "740:\tlearn: 0.9999500\ttotal: 9m 37s\tremaining: 3m 21s\n",
      "741:\tlearn: 0.9999500\ttotal: 9m 38s\tremaining: 3m 21s\n",
      "742:\tlearn: 0.9999500\ttotal: 9m 39s\tremaining: 3m 20s\n",
      "743:\tlearn: 0.9999500\ttotal: 9m 40s\tremaining: 3m 19s\n",
      "744:\tlearn: 0.9999500\ttotal: 9m 40s\tremaining: 3m 18s\n",
      "745:\tlearn: 0.9999500\ttotal: 9m 41s\tremaining: 3m 18s\n",
      "746:\tlearn: 0.9999500\ttotal: 9m 42s\tremaining: 3m 17s\n",
      "747:\tlearn: 0.9999500\ttotal: 9m 43s\tremaining: 3m 16s\n",
      "748:\tlearn: 0.9999500\ttotal: 9m 43s\tremaining: 3m 15s\n",
      "749:\tlearn: 0.9999500\ttotal: 9m 44s\tremaining: 3m 14s\n",
      "750:\tlearn: 0.9999500\ttotal: 9m 45s\tremaining: 3m 14s\n",
      "751:\tlearn: 0.9999500\ttotal: 9m 46s\tremaining: 3m 13s\n",
      "752:\tlearn: 0.9999500\ttotal: 9m 47s\tremaining: 3m 12s\n",
      "753:\tlearn: 0.9999500\ttotal: 9m 47s\tremaining: 3m 11s\n",
      "754:\tlearn: 0.9999500\ttotal: 9m 48s\tremaining: 3m 10s\n",
      "755:\tlearn: 0.9999500\ttotal: 9m 49s\tremaining: 3m 10s\n",
      "756:\tlearn: 0.9999500\ttotal: 9m 50s\tremaining: 3m 9s\n",
      "757:\tlearn: 0.9999500\ttotal: 9m 50s\tremaining: 3m 8s\n",
      "758:\tlearn: 0.9999500\ttotal: 9m 51s\tremaining: 3m 7s\n",
      "759:\tlearn: 0.9999500\ttotal: 9m 52s\tremaining: 3m 7s\n",
      "760:\tlearn: 0.9999500\ttotal: 9m 53s\tremaining: 3m 6s\n",
      "761:\tlearn: 0.9999500\ttotal: 9m 54s\tremaining: 3m 5s\n",
      "762:\tlearn: 0.9999500\ttotal: 9m 54s\tremaining: 3m 4s\n",
      "763:\tlearn: 0.9999500\ttotal: 9m 55s\tremaining: 3m 3s\n",
      "764:\tlearn: 0.9999500\ttotal: 9m 56s\tremaining: 3m 3s\n"
     ]
    },
    {
     "name": "stdout",
     "output_type": "stream",
     "text": [
      "765:\tlearn: 0.9999500\ttotal: 9m 57s\tremaining: 3m 2s\n",
      "766:\tlearn: 0.9999500\ttotal: 9m 57s\tremaining: 3m 1s\n",
      "767:\tlearn: 0.9999500\ttotal: 9m 58s\tremaining: 3m\n",
      "768:\tlearn: 0.9999500\ttotal: 9m 59s\tremaining: 3m\n",
      "769:\tlearn: 0.9999500\ttotal: 10m\tremaining: 2m 59s\n",
      "770:\tlearn: 0.9999500\ttotal: 10m 1s\tremaining: 2m 58s\n",
      "771:\tlearn: 0.9999500\ttotal: 10m 1s\tremaining: 2m 57s\n",
      "772:\tlearn: 0.9999500\ttotal: 10m 2s\tremaining: 2m 56s\n",
      "773:\tlearn: 0.9999500\ttotal: 10m 3s\tremaining: 2m 56s\n",
      "774:\tlearn: 0.9999500\ttotal: 10m 4s\tremaining: 2m 55s\n",
      "775:\tlearn: 0.9999500\ttotal: 10m 5s\tremaining: 2m 54s\n",
      "776:\tlearn: 0.9999500\ttotal: 10m 5s\tremaining: 2m 53s\n",
      "777:\tlearn: 0.9999500\ttotal: 10m 6s\tremaining: 2m 53s\n",
      "778:\tlearn: 0.9999500\ttotal: 10m 7s\tremaining: 2m 52s\n",
      "779:\tlearn: 0.9999500\ttotal: 10m 8s\tremaining: 2m 51s\n",
      "780:\tlearn: 0.9999500\ttotal: 10m 8s\tremaining: 2m 50s\n",
      "781:\tlearn: 0.9999500\ttotal: 10m 9s\tremaining: 2m 49s\n",
      "782:\tlearn: 0.9999500\ttotal: 10m 10s\tremaining: 2m 49s\n",
      "783:\tlearn: 0.9999500\ttotal: 10m 11s\tremaining: 2m 48s\n",
      "784:\tlearn: 0.9999500\ttotal: 10m 12s\tremaining: 2m 47s\n",
      "785:\tlearn: 0.9999500\ttotal: 10m 12s\tremaining: 2m 46s\n",
      "786:\tlearn: 0.9999500\ttotal: 10m 13s\tremaining: 2m 46s\n",
      "787:\tlearn: 0.9999500\ttotal: 10m 14s\tremaining: 2m 45s\n",
      "788:\tlearn: 0.9999500\ttotal: 10m 15s\tremaining: 2m 44s\n",
      "789:\tlearn: 0.9999500\ttotal: 10m 15s\tremaining: 2m 43s\n",
      "790:\tlearn: 0.9999500\ttotal: 10m 16s\tremaining: 2m 42s\n",
      "791:\tlearn: 0.9999500\ttotal: 10m 17s\tremaining: 2m 42s\n",
      "792:\tlearn: 0.9999500\ttotal: 10m 18s\tremaining: 2m 41s\n",
      "793:\tlearn: 0.9999500\ttotal: 10m 19s\tremaining: 2m 40s\n",
      "794:\tlearn: 0.9999500\ttotal: 10m 19s\tremaining: 2m 39s\n",
      "795:\tlearn: 0.9999500\ttotal: 10m 20s\tremaining: 2m 39s\n",
      "796:\tlearn: 0.9999500\ttotal: 10m 21s\tremaining: 2m 38s\n",
      "797:\tlearn: 0.9999500\ttotal: 10m 22s\tremaining: 2m 37s\n",
      "798:\tlearn: 0.9999500\ttotal: 10m 22s\tremaining: 2m 36s\n",
      "799:\tlearn: 0.9999500\ttotal: 10m 23s\tremaining: 2m 35s\n",
      "800:\tlearn: 0.9999500\ttotal: 10m 24s\tremaining: 2m 35s\n",
      "801:\tlearn: 0.9999500\ttotal: 10m 25s\tremaining: 2m 34s\n",
      "802:\tlearn: 0.9999500\ttotal: 10m 26s\tremaining: 2m 33s\n",
      "803:\tlearn: 0.9999500\ttotal: 10m 26s\tremaining: 2m 32s\n",
      "804:\tlearn: 0.9999500\ttotal: 10m 27s\tremaining: 2m 32s\n",
      "805:\tlearn: 0.9999500\ttotal: 10m 28s\tremaining: 2m 31s\n",
      "806:\tlearn: 0.9999500\ttotal: 10m 29s\tremaining: 2m 30s\n",
      "807:\tlearn: 0.9999500\ttotal: 10m 30s\tremaining: 2m 29s\n",
      "808:\tlearn: 0.9999500\ttotal: 10m 30s\tremaining: 2m 28s\n",
      "809:\tlearn: 0.9999500\ttotal: 10m 31s\tremaining: 2m 28s\n",
      "810:\tlearn: 0.9999500\ttotal: 10m 32s\tremaining: 2m 27s\n",
      "811:\tlearn: 0.9999500\ttotal: 10m 33s\tremaining: 2m 26s\n",
      "812:\tlearn: 0.9999500\ttotal: 10m 33s\tremaining: 2m 25s\n",
      "813:\tlearn: 0.9999500\ttotal: 10m 34s\tremaining: 2m 25s\n",
      "814:\tlearn: 0.9999500\ttotal: 10m 35s\tremaining: 2m 24s\n",
      "815:\tlearn: 0.9999500\ttotal: 10m 36s\tremaining: 2m 23s\n",
      "816:\tlearn: 0.9999500\ttotal: 10m 37s\tremaining: 2m 22s\n",
      "817:\tlearn: 0.9999500\ttotal: 10m 37s\tremaining: 2m 21s\n",
      "818:\tlearn: 0.9999500\ttotal: 10m 38s\tremaining: 2m 21s\n",
      "819:\tlearn: 0.9999500\ttotal: 10m 39s\tremaining: 2m 20s\n",
      "820:\tlearn: 0.9999500\ttotal: 10m 40s\tremaining: 2m 19s\n",
      "821:\tlearn: 0.9999500\ttotal: 10m 40s\tremaining: 2m 18s\n",
      "822:\tlearn: 0.9999500\ttotal: 10m 41s\tremaining: 2m 18s\n",
      "823:\tlearn: 0.9999500\ttotal: 10m 42s\tremaining: 2m 17s\n",
      "824:\tlearn: 0.9999500\ttotal: 10m 43s\tremaining: 2m 16s\n",
      "825:\tlearn: 0.9999500\ttotal: 10m 44s\tremaining: 2m 15s\n",
      "826:\tlearn: 0.9999500\ttotal: 10m 44s\tremaining: 2m 14s\n",
      "827:\tlearn: 0.9999500\ttotal: 10m 45s\tremaining: 2m 14s\n",
      "828:\tlearn: 0.9999500\ttotal: 10m 46s\tremaining: 2m 13s\n",
      "829:\tlearn: 0.9999500\ttotal: 10m 47s\tremaining: 2m 12s\n",
      "830:\tlearn: 0.9999500\ttotal: 10m 47s\tremaining: 2m 11s\n",
      "831:\tlearn: 0.9999500\ttotal: 10m 48s\tremaining: 2m 10s\n",
      "832:\tlearn: 0.9999500\ttotal: 10m 49s\tremaining: 2m 10s\n",
      "833:\tlearn: 0.9999500\ttotal: 10m 50s\tremaining: 2m 9s\n",
      "834:\tlearn: 0.9999500\ttotal: 10m 51s\tremaining: 2m 8s\n",
      "835:\tlearn: 0.9999500\ttotal: 10m 51s\tremaining: 2m 7s\n",
      "836:\tlearn: 0.9999500\ttotal: 10m 52s\tremaining: 2m 7s\n",
      "837:\tlearn: 0.9999500\ttotal: 10m 53s\tremaining: 2m 6s\n",
      "838:\tlearn: 0.9999500\ttotal: 10m 54s\tremaining: 2m 5s\n",
      "839:\tlearn: 0.9999500\ttotal: 10m 54s\tremaining: 2m 4s\n",
      "840:\tlearn: 0.9999500\ttotal: 10m 55s\tremaining: 2m 3s\n",
      "841:\tlearn: 0.9999500\ttotal: 10m 56s\tremaining: 2m 3s\n",
      "842:\tlearn: 0.9999500\ttotal: 10m 57s\tremaining: 2m 2s\n",
      "843:\tlearn: 0.9999500\ttotal: 10m 58s\tremaining: 2m 1s\n",
      "844:\tlearn: 0.9999500\ttotal: 10m 58s\tremaining: 2m\n",
      "845:\tlearn: 0.9999500\ttotal: 10m 59s\tremaining: 2m\n",
      "846:\tlearn: 0.9999500\ttotal: 11m\tremaining: 1m 59s\n",
      "847:\tlearn: 0.9999500\ttotal: 11m 1s\tremaining: 1m 58s\n",
      "848:\tlearn: 0.9999500\ttotal: 11m 1s\tremaining: 1m 57s\n",
      "849:\tlearn: 0.9999500\ttotal: 11m 2s\tremaining: 1m 56s\n",
      "850:\tlearn: 0.9999500\ttotal: 11m 3s\tremaining: 1m 56s\n",
      "851:\tlearn: 0.9999500\ttotal: 11m 4s\tremaining: 1m 55s\n",
      "852:\tlearn: 0.9999500\ttotal: 11m 5s\tremaining: 1m 54s\n",
      "853:\tlearn: 0.9999500\ttotal: 11m 5s\tremaining: 1m 53s\n",
      "854:\tlearn: 0.9999500\ttotal: 11m 6s\tremaining: 1m 53s\n",
      "855:\tlearn: 0.9999500\ttotal: 11m 7s\tremaining: 1m 52s\n",
      "856:\tlearn: 0.9999500\ttotal: 11m 8s\tremaining: 1m 51s\n",
      "857:\tlearn: 0.9999500\ttotal: 11m 9s\tremaining: 1m 50s\n",
      "858:\tlearn: 0.9999500\ttotal: 11m 9s\tremaining: 1m 49s\n",
      "859:\tlearn: 0.9999500\ttotal: 11m 10s\tremaining: 1m 49s\n",
      "860:\tlearn: 0.9999500\ttotal: 11m 11s\tremaining: 1m 48s\n",
      "861:\tlearn: 0.9999500\ttotal: 11m 12s\tremaining: 1m 47s\n",
      "862:\tlearn: 0.9999500\ttotal: 11m 12s\tremaining: 1m 46s\n",
      "863:\tlearn: 0.9999500\ttotal: 11m 13s\tremaining: 1m 46s\n",
      "864:\tlearn: 0.9999500\ttotal: 11m 14s\tremaining: 1m 45s\n",
      "865:\tlearn: 0.9999500\ttotal: 11m 15s\tremaining: 1m 44s\n",
      "866:\tlearn: 0.9999500\ttotal: 11m 16s\tremaining: 1m 43s\n",
      "867:\tlearn: 0.9999500\ttotal: 11m 16s\tremaining: 1m 42s\n",
      "868:\tlearn: 0.9999500\ttotal: 11m 17s\tremaining: 1m 42s\n",
      "869:\tlearn: 0.9999500\ttotal: 11m 18s\tremaining: 1m 41s\n",
      "870:\tlearn: 0.9999500\ttotal: 11m 19s\tremaining: 1m 40s\n",
      "871:\tlearn: 0.9999500\ttotal: 11m 20s\tremaining: 1m 39s\n",
      "872:\tlearn: 0.9999500\ttotal: 11m 20s\tremaining: 1m 39s\n",
      "873:\tlearn: 0.9999500\ttotal: 11m 21s\tremaining: 1m 38s\n",
      "874:\tlearn: 0.9999500\ttotal: 11m 22s\tremaining: 1m 37s\n",
      "875:\tlearn: 0.9999500\ttotal: 11m 23s\tremaining: 1m 36s\n",
      "876:\tlearn: 0.9999500\ttotal: 11m 23s\tremaining: 1m 35s\n",
      "877:\tlearn: 0.9999500\ttotal: 11m 24s\tremaining: 1m 35s\n",
      "878:\tlearn: 0.9999500\ttotal: 11m 25s\tremaining: 1m 34s\n",
      "879:\tlearn: 0.9999500\ttotal: 11m 26s\tremaining: 1m 33s\n",
      "880:\tlearn: 0.9999500\ttotal: 11m 27s\tremaining: 1m 32s\n",
      "881:\tlearn: 0.9999500\ttotal: 11m 27s\tremaining: 1m 32s\n",
      "882:\tlearn: 0.9999500\ttotal: 11m 28s\tremaining: 1m 31s\n",
      "883:\tlearn: 0.9999500\ttotal: 11m 29s\tremaining: 1m 30s\n",
      "884:\tlearn: 0.9999500\ttotal: 11m 30s\tremaining: 1m 29s\n",
      "885:\tlearn: 0.9999500\ttotal: 11m 30s\tremaining: 1m 28s\n",
      "886:\tlearn: 0.9999500\ttotal: 11m 31s\tremaining: 1m 28s\n",
      "887:\tlearn: 0.9999500\ttotal: 11m 32s\tremaining: 1m 27s\n",
      "888:\tlearn: 0.9999500\ttotal: 11m 33s\tremaining: 1m 26s\n",
      "889:\tlearn: 0.9999500\ttotal: 11m 34s\tremaining: 1m 25s\n",
      "890:\tlearn: 0.9999500\ttotal: 11m 34s\tremaining: 1m 25s\n",
      "891:\tlearn: 0.9999500\ttotal: 11m 35s\tremaining: 1m 24s\n",
      "892:\tlearn: 0.9999500\ttotal: 11m 36s\tremaining: 1m 23s\n",
      "893:\tlearn: 0.9999500\ttotal: 11m 37s\tremaining: 1m 22s\n",
      "894:\tlearn: 0.9999500\ttotal: 11m 37s\tremaining: 1m 21s\n",
      "895:\tlearn: 0.9999500\ttotal: 11m 38s\tremaining: 1m 21s\n",
      "896:\tlearn: 0.9999500\ttotal: 11m 39s\tremaining: 1m 20s\n",
      "897:\tlearn: 0.9999500\ttotal: 11m 40s\tremaining: 1m 19s\n",
      "898:\tlearn: 0.9999500\ttotal: 11m 41s\tremaining: 1m 18s\n",
      "899:\tlearn: 0.9999500\ttotal: 11m 41s\tremaining: 1m 17s\n",
      "900:\tlearn: 0.9999500\ttotal: 11m 42s\tremaining: 1m 17s\n",
      "901:\tlearn: 0.9999500\ttotal: 11m 43s\tremaining: 1m 16s\n",
      "902:\tlearn: 0.9999500\ttotal: 11m 44s\tremaining: 1m 15s\n",
      "903:\tlearn: 0.9999500\ttotal: 11m 44s\tremaining: 1m 14s\n",
      "904:\tlearn: 0.9999500\ttotal: 11m 45s\tremaining: 1m 14s\n",
      "905:\tlearn: 0.9999500\ttotal: 11m 46s\tremaining: 1m 13s\n",
      "906:\tlearn: 0.9999500\ttotal: 11m 47s\tremaining: 1m 12s\n",
      "907:\tlearn: 0.9999500\ttotal: 11m 48s\tremaining: 1m 11s\n",
      "908:\tlearn: 0.9999500\ttotal: 11m 48s\tremaining: 1m 10s\n",
      "909:\tlearn: 0.9999500\ttotal: 11m 49s\tremaining: 1m 10s\n",
      "910:\tlearn: 0.9999500\ttotal: 11m 50s\tremaining: 1m 9s\n",
      "911:\tlearn: 0.9999500\ttotal: 11m 51s\tremaining: 1m 8s\n",
      "912:\tlearn: 0.9999500\ttotal: 11m 52s\tremaining: 1m 7s\n",
      "913:\tlearn: 0.9999500\ttotal: 11m 52s\tremaining: 1m 7s\n",
      "914:\tlearn: 0.9999500\ttotal: 11m 53s\tremaining: 1m 6s\n",
      "915:\tlearn: 0.9999500\ttotal: 11m 54s\tremaining: 1m 5s\n"
     ]
    },
    {
     "name": "stdout",
     "output_type": "stream",
     "text": [
      "916:\tlearn: 0.9999500\ttotal: 11m 55s\tremaining: 1m 4s\n",
      "917:\tlearn: 0.9999500\ttotal: 11m 55s\tremaining: 1m 3s\n",
      "918:\tlearn: 0.9999500\ttotal: 11m 56s\tremaining: 1m 3s\n",
      "919:\tlearn: 0.9999500\ttotal: 11m 57s\tremaining: 1m 2s\n",
      "920:\tlearn: 0.9999500\ttotal: 11m 58s\tremaining: 1m 1s\n",
      "921:\tlearn: 0.9999500\ttotal: 11m 58s\tremaining: 1m\n",
      "922:\tlearn: 0.9999500\ttotal: 11m 59s\tremaining: 1m\n",
      "923:\tlearn: 0.9999500\ttotal: 12m\tremaining: 59.3s\n",
      "924:\tlearn: 0.9999500\ttotal: 12m 1s\tremaining: 58.5s\n",
      "925:\tlearn: 0.9999500\ttotal: 12m 2s\tremaining: 57.7s\n",
      "926:\tlearn: 0.9999500\ttotal: 12m 2s\tremaining: 56.9s\n",
      "927:\tlearn: 0.9999500\ttotal: 12m 3s\tremaining: 56.1s\n",
      "928:\tlearn: 0.9999500\ttotal: 12m 4s\tremaining: 55.4s\n",
      "929:\tlearn: 0.9999500\ttotal: 12m 5s\tremaining: 54.6s\n",
      "930:\tlearn: 0.9999500\ttotal: 12m 5s\tremaining: 53.8s\n",
      "931:\tlearn: 0.9999500\ttotal: 12m 6s\tremaining: 53s\n",
      "932:\tlearn: 0.9999500\ttotal: 12m 7s\tremaining: 52.2s\n",
      "933:\tlearn: 0.9999500\ttotal: 12m 8s\tremaining: 51.5s\n",
      "934:\tlearn: 0.9999500\ttotal: 12m 9s\tremaining: 50.7s\n",
      "935:\tlearn: 0.9999500\ttotal: 12m 9s\tremaining: 49.9s\n",
      "936:\tlearn: 0.9999500\ttotal: 12m 10s\tremaining: 49.1s\n",
      "937:\tlearn: 0.9999500\ttotal: 12m 11s\tremaining: 48.3s\n",
      "938:\tlearn: 0.9999500\ttotal: 12m 12s\tremaining: 47.6s\n",
      "939:\tlearn: 0.9999500\ttotal: 12m 12s\tremaining: 46.8s\n",
      "940:\tlearn: 0.9999500\ttotal: 12m 13s\tremaining: 46s\n",
      "941:\tlearn: 0.9999500\ttotal: 12m 14s\tremaining: 45.2s\n",
      "942:\tlearn: 0.9999500\ttotal: 12m 15s\tremaining: 44.4s\n",
      "943:\tlearn: 0.9999500\ttotal: 12m 16s\tremaining: 43.7s\n",
      "944:\tlearn: 0.9999500\ttotal: 12m 16s\tremaining: 42.9s\n",
      "945:\tlearn: 0.9999500\ttotal: 12m 17s\tremaining: 42.1s\n",
      "946:\tlearn: 0.9999500\ttotal: 12m 18s\tremaining: 41.3s\n",
      "947:\tlearn: 0.9999500\ttotal: 12m 19s\tremaining: 40.6s\n",
      "948:\tlearn: 0.9999500\ttotal: 12m 20s\tremaining: 39.8s\n",
      "949:\tlearn: 0.9999500\ttotal: 12m 20s\tremaining: 39s\n",
      "950:\tlearn: 0.9999500\ttotal: 12m 21s\tremaining: 38.2s\n",
      "951:\tlearn: 0.9999500\ttotal: 12m 22s\tremaining: 37.4s\n",
      "952:\tlearn: 0.9999500\ttotal: 12m 23s\tremaining: 36.7s\n",
      "953:\tlearn: 0.9999500\ttotal: 12m 24s\tremaining: 35.9s\n",
      "954:\tlearn: 0.9999500\ttotal: 12m 24s\tremaining: 35.1s\n",
      "955:\tlearn: 0.9999500\ttotal: 12m 25s\tremaining: 34.3s\n",
      "956:\tlearn: 0.9999500\ttotal: 12m 26s\tremaining: 33.5s\n",
      "957:\tlearn: 0.9999500\ttotal: 12m 27s\tremaining: 32.8s\n",
      "958:\tlearn: 0.9999500\ttotal: 12m 27s\tremaining: 32s\n",
      "959:\tlearn: 0.9999500\ttotal: 12m 28s\tremaining: 31.2s\n",
      "960:\tlearn: 0.9999500\ttotal: 12m 29s\tremaining: 30.4s\n",
      "961:\tlearn: 0.9999500\ttotal: 12m 30s\tremaining: 29.6s\n",
      "962:\tlearn: 0.9999500\ttotal: 12m 31s\tremaining: 28.9s\n",
      "963:\tlearn: 0.9999500\ttotal: 12m 31s\tremaining: 28.1s\n",
      "964:\tlearn: 0.9999500\ttotal: 12m 32s\tremaining: 27.3s\n",
      "965:\tlearn: 0.9999500\ttotal: 12m 33s\tremaining: 26.5s\n",
      "966:\tlearn: 0.9999500\ttotal: 12m 34s\tremaining: 25.7s\n",
      "967:\tlearn: 0.9999500\ttotal: 12m 34s\tremaining: 25s\n",
      "968:\tlearn: 0.9999500\ttotal: 12m 35s\tremaining: 24.2s\n",
      "969:\tlearn: 0.9999500\ttotal: 12m 36s\tremaining: 23.4s\n",
      "970:\tlearn: 0.9999500\ttotal: 12m 37s\tremaining: 22.6s\n",
      "971:\tlearn: 0.9999500\ttotal: 12m 38s\tremaining: 21.8s\n",
      "972:\tlearn: 0.9999500\ttotal: 12m 38s\tremaining: 21.1s\n",
      "973:\tlearn: 0.9999500\ttotal: 12m 39s\tremaining: 20.3s\n",
      "974:\tlearn: 0.9999500\ttotal: 12m 40s\tremaining: 19.5s\n",
      "975:\tlearn: 0.9999500\ttotal: 12m 41s\tremaining: 18.7s\n",
      "976:\tlearn: 0.9999500\ttotal: 12m 42s\tremaining: 17.9s\n",
      "977:\tlearn: 0.9999500\ttotal: 12m 42s\tremaining: 17.2s\n",
      "978:\tlearn: 0.9999500\ttotal: 12m 43s\tremaining: 16.4s\n",
      "979:\tlearn: 0.9999500\ttotal: 12m 44s\tremaining: 15.6s\n",
      "980:\tlearn: 0.9999500\ttotal: 12m 45s\tremaining: 14.8s\n",
      "981:\tlearn: 0.9999500\ttotal: 12m 45s\tremaining: 14s\n",
      "982:\tlearn: 0.9999500\ttotal: 12m 46s\tremaining: 13.3s\n",
      "983:\tlearn: 0.9999500\ttotal: 12m 47s\tremaining: 12.5s\n",
      "984:\tlearn: 0.9999500\ttotal: 12m 48s\tremaining: 11.7s\n",
      "985:\tlearn: 0.9999500\ttotal: 12m 49s\tremaining: 10.9s\n",
      "986:\tlearn: 0.9999500\ttotal: 12m 49s\tremaining: 10.1s\n",
      "987:\tlearn: 0.9999500\ttotal: 12m 50s\tremaining: 9.36s\n",
      "988:\tlearn: 0.9999500\ttotal: 12m 51s\tremaining: 8.58s\n",
      "989:\tlearn: 0.9999500\ttotal: 12m 52s\tremaining: 7.8s\n",
      "990:\tlearn: 0.9999500\ttotal: 12m 52s\tremaining: 7.02s\n",
      "991:\tlearn: 0.9999500\ttotal: 12m 53s\tremaining: 6.24s\n",
      "992:\tlearn: 0.9999500\ttotal: 12m 54s\tremaining: 5.46s\n",
      "993:\tlearn: 0.9999500\ttotal: 12m 55s\tremaining: 4.68s\n",
      "994:\tlearn: 0.9999500\ttotal: 12m 56s\tremaining: 3.9s\n",
      "995:\tlearn: 0.9999500\ttotal: 12m 56s\tremaining: 3.12s\n",
      "996:\tlearn: 0.9999500\ttotal: 12m 57s\tremaining: 2.34s\n",
      "997:\tlearn: 0.9999500\ttotal: 12m 58s\tremaining: 1.56s\n",
      "998:\tlearn: 0.9999500\ttotal: 12m 59s\tremaining: 780ms\n",
      "999:\tlearn: 0.9999500\ttotal: 12m 59s\tremaining: 0us\n"
     ]
    },
    {
     "data": {
      "text/plain": [
       "<catboost.core.CatBoostClassifier at 0x2014fa09640>"
      ]
     },
     "execution_count": 163,
     "metadata": {},
     "output_type": "execute_result"
    }
   ],
   "source": [
    "minority_class_weight = len(y_train_lo[y_train_lo == 1]) / len(y_train_lo[y_train_lo == -1])\n",
    "    \n",
    "cls_cb = CatBoostClassifier(loss_function='Logloss',\n",
    "                            eval_metric='Recall',                        \n",
    "                            class_weights=[1, minority_class_weight],\n",
    "                            task_type='CPU',\n",
    "                            verbose=True)\n",
    "\n",
    "cls_cb.fit(train_pool)"
   ]
  },
  {
   "cell_type": "code",
   "execution_count": 165,
   "metadata": {},
   "outputs": [
    {
     "name": "stdout",
     "output_type": "stream",
     "text": [
      "Classification Report (Test):\n",
      "              precision    recall  f1-score   support\n",
      "\n",
      "        -1.0       1.00      0.93      0.97    274824\n",
      "         1.0       0.99      1.00      0.99   1348471\n",
      "\n",
      "    accuracy                           0.99   1623295\n",
      "   macro avg       0.99      0.97      0.98   1623295\n",
      "weighted avg       0.99      0.99      0.99   1623295\n",
      "\n",
      "Avg Precision Score: 0.9867949276229038\n"
     ]
    },
    {
     "data": {
      "image/png": "[encoded data removed]",
      "text/plain": [
       "<Figure size 432x288 with 1 Axes>"
      ]
     },
     "metadata": {
      "needs_background": "light"
     },
     "output_type": "display_data"
    },
    {
     "name": "stdout",
     "output_type": "stream",
     "text": [
      "\n",
      "\n"
     ]
    }
   ],
   "source": [
    "print_report('Test', cls_cb, test_pool, y_test_lo, cls_cb.predict(test_pool), plot_pr=True)"
   ]
  },
  {
   "cell_type": "code",
   "execution_count": 170,
   "metadata": {},
   "outputs": [],
   "source": [
    "grad_pred=cls_cb.predict(test_pool)"
   ]
  },
  {
   "cell_type": "code",
   "execution_count": 167,
   "metadata": {},
   "outputs": [
    {
     "data": {
      "text/plain": [
       "['gradiantboost_lof.pkl']"
      ]
     },
     "execution_count": 167,
     "metadata": {},
     "output_type": "execute_result"
    }
   ],
   "source": [
    "joblib.dump(cls_cb, 'gradiantboost_lof.pkl')"
   ]
  },
  {
   "cell_type": "code",
   "execution_count": 168,
   "metadata": {},
   "outputs": [],
   "source": [
    "lof_all = X_test_lo.copy()"
   ]
  },
  {
   "cell_type": "code",
   "execution_count": 171,
   "metadata": {},
   "outputs": [],
   "source": [
    "lof_all['forest'] = list(y_pred_rf)\n",
    "lof_all['logistic'] = list(log_pred)\n",
    "lof_all['gradiant'] = list(grad_pred)\n",
    "lof_all['is_attack']= y_test_lo"
   ]
  },
  {
   "cell_type": "code",
   "execution_count": 173,
   "metadata": {},
   "outputs": [],
   "source": [
    "df_pred=lof_all[['forest','logistic','gradiant']]"
   ]
  },
  {
   "cell_type": "code",
   "execution_count": 174,
   "metadata": {},
   "outputs": [],
   "source": [
    "u=df_pred.mode(axis=1)"
   ]
  },
  {
   "cell_type": "code",
   "execution_count": 182,
   "metadata": {},
   "outputs": [],
   "source": [
    "u1=df_pred.min(axis=1)"
   ]
  },
  {
   "cell_type": "code",
   "execution_count": 185,
   "metadata": {},
   "outputs": [],
   "source": [
    "lof_all['mode']=u  "
   ]
  },
  {
   "cell_type": "code",
   "execution_count": 188,
   "metadata": {},
   "outputs": [],
   "source": [
    "lof_all=lof_all.drop(['max'],axis=1)"
   ]
  },
  {
   "cell_type": "code",
   "execution_count": 186,
   "metadata": {},
   "outputs": [
    {
     "name": "stdout",
     "output_type": "stream",
     "text": [
      "              precision    recall  f1-score   support\n",
      "\n",
      "        -1.0       1.00      0.93      0.96    274824\n",
      "         1.0       0.99      1.00      0.99   1348471\n",
      "\n",
      "    accuracy                           0.99   1623295\n",
      "   macro avg       0.99      0.97      0.98   1623295\n",
      "weighted avg       0.99      0.99      0.99   1623295\n",
      "\n"
     ]
    }
   ],
   "source": [
    "print(classification_report(lof_all['is_attack'], lof_all['mode']))"
   ]
  },
  {
   "cell_type": "code",
   "execution_count": 177,
   "metadata": {},
   "outputs": [
    {
     "data": {
      "text/plain": [
       "0.9863500036574778"
      ]
     },
     "execution_count": 177,
     "metadata": {},
     "output_type": "execute_result"
    }
   ],
   "source": [
    "average_precision_score(lof_all['is_attack'], lof_all['mode'], average='weighted')"
   ]
  },
  {
   "cell_type": "markdown",
   "metadata": {},
   "source": [
    "### SMOTE oversampling"
   ]
  },
  {
   "cell_type": "code",
   "execution_count": 76,
   "metadata": {},
   "outputs": [],
   "source": [
    "X_train_s = pd.read_pickle('X_train_smote.pkl')\n",
    "y_train_s = pd.read_pickle('y_train_smote.pkl')"
   ]
  },
  {
   "cell_type": "code",
   "execution_count": 78,
   "metadata": {},
   "outputs": [],
   "source": [
    "X_train_s_oh = pd.get_dummies(X_train_s, columns=['protocol'])"
   ]
  },
  {
   "cell_type": "code",
   "execution_count": 79,
   "metadata": {},
   "outputs": [],
   "source": [
    "X_train_LOF_s = X_train_s_oh.copy()\n",
    "features = list(X_train_LOF_s)\n",
    "for i in range(len(features)):\n",
    "    X_train_LOF_s[features[i]] =  pd.to_numeric(X_train_LOF_s[features[i]], errors='coerce')\n",
    "\n",
    "# Creating a new normalized dataframe\n",
    "X_train_LOF_s = X_train_LOF_s[features].dropna()\n",
    "min_max_scaler = preprocessing.StandardScaler()\n",
    "np_scaled = min_max_scaler.fit_transform(X_train_LOF_s)\n",
    "X_train_LOF_s = pd.DataFrame(np_scaled)\n",
    "\n",
    "# Principle Component Analasys Step\n",
    "pca = PCA(n_components=2)\n",
    "X_train_LOF_s = pca.fit_transform(X_train_LOF_s)\n",
    "np_scaled = min_max_scaler.fit_transform(X_train_LOF_s)\n",
    "X_train_LOF_s = pd.DataFrame(np_scaled)"
   ]
  },
  {
   "cell_type": "code",
   "execution_count": 80,
   "metadata": {},
   "outputs": [],
   "source": [
    "y_labels_train_s = LOF1.fit_predict(X_train_LOF_s)"
   ]
  },
  {
   "cell_type": "code",
   "execution_count": 81,
   "metadata": {},
   "outputs": [
    {
     "data": {
      "text/html": [
       "<div>\n",
       "<style scoped>\n",
       "    .dataframe tbody tr th:only-of-type {\n",
       "        vertical-align: middle;\n",
       "    }\n",
       "\n",
       "    .dataframe tbody tr th {\n",
       "        vertical-align: top;\n",
       "    }\n",
       "\n",
       "    .dataframe thead th {\n",
       "        text-align: right;\n",
       "    }\n",
       "</style>\n",
       "<table border=\"1\" class=\"dataframe\">\n",
       "  <thead>\n",
       "    <tr style=\"text-align: right;\">\n",
       "      <th></th>\n",
       "      <th>flow_duration</th>\n",
       "      <th>tot_fwd_pkts</th>\n",
       "      <th>tot_bwd_pkts</th>\n",
       "      <th>totlen_fwd_pkts</th>\n",
       "      <th>totlen_bwd_pkts</th>\n",
       "      <th>fwd_pkt_len_mean</th>\n",
       "      <th>fwd_pkt_len_std</th>\n",
       "      <th>bwd_pkt_len_mean</th>\n",
       "      <th>flow_byts_s</th>\n",
       "      <th>flow_pkts_s</th>\n",
       "      <th>...</th>\n",
       "      <th>init_bwd_win_byts</th>\n",
       "      <th>fwd_seg_size_min</th>\n",
       "      <th>active_mean</th>\n",
       "      <th>idle_mean</th>\n",
       "      <th>protocol_0</th>\n",
       "      <th>protocol_6</th>\n",
       "      <th>protocol_17</th>\n",
       "      <th>is_attack</th>\n",
       "      <th>if_anomaly</th>\n",
       "      <th>normal</th>\n",
       "    </tr>\n",
       "  </thead>\n",
       "  <tbody>\n",
       "    <tr>\n",
       "      <th>0</th>\n",
       "      <td>10354.0</td>\n",
       "      <td>3</td>\n",
       "      <td>4</td>\n",
       "      <td>326</td>\n",
       "      <td>129</td>\n",
       "      <td>108.666664</td>\n",
       "      <td>188.216190</td>\n",
       "      <td>32.25</td>\n",
       "      <td>43944.369330</td>\n",
       "      <td>676.067220</td>\n",
       "      <td>...</td>\n",
       "      <td>219.000000</td>\n",
       "      <td>20</td>\n",
       "      <td>0.0</td>\n",
       "      <td>0.0</td>\n",
       "      <td>0</td>\n",
       "      <td>1</td>\n",
       "      <td>0</td>\n",
       "      <td>1</td>\n",
       "      <td>1</td>\n",
       "      <td>-1.0</td>\n",
       "    </tr>\n",
       "    <tr>\n",
       "      <th>1</th>\n",
       "      <td>629.0</td>\n",
       "      <td>3</td>\n",
       "      <td>0</td>\n",
       "      <td>77</td>\n",
       "      <td>0</td>\n",
       "      <td>25.666666</td>\n",
       "      <td>23.459185</td>\n",
       "      <td>0.00</td>\n",
       "      <td>122416.534181</td>\n",
       "      <td>4769.475358</td>\n",
       "      <td>...</td>\n",
       "      <td>17682.268468</td>\n",
       "      <td>20</td>\n",
       "      <td>0.0</td>\n",
       "      <td>0.0</td>\n",
       "      <td>0</td>\n",
       "      <td>1</td>\n",
       "      <td>0</td>\n",
       "      <td>0</td>\n",
       "      <td>-1</td>\n",
       "      <td>1.0</td>\n",
       "    </tr>\n",
       "  </tbody>\n",
       "</table>\n",
       "<p>2 rows × 36 columns</p>\n",
       "</div>"
      ],
      "text/plain": [
       "   flow_duration  tot_fwd_pkts  tot_bwd_pkts  totlen_fwd_pkts  \\\n",
       "0        10354.0             3             4              326   \n",
       "1          629.0             3             0               77   \n",
       "\n",
       "   totlen_bwd_pkts  fwd_pkt_len_mean  fwd_pkt_len_std  bwd_pkt_len_mean  \\\n",
       "0              129        108.666664       188.216190             32.25   \n",
       "1                0         25.666666        23.459185              0.00   \n",
       "\n",
       "     flow_byts_s  flow_pkts_s  ...  init_bwd_win_byts  fwd_seg_size_min  \\\n",
       "0   43944.369330   676.067220  ...         219.000000                20   \n",
       "1  122416.534181  4769.475358  ...       17682.268468                20   \n",
       "\n",
       "   active_mean  idle_mean  protocol_0  protocol_6  protocol_17  is_attack  \\\n",
       "0          0.0        0.0           0           1            0          1   \n",
       "1          0.0        0.0           0           1            0          0   \n",
       "\n",
       "   if_anomaly  normal  \n",
       "0           1    -1.0  \n",
       "1          -1     1.0  \n",
       "\n",
       "[2 rows x 36 columns]"
      ]
     },
     "execution_count": 81,
     "metadata": {},
     "output_type": "execute_result"
    }
   ],
   "source": [
    "X_train_s_oh['is_attack'] = y_train_s\n",
    "X_train_s_oh['if_anomaly']=list(y_labels_train_s)\n",
    "X_train_s_oh.loc[X_train_s_oh['is_attack'] ==1, 'normal'] = -1\n",
    "X_train_s_oh.loc[X_train_s_oh['is_attack'] ==0, 'normal'] = 1\n",
    "X_train_s_oh.head(2)"
   ]
  },
  {
   "cell_type": "markdown",
   "metadata": {},
   "source": [
    "### Random forest after LOF (with SMOTE)"
   ]
  },
  {
   "cell_type": "code",
   "execution_count": 83,
   "metadata": {},
   "outputs": [],
   "source": [
    "X_train_lo_s = X_train_s_oh.drop(['normal','is_attack'],axis=1)\n",
    "y_train_lo_s = X_train_s_oh['normal']"
   ]
  },
  {
   "cell_type": "code",
   "execution_count": 84,
   "metadata": {},
   "outputs": [
    {
     "name": "stderr",
     "output_type": "stream",
     "text": [
      "[Parallel(n_jobs=32)]: Using backend ThreadingBackend with 32 concurrent workers.\n",
      "[Parallel(n_jobs=32)]: Done 100 out of 100 | elapsed: 18.5min finished\n"
     ]
    }
   ],
   "source": [
    "rf_sm = model2.fit(X_train_lo_s, y_train_lo_s)"
   ]
  },
  {
   "cell_type": "code",
   "execution_count": 85,
   "metadata": {},
   "outputs": [
    {
     "name": "stderr",
     "output_type": "stream",
     "text": [
      "[Parallel(n_jobs=32)]: Using backend ThreadingBackend with 32 concurrent workers.\n",
      "[Parallel(n_jobs=32)]: Done 100 out of 100 | elapsed:    6.5s finished\n"
     ]
    }
   ],
   "source": [
    "y_pred_rf_s = rf_sm.predict(X_test_lo)"
   ]
  },
  {
   "cell_type": "code",
   "execution_count": 87,
   "metadata": {},
   "outputs": [
    {
     "name": "stdout",
     "output_type": "stream",
     "text": [
      "Classification Report (Test):\n",
      "              precision    recall  f1-score   support\n",
      "\n",
      "        -1.0       0.97      0.97      0.97    274824\n",
      "         1.0       0.99      0.99      0.99   1348471\n",
      "\n",
      "    accuracy                           0.99   1623295\n",
      "   macro avg       0.98      0.98      0.98   1623295\n",
      "weighted avg       0.99      0.99      0.99   1623295\n",
      "\n",
      "Avg Precision Score: 0.9919616458162177\n",
      "\n",
      "\n"
     ]
    }
   ],
   "source": [
    "print_report('Test', rf_sm, X_test_lo, y_test_lo, y_pred_rf_s)"
   ]
  },
  {
   "cell_type": "markdown",
   "metadata": {},
   "source": [
    "### Gradiant Boost with LOF (with SMOTE)"
   ]
  },
  {
   "cell_type": "code",
   "execution_count": 88,
   "metadata": {},
   "outputs": [],
   "source": [
    "train_pool_s = Pool(X_train_lo_s, y_train_lo_s)"
   ]
  },
  {
   "cell_type": "code",
   "execution_count": 94,
   "metadata": {},
   "outputs": [
    {
     "data": {
      "text/plain": [
       "3.91646792859443"
      ]
     },
     "execution_count": 94,
     "metadata": {},
     "output_type": "execute_result"
    }
   ],
   "source": [
    "minority_class_weight"
   ]
  },
  {
   "cell_type": "code",
   "execution_count": 89,
   "metadata": {},
   "outputs": [
    {
     "name": "stdout",
     "output_type": "stream",
     "text": [
      "Learning rate set to 0.5\n",
      "0:\tlearn: 0.9960202\ttotal: 1.66s\tremaining: 27m 34s\n",
      "1:\tlearn: 0.9956369\ttotal: 2.63s\tremaining: 21m 54s\n",
      "2:\tlearn: 0.9966122\ttotal: 3.53s\tremaining: 19m 32s\n",
      "3:\tlearn: 0.9972462\ttotal: 4.55s\tremaining: 18m 53s\n",
      "4:\tlearn: 0.9979217\ttotal: 5.48s\tremaining: 18m 10s\n",
      "5:\tlearn: 0.9979628\ttotal: 6.43s\tremaining: 17m 45s\n",
      "6:\tlearn: 0.9981718\ttotal: 7.38s\tremaining: 17m 26s\n",
      "7:\tlearn: 0.9981359\ttotal: 8.33s\tremaining: 17m 12s\n",
      "8:\tlearn: 0.9989715\ttotal: 9.33s\tremaining: 17m 7s\n",
      "9:\tlearn: 0.9988564\ttotal: 10.3s\tremaining: 16m 57s\n",
      "10:\tlearn: 0.9988986\ttotal: 11.2s\tremaining: 16m 46s\n",
      "11:\tlearn: 0.9989222\ttotal: 12.1s\tremaining: 16m 35s\n",
      "12:\tlearn: 0.9992141\ttotal: 13.1s\tremaining: 16m 34s\n",
      "13:\tlearn: 0.9992371\ttotal: 14.1s\tremaining: 16m 30s\n",
      "14:\tlearn: 0.9992905\ttotal: 15s\tremaining: 16m 23s\n",
      "15:\tlearn: 0.9992910\ttotal: 15.9s\tremaining: 16m 20s\n",
      "16:\tlearn: 0.9993072\ttotal: 16.9s\tremaining: 16m 17s\n",
      "17:\tlearn: 0.9992867\ttotal: 17.9s\tremaining: 16m 15s\n",
      "18:\tlearn: 0.9992425\ttotal: 18.8s\tremaining: 16m 11s\n",
      "19:\tlearn: 0.9992377\ttotal: 19.8s\tremaining: 16m 9s\n",
      "20:\tlearn: 0.9992834\ttotal: 20.7s\tremaining: 16m 7s\n",
      "21:\tlearn: 0.9995093\ttotal: 21.8s\tremaining: 16m 7s\n",
      "22:\tlearn: 0.9995607\ttotal: 22.8s\tremaining: 16m 7s\n",
      "23:\tlearn: 0.9995339\ttotal: 23.7s\tremaining: 16m 4s\n",
      "24:\tlearn: 0.9995768\ttotal: 24.7s\tremaining: 16m 4s\n",
      "25:\tlearn: 0.9995881\ttotal: 25.8s\tremaining: 16m 6s\n",
      "26:\tlearn: 0.9997260\ttotal: 26.8s\tremaining: 16m 4s\n",
      "27:\tlearn: 0.9997411\ttotal: 27.7s\tremaining: 16m 2s\n",
      "28:\tlearn: 0.9997259\ttotal: 28.7s\tremaining: 16m\n",
      "29:\tlearn: 0.9997635\ttotal: 29.6s\tremaining: 15m 58s\n",
      "30:\tlearn: 0.9997478\ttotal: 30.5s\tremaining: 15m 53s\n",
      "31:\tlearn: 0.9997337\ttotal: 31.4s\tremaining: 15m 49s\n",
      "32:\tlearn: 0.9997296\ttotal: 32.3s\tremaining: 15m 47s\n",
      "33:\tlearn: 0.9997296\ttotal: 33.1s\tremaining: 15m 40s\n",
      "34:\tlearn: 0.9997149\ttotal: 33.9s\tremaining: 15m 35s\n",
      "35:\tlearn: 0.9997417\ttotal: 34.9s\tremaining: 15m 34s\n",
      "36:\tlearn: 0.9997543\ttotal: 35.9s\tremaining: 15m 33s\n",
      "37:\tlearn: 0.9997543\ttotal: 36.8s\tremaining: 15m 31s\n",
      "38:\tlearn: 0.9997542\ttotal: 37.7s\tremaining: 15m 28s\n",
      "39:\tlearn: 0.9997642\ttotal: 38.7s\tremaining: 15m 28s\n",
      "40:\tlearn: 0.9997610\ttotal: 39.6s\tremaining: 15m 26s\n",
      "41:\tlearn: 0.9997787\ttotal: 40.6s\tremaining: 15m 25s\n",
      "42:\tlearn: 0.9997787\ttotal: 41.4s\tremaining: 15m 20s\n",
      "43:\tlearn: 0.9997787\ttotal: 42.1s\tremaining: 15m 15s\n",
      "44:\tlearn: 0.9997787\ttotal: 43s\tremaining: 15m 11s\n",
      "45:\tlearn: 0.9997787\ttotal: 43.8s\tremaining: 15m 7s\n",
      "46:\tlearn: 0.9997787\ttotal: 44.6s\tremaining: 15m 3s\n",
      "47:\tlearn: 0.9997848\ttotal: 45.4s\tremaining: 14m 59s\n",
      "48:\tlearn: 0.9997848\ttotal: 46.2s\tremaining: 14m 56s\n",
      "49:\tlearn: 0.9997940\ttotal: 47.1s\tremaining: 14m 55s\n",
      "50:\tlearn: 0.9997471\ttotal: 48s\tremaining: 14m 53s\n",
      "51:\tlearn: 0.9997443\ttotal: 48.9s\tremaining: 14m 52s\n",
      "52:\tlearn: 0.9997943\ttotal: 49.8s\tremaining: 14m 50s\n",
      "53:\tlearn: 0.9997171\ttotal: 50.8s\tremaining: 14m 50s\n",
      "54:\tlearn: 0.9997171\ttotal: 51.7s\tremaining: 14m 47s\n",
      "55:\tlearn: 0.9997171\ttotal: 52.5s\tremaining: 14m 44s\n",
      "56:\tlearn: 0.9997171\ttotal: 53.3s\tremaining: 14m 41s\n",
      "57:\tlearn: 0.9997171\ttotal: 54.1s\tremaining: 14m 39s\n",
      "58:\tlearn: 0.9997171\ttotal: 55s\tremaining: 14m 37s\n",
      "59:\tlearn: 0.9997171\ttotal: 55.8s\tremaining: 14m 34s\n",
      "60:\tlearn: 0.9997171\ttotal: 56.7s\tremaining: 14m 32s\n",
      "61:\tlearn: 0.9997171\ttotal: 57.5s\tremaining: 14m 30s\n",
      "62:\tlearn: 0.9997171\ttotal: 58.4s\tremaining: 14m 28s\n",
      "63:\tlearn: 0.9997171\ttotal: 59.2s\tremaining: 14m 25s\n",
      "64:\tlearn: 0.9997171\ttotal: 1m\tremaining: 14m 24s\n",
      "65:\tlearn: 0.9997171\ttotal: 1m\tremaining: 14m 21s\n",
      "66:\tlearn: 0.9997171\ttotal: 1m 1s\tremaining: 14m 19s\n",
      "67:\tlearn: 0.9997171\ttotal: 1m 2s\tremaining: 14m 17s\n",
      "68:\tlearn: 0.9997171\ttotal: 1m 3s\tremaining: 14m 15s\n",
      "69:\tlearn: 0.9997171\ttotal: 1m 4s\tremaining: 14m 13s\n",
      "70:\tlearn: 0.9997171\ttotal: 1m 5s\tremaining: 14m 11s\n",
      "71:\tlearn: 0.9997171\ttotal: 1m 5s\tremaining: 14m 9s\n",
      "72:\tlearn: 0.9997171\ttotal: 1m 6s\tremaining: 14m 7s\n",
      "73:\tlearn: 0.9997171\ttotal: 1m 7s\tremaining: 14m 5s\n",
      "74:\tlearn: 0.9997238\ttotal: 1m 8s\tremaining: 14m 4s\n",
      "75:\tlearn: 0.9997226\ttotal: 1m 9s\tremaining: 14m 3s\n",
      "76:\tlearn: 0.9997226\ttotal: 1m 10s\tremaining: 14m 1s\n",
      "77:\tlearn: 0.9997226\ttotal: 1m 11s\tremaining: 13m 59s\n",
      "78:\tlearn: 0.9996821\ttotal: 1m 11s\tremaining: 13m 58s\n",
      "79:\tlearn: 0.9996821\ttotal: 1m 12s\tremaining: 13m 56s\n",
      "80:\tlearn: 0.9996821\ttotal: 1m 13s\tremaining: 13m 54s\n",
      "81:\tlearn: 0.9996821\ttotal: 1m 14s\tremaining: 13m 53s\n",
      "82:\tlearn: 0.9997200\ttotal: 1m 15s\tremaining: 13m 52s\n",
      "83:\tlearn: 0.9997200\ttotal: 1m 16s\tremaining: 13m 50s\n",
      "84:\tlearn: 0.9997200\ttotal: 1m 17s\tremaining: 13m 49s\n",
      "85:\tlearn: 0.9997410\ttotal: 1m 18s\tremaining: 13m 50s\n",
      "86:\tlearn: 0.9997433\ttotal: 1m 18s\tremaining: 13m 48s\n",
      "87:\tlearn: 0.9997433\ttotal: 1m 19s\tremaining: 13m 47s\n",
      "88:\tlearn: 0.9997433\ttotal: 1m 20s\tremaining: 13m 45s\n",
      "89:\tlearn: 0.9997429\ttotal: 1m 21s\tremaining: 13m 44s\n",
      "90:\tlearn: 0.9997421\ttotal: 1m 22s\tremaining: 13m 43s\n",
      "91:\tlearn: 0.9997421\ttotal: 1m 23s\tremaining: 13m 42s\n",
      "92:\tlearn: 0.9997421\ttotal: 1m 24s\tremaining: 13m 41s\n",
      "93:\tlearn: 0.9997421\ttotal: 1m 25s\tremaining: 13m 40s\n",
      "94:\tlearn: 0.9997421\ttotal: 1m 26s\tremaining: 13m 39s\n",
      "95:\tlearn: 0.9997421\ttotal: 1m 26s\tremaining: 13m 38s\n",
      "96:\tlearn: 0.9997421\ttotal: 1m 27s\tremaining: 13m 37s\n",
      "97:\tlearn: 0.9997421\ttotal: 1m 28s\tremaining: 13m 36s\n",
      "98:\tlearn: 0.9997421\ttotal: 1m 29s\tremaining: 13m 35s\n",
      "99:\tlearn: 0.9997421\ttotal: 1m 30s\tremaining: 13m 34s\n",
      "100:\tlearn: 0.9997421\ttotal: 1m 31s\tremaining: 13m 32s\n",
      "101:\tlearn: 0.9997421\ttotal: 1m 32s\tremaining: 13m 31s\n",
      "102:\tlearn: 0.9997421\ttotal: 1m 33s\tremaining: 13m 30s\n",
      "103:\tlearn: 0.9997421\ttotal: 1m 34s\tremaining: 13m 29s\n",
      "104:\tlearn: 0.9997421\ttotal: 1m 34s\tremaining: 13m 28s\n",
      "105:\tlearn: 0.9997421\ttotal: 1m 35s\tremaining: 13m 27s\n",
      "106:\tlearn: 0.9997421\ttotal: 1m 36s\tremaining: 13m 26s\n",
      "107:\tlearn: 0.9997421\ttotal: 1m 37s\tremaining: 13m 25s\n",
      "108:\tlearn: 0.9997421\ttotal: 1m 38s\tremaining: 13m 24s\n",
      "109:\tlearn: 0.9997421\ttotal: 1m 39s\tremaining: 13m 23s\n",
      "110:\tlearn: 0.9997421\ttotal: 1m 40s\tremaining: 13m 22s\n",
      "111:\tlearn: 0.9997421\ttotal: 1m 40s\tremaining: 13m 20s\n",
      "112:\tlearn: 0.9997432\ttotal: 1m 41s\tremaining: 13m 20s\n",
      "113:\tlearn: 0.9997442\ttotal: 1m 42s\tremaining: 13m 19s\n",
      "114:\tlearn: 0.9997442\ttotal: 1m 43s\tremaining: 13m 18s\n",
      "115:\tlearn: 0.9997442\ttotal: 1m 44s\tremaining: 13m 16s\n",
      "116:\tlearn: 0.9997442\ttotal: 1m 45s\tremaining: 13m 15s\n",
      "117:\tlearn: 0.9997442\ttotal: 1m 46s\tremaining: 13m 14s\n",
      "118:\tlearn: 0.9997442\ttotal: 1m 47s\tremaining: 13m 12s\n",
      "119:\tlearn: 0.9997442\ttotal: 1m 47s\tremaining: 13m 11s\n",
      "120:\tlearn: 0.9997442\ttotal: 1m 48s\tremaining: 13m 10s\n",
      "121:\tlearn: 0.9997442\ttotal: 1m 49s\tremaining: 13m 9s\n",
      "122:\tlearn: 0.9997442\ttotal: 1m 50s\tremaining: 13m 8s\n",
      "123:\tlearn: 0.9997442\ttotal: 1m 51s\tremaining: 13m 7s\n",
      "124:\tlearn: 0.9997442\ttotal: 1m 52s\tremaining: 13m 6s\n",
      "125:\tlearn: 0.9997442\ttotal: 1m 53s\tremaining: 13m 5s\n",
      "126:\tlearn: 0.9997442\ttotal: 1m 54s\tremaining: 13m 4s\n",
      "127:\tlearn: 0.9997442\ttotal: 1m 54s\tremaining: 13m 2s\n",
      "128:\tlearn: 0.9997442\ttotal: 1m 55s\tremaining: 13m 1s\n",
      "129:\tlearn: 0.9997442\ttotal: 1m 56s\tremaining: 13m\n",
      "130:\tlearn: 0.9997442\ttotal: 1m 57s\tremaining: 12m 59s\n",
      "131:\tlearn: 0.9997442\ttotal: 1m 58s\tremaining: 12m 58s\n",
      "132:\tlearn: 0.9997442\ttotal: 1m 59s\tremaining: 12m 57s\n",
      "133:\tlearn: 0.9997442\ttotal: 2m\tremaining: 12m 56s\n",
      "134:\tlearn: 0.9997442\ttotal: 2m 1s\tremaining: 12m 55s\n",
      "135:\tlearn: 0.9997442\ttotal: 2m 1s\tremaining: 12m 54s\n",
      "136:\tlearn: 0.9997442\ttotal: 2m 2s\tremaining: 12m 53s\n",
      "137:\tlearn: 0.9997442\ttotal: 2m 3s\tremaining: 12m 52s\n",
      "138:\tlearn: 0.9997442\ttotal: 2m 4s\tremaining: 12m 51s\n",
      "139:\tlearn: 0.9997442\ttotal: 2m 5s\tremaining: 12m 50s\n",
      "140:\tlearn: 0.9997442\ttotal: 2m 6s\tremaining: 12m 49s\n",
      "141:\tlearn: 0.9997442\ttotal: 2m 7s\tremaining: 12m 48s\n",
      "142:\tlearn: 0.9997442\ttotal: 2m 8s\tremaining: 12m 47s\n",
      "143:\tlearn: 0.9997442\ttotal: 2m 8s\tremaining: 12m 46s\n",
      "144:\tlearn: 0.9997442\ttotal: 2m 9s\tremaining: 12m 45s\n",
      "145:\tlearn: 0.9997442\ttotal: 2m 10s\tremaining: 12m 44s\n",
      "146:\tlearn: 0.9997442\ttotal: 2m 11s\tremaining: 12m 43s\n",
      "147:\tlearn: 0.9997442\ttotal: 2m 12s\tremaining: 12m 42s\n",
      "148:\tlearn: 0.9997442\ttotal: 2m 13s\tremaining: 12m 41s\n",
      "149:\tlearn: 0.9997442\ttotal: 2m 14s\tremaining: 12m 40s\n",
      "150:\tlearn: 0.9997442\ttotal: 2m 15s\tremaining: 12m 39s\n",
      "151:\tlearn: 0.9997442\ttotal: 2m 15s\tremaining: 12m 38s\n",
      "152:\tlearn: 0.9997442\ttotal: 2m 16s\tremaining: 12m 37s\n",
      "153:\tlearn: 0.9997442\ttotal: 2m 17s\tremaining: 12m 36s\n"
     ]
    },
    {
     "name": "stdout",
     "output_type": "stream",
     "text": [
      "154:\tlearn: 0.9997440\ttotal: 2m 18s\tremaining: 12m 35s\n",
      "155:\tlearn: 0.9997453\ttotal: 2m 19s\tremaining: 12m 34s\n",
      "156:\tlearn: 0.9997453\ttotal: 2m 20s\tremaining: 12m 33s\n",
      "157:\tlearn: 0.9997448\ttotal: 2m 21s\tremaining: 12m 32s\n",
      "158:\tlearn: 0.9997448\ttotal: 2m 22s\tremaining: 12m 31s\n",
      "159:\tlearn: 0.9997448\ttotal: 2m 22s\tremaining: 12m 29s\n",
      "160:\tlearn: 0.9997406\ttotal: 2m 23s\tremaining: 12m 28s\n",
      "161:\tlearn: 0.9997408\ttotal: 2m 24s\tremaining: 12m 28s\n",
      "162:\tlearn: 0.9997408\ttotal: 2m 25s\tremaining: 12m 26s\n",
      "163:\tlearn: 0.9997408\ttotal: 2m 26s\tremaining: 12m 25s\n",
      "164:\tlearn: 0.9997408\ttotal: 2m 27s\tremaining: 12m 24s\n",
      "165:\tlearn: 0.9997408\ttotal: 2m 27s\tremaining: 12m 22s\n",
      "166:\tlearn: 0.9997408\ttotal: 2m 28s\tremaining: 12m 21s\n",
      "167:\tlearn: 0.9997408\ttotal: 2m 29s\tremaining: 12m 20s\n",
      "168:\tlearn: 0.9997472\ttotal: 2m 30s\tremaining: 12m 19s\n",
      "169:\tlearn: 0.9997472\ttotal: 2m 31s\tremaining: 12m 18s\n",
      "170:\tlearn: 0.9997472\ttotal: 2m 32s\tremaining: 12m 16s\n",
      "171:\tlearn: 0.9997472\ttotal: 2m 32s\tremaining: 12m 15s\n",
      "172:\tlearn: 0.9997472\ttotal: 2m 33s\tremaining: 12m 14s\n",
      "173:\tlearn: 0.9997430\ttotal: 2m 34s\tremaining: 12m 13s\n",
      "174:\tlearn: 0.9997430\ttotal: 2m 35s\tremaining: 12m 11s\n",
      "175:\tlearn: 0.9997430\ttotal: 2m 36s\tremaining: 12m 10s\n",
      "176:\tlearn: 0.9997430\ttotal: 2m 36s\tremaining: 12m 9s\n",
      "177:\tlearn: 0.9997430\ttotal: 2m 37s\tremaining: 12m 7s\n",
      "178:\tlearn: 0.9997430\ttotal: 2m 38s\tremaining: 12m 6s\n",
      "179:\tlearn: 0.9997430\ttotal: 2m 39s\tremaining: 12m 5s\n",
      "180:\tlearn: 0.9997430\ttotal: 2m 40s\tremaining: 12m 4s\n",
      "181:\tlearn: 0.9997430\ttotal: 2m 40s\tremaining: 12m 3s\n",
      "182:\tlearn: 0.9997430\ttotal: 2m 41s\tremaining: 12m 2s\n",
      "183:\tlearn: 0.9997430\ttotal: 2m 42s\tremaining: 12m 1s\n",
      "184:\tlearn: 0.9997430\ttotal: 2m 43s\tremaining: 11m 59s\n",
      "185:\tlearn: 0.9997430\ttotal: 2m 44s\tremaining: 11m 58s\n",
      "186:\tlearn: 0.9997430\ttotal: 2m 45s\tremaining: 11m 57s\n",
      "187:\tlearn: 0.9997431\ttotal: 2m 45s\tremaining: 11m 56s\n",
      "188:\tlearn: 0.9997431\ttotal: 2m 46s\tremaining: 11m 55s\n",
      "189:\tlearn: 0.9997431\ttotal: 2m 47s\tremaining: 11m 54s\n",
      "190:\tlearn: 0.9997431\ttotal: 2m 48s\tremaining: 11m 53s\n",
      "191:\tlearn: 0.9997431\ttotal: 2m 49s\tremaining: 11m 52s\n",
      "192:\tlearn: 0.9997431\ttotal: 2m 50s\tremaining: 11m 51s\n",
      "193:\tlearn: 0.9997431\ttotal: 2m 51s\tremaining: 11m 50s\n",
      "194:\tlearn: 0.9997431\ttotal: 2m 51s\tremaining: 11m 49s\n",
      "195:\tlearn: 0.9997431\ttotal: 2m 52s\tremaining: 11m 48s\n",
      "196:\tlearn: 0.9997431\ttotal: 2m 53s\tremaining: 11m 47s\n",
      "197:\tlearn: 0.9997431\ttotal: 2m 54s\tremaining: 11m 46s\n",
      "198:\tlearn: 0.9997431\ttotal: 2m 55s\tremaining: 11m 45s\n",
      "199:\tlearn: 0.9997431\ttotal: 2m 56s\tremaining: 11m 44s\n",
      "200:\tlearn: 0.9997431\ttotal: 2m 56s\tremaining: 11m 43s\n",
      "201:\tlearn: 0.9997431\ttotal: 2m 57s\tremaining: 11m 42s\n",
      "202:\tlearn: 0.9997431\ttotal: 2m 58s\tremaining: 11m 41s\n",
      "203:\tlearn: 0.9997431\ttotal: 2m 59s\tremaining: 11m 40s\n",
      "204:\tlearn: 0.9997431\ttotal: 3m\tremaining: 11m 39s\n",
      "205:\tlearn: 0.9997432\ttotal: 3m 1s\tremaining: 11m 38s\n",
      "206:\tlearn: 0.9997432\ttotal: 3m 1s\tremaining: 11m 36s\n",
      "207:\tlearn: 0.9997432\ttotal: 3m 2s\tremaining: 11m 35s\n",
      "208:\tlearn: 0.9997432\ttotal: 3m 3s\tremaining: 11m 34s\n",
      "209:\tlearn: 0.9997432\ttotal: 3m 4s\tremaining: 11m 34s\n",
      "210:\tlearn: 0.9997431\ttotal: 3m 5s\tremaining: 11m 32s\n",
      "211:\tlearn: 0.9997431\ttotal: 3m 6s\tremaining: 11m 31s\n",
      "212:\tlearn: 0.9997431\ttotal: 3m 7s\tremaining: 11m 30s\n",
      "213:\tlearn: 0.9997431\ttotal: 3m 7s\tremaining: 11m 30s\n",
      "214:\tlearn: 0.9997431\ttotal: 3m 8s\tremaining: 11m 29s\n",
      "215:\tlearn: 0.9997431\ttotal: 3m 9s\tremaining: 11m 28s\n",
      "216:\tlearn: 0.9997432\ttotal: 3m 10s\tremaining: 11m 27s\n",
      "217:\tlearn: 0.9997432\ttotal: 3m 11s\tremaining: 11m 26s\n",
      "218:\tlearn: 0.9997432\ttotal: 3m 12s\tremaining: 11m 25s\n",
      "219:\tlearn: 0.9997432\ttotal: 3m 12s\tremaining: 11m 24s\n",
      "220:\tlearn: 0.9997431\ttotal: 3m 13s\tremaining: 11m 23s\n",
      "221:\tlearn: 0.9997431\ttotal: 3m 14s\tremaining: 11m 22s\n",
      "222:\tlearn: 0.9997431\ttotal: 3m 15s\tremaining: 11m 21s\n",
      "223:\tlearn: 0.9997431\ttotal: 3m 16s\tremaining: 11m 20s\n",
      "224:\tlearn: 0.9997431\ttotal: 3m 17s\tremaining: 11m 19s\n",
      "225:\tlearn: 0.9997431\ttotal: 3m 18s\tremaining: 11m 18s\n",
      "226:\tlearn: 0.9997431\ttotal: 3m 18s\tremaining: 11m 17s\n",
      "227:\tlearn: 0.9997431\ttotal: 3m 19s\tremaining: 11m 16s\n",
      "228:\tlearn: 0.9997431\ttotal: 3m 20s\tremaining: 11m 15s\n",
      "229:\tlearn: 0.9997431\ttotal: 3m 21s\tremaining: 11m 14s\n",
      "230:\tlearn: 0.9997431\ttotal: 3m 22s\tremaining: 11m 13s\n",
      "231:\tlearn: 0.9997431\ttotal: 3m 23s\tremaining: 11m 12s\n",
      "232:\tlearn: 0.9997431\ttotal: 3m 23s\tremaining: 11m 11s\n",
      "233:\tlearn: 0.9997431\ttotal: 3m 24s\tremaining: 11m 10s\n",
      "234:\tlearn: 0.9997431\ttotal: 3m 25s\tremaining: 11m 9s\n",
      "235:\tlearn: 0.9997431\ttotal: 3m 26s\tremaining: 11m 8s\n",
      "236:\tlearn: 0.9997431\ttotal: 3m 27s\tremaining: 11m 7s\n",
      "237:\tlearn: 0.9997431\ttotal: 3m 28s\tremaining: 11m 6s\n",
      "238:\tlearn: 0.9997431\ttotal: 3m 28s\tremaining: 11m 5s\n",
      "239:\tlearn: 0.9997431\ttotal: 3m 29s\tremaining: 11m 4s\n",
      "240:\tlearn: 0.9997431\ttotal: 3m 30s\tremaining: 11m 3s\n",
      "241:\tlearn: 0.9997431\ttotal: 3m 31s\tremaining: 11m 2s\n",
      "242:\tlearn: 0.9997431\ttotal: 3m 32s\tremaining: 11m 1s\n",
      "243:\tlearn: 0.9997431\ttotal: 3m 33s\tremaining: 11m\n",
      "244:\tlearn: 0.9997431\ttotal: 3m 33s\tremaining: 10m 59s\n",
      "245:\tlearn: 0.9997431\ttotal: 3m 34s\tremaining: 10m 58s\n",
      "246:\tlearn: 0.9997431\ttotal: 3m 35s\tremaining: 10m 57s\n",
      "247:\tlearn: 0.9997431\ttotal: 3m 36s\tremaining: 10m 55s\n",
      "248:\tlearn: 0.9997431\ttotal: 3m 37s\tremaining: 10m 55s\n",
      "249:\tlearn: 0.9997431\ttotal: 3m 37s\tremaining: 10m 53s\n",
      "250:\tlearn: 0.9997431\ttotal: 3m 38s\tremaining: 10m 53s\n",
      "251:\tlearn: 0.9997431\ttotal: 3m 39s\tremaining: 10m 52s\n",
      "252:\tlearn: 0.9997431\ttotal: 3m 40s\tremaining: 10m 51s\n",
      "253:\tlearn: 0.9997431\ttotal: 3m 41s\tremaining: 10m 50s\n",
      "254:\tlearn: 0.9997431\ttotal: 3m 42s\tremaining: 10m 49s\n",
      "255:\tlearn: 0.9997431\ttotal: 3m 43s\tremaining: 10m 48s\n",
      "256:\tlearn: 0.9997431\ttotal: 3m 43s\tremaining: 10m 47s\n",
      "257:\tlearn: 0.9997431\ttotal: 3m 44s\tremaining: 10m 46s\n",
      "258:\tlearn: 0.9997431\ttotal: 3m 45s\tremaining: 10m 45s\n",
      "259:\tlearn: 0.9997431\ttotal: 3m 46s\tremaining: 10m 44s\n",
      "260:\tlearn: 0.9997431\ttotal: 3m 47s\tremaining: 10m 43s\n",
      "261:\tlearn: 0.9997431\ttotal: 3m 48s\tremaining: 10m 42s\n",
      "262:\tlearn: 0.9997431\ttotal: 3m 48s\tremaining: 10m 41s\n",
      "263:\tlearn: 0.9997431\ttotal: 3m 49s\tremaining: 10m 40s\n",
      "264:\tlearn: 0.9997431\ttotal: 3m 50s\tremaining: 10m 39s\n",
      "265:\tlearn: 0.9997431\ttotal: 3m 51s\tremaining: 10m 38s\n",
      "266:\tlearn: 0.9997431\ttotal: 3m 52s\tremaining: 10m 37s\n",
      "267:\tlearn: 0.9997431\ttotal: 3m 53s\tremaining: 10m 36s\n",
      "268:\tlearn: 0.9997431\ttotal: 3m 53s\tremaining: 10m 35s\n",
      "269:\tlearn: 0.9997431\ttotal: 3m 54s\tremaining: 10m 34s\n",
      "270:\tlearn: 0.9997431\ttotal: 3m 55s\tremaining: 10m 33s\n",
      "271:\tlearn: 0.9997431\ttotal: 3m 56s\tremaining: 10m 32s\n",
      "272:\tlearn: 0.9997431\ttotal: 3m 57s\tremaining: 10m 31s\n",
      "273:\tlearn: 0.9997431\ttotal: 3m 58s\tremaining: 10m 30s\n",
      "274:\tlearn: 0.9997431\ttotal: 3m 58s\tremaining: 10m 29s\n",
      "275:\tlearn: 0.9997431\ttotal: 3m 59s\tremaining: 10m 28s\n",
      "276:\tlearn: 0.9997431\ttotal: 4m\tremaining: 10m 28s\n",
      "277:\tlearn: 0.9997431\ttotal: 4m 1s\tremaining: 10m 27s\n",
      "278:\tlearn: 0.9997431\ttotal: 4m 2s\tremaining: 10m 26s\n",
      "279:\tlearn: 0.9997431\ttotal: 4m 3s\tremaining: 10m 25s\n",
      "280:\tlearn: 0.9997431\ttotal: 4m 3s\tremaining: 10m 24s\n",
      "281:\tlearn: 0.9997431\ttotal: 4m 4s\tremaining: 10m 23s\n",
      "282:\tlearn: 0.9997431\ttotal: 4m 5s\tremaining: 10m 22s\n",
      "283:\tlearn: 0.9997431\ttotal: 4m 6s\tremaining: 10m 21s\n",
      "284:\tlearn: 0.9997431\ttotal: 4m 7s\tremaining: 10m 20s\n",
      "285:\tlearn: 0.9997431\ttotal: 4m 8s\tremaining: 10m 19s\n",
      "286:\tlearn: 0.9997431\ttotal: 4m 8s\tremaining: 10m 18s\n",
      "287:\tlearn: 0.9997431\ttotal: 4m 9s\tremaining: 10m 17s\n",
      "288:\tlearn: 0.9997431\ttotal: 4m 10s\tremaining: 10m 16s\n",
      "289:\tlearn: 0.9997447\ttotal: 4m 11s\tremaining: 10m 15s\n",
      "290:\tlearn: 0.9997447\ttotal: 4m 12s\tremaining: 10m 14s\n",
      "291:\tlearn: 0.9997447\ttotal: 4m 13s\tremaining: 10m 13s\n",
      "292:\tlearn: 0.9997447\ttotal: 4m 14s\tremaining: 10m 12s\n",
      "293:\tlearn: 0.9997447\ttotal: 4m 14s\tremaining: 10m 12s\n",
      "294:\tlearn: 0.9997447\ttotal: 4m 15s\tremaining: 10m 11s\n",
      "295:\tlearn: 0.9997447\ttotal: 4m 16s\tremaining: 10m 10s\n",
      "296:\tlearn: 0.9997447\ttotal: 4m 17s\tremaining: 10m 9s\n",
      "297:\tlearn: 0.9997447\ttotal: 4m 18s\tremaining: 10m 8s\n",
      "298:\tlearn: 0.9997447\ttotal: 4m 19s\tremaining: 10m 7s\n",
      "299:\tlearn: 0.9997447\ttotal: 4m 20s\tremaining: 10m 6s\n",
      "300:\tlearn: 0.9997447\ttotal: 4m 20s\tremaining: 10m 5s\n",
      "301:\tlearn: 0.9997447\ttotal: 4m 21s\tremaining: 10m 4s\n",
      "302:\tlearn: 0.9997447\ttotal: 4m 22s\tremaining: 10m 4s\n",
      "303:\tlearn: 0.9997447\ttotal: 4m 23s\tremaining: 10m 3s\n",
      "304:\tlearn: 0.9997447\ttotal: 4m 24s\tremaining: 10m 2s\n"
     ]
    },
    {
     "name": "stdout",
     "output_type": "stream",
     "text": [
      "305:\tlearn: 0.9997447\ttotal: 4m 25s\tremaining: 10m 1s\n",
      "306:\tlearn: 0.9997447\ttotal: 4m 25s\tremaining: 10m\n",
      "307:\tlearn: 0.9997461\ttotal: 4m 26s\tremaining: 9m 59s\n",
      "308:\tlearn: 0.9997461\ttotal: 4m 27s\tremaining: 9m 58s\n",
      "309:\tlearn: 0.9997461\ttotal: 4m 28s\tremaining: 9m 57s\n",
      "310:\tlearn: 0.9997461\ttotal: 4m 29s\tremaining: 9m 56s\n",
      "311:\tlearn: 0.9997461\ttotal: 4m 30s\tremaining: 9m 55s\n",
      "312:\tlearn: 0.9997461\ttotal: 4m 31s\tremaining: 9m 55s\n",
      "313:\tlearn: 0.9997461\ttotal: 4m 31s\tremaining: 9m 54s\n",
      "314:\tlearn: 0.9997461\ttotal: 4m 32s\tremaining: 9m 53s\n",
      "315:\tlearn: 0.9997461\ttotal: 4m 33s\tremaining: 9m 52s\n",
      "316:\tlearn: 0.9997461\ttotal: 4m 34s\tremaining: 9m 51s\n",
      "317:\tlearn: 0.9997461\ttotal: 4m 35s\tremaining: 9m 50s\n",
      "318:\tlearn: 0.9997461\ttotal: 4m 36s\tremaining: 9m 49s\n",
      "319:\tlearn: 0.9997461\ttotal: 4m 36s\tremaining: 9m 48s\n",
      "320:\tlearn: 0.9997461\ttotal: 4m 37s\tremaining: 9m 47s\n",
      "321:\tlearn: 0.9997461\ttotal: 4m 38s\tremaining: 9m 46s\n",
      "322:\tlearn: 0.9997182\ttotal: 4m 39s\tremaining: 9m 46s\n",
      "323:\tlearn: 0.9997173\ttotal: 4m 40s\tremaining: 9m 45s\n",
      "324:\tlearn: 0.9997173\ttotal: 4m 41s\tremaining: 9m 44s\n",
      "325:\tlearn: 0.9997173\ttotal: 4m 42s\tremaining: 9m 43s\n",
      "326:\tlearn: 0.9997173\ttotal: 4m 43s\tremaining: 9m 42s\n",
      "327:\tlearn: 0.9997168\ttotal: 4m 43s\tremaining: 9m 41s\n",
      "328:\tlearn: 0.9997169\ttotal: 4m 44s\tremaining: 9m 40s\n",
      "329:\tlearn: 0.9997182\ttotal: 4m 45s\tremaining: 9m 40s\n",
      "330:\tlearn: 0.9997182\ttotal: 4m 46s\tremaining: 9m 39s\n",
      "331:\tlearn: 0.9997182\ttotal: 4m 47s\tremaining: 9m 38s\n",
      "332:\tlearn: 0.9997182\ttotal: 4m 48s\tremaining: 9m 37s\n",
      "333:\tlearn: 0.9997182\ttotal: 4m 49s\tremaining: 9m 36s\n",
      "334:\tlearn: 0.9997182\ttotal: 4m 49s\tremaining: 9m 35s\n",
      "335:\tlearn: 0.9997182\ttotal: 4m 50s\tremaining: 9m 34s\n",
      "336:\tlearn: 0.9997182\ttotal: 4m 51s\tremaining: 9m 33s\n",
      "337:\tlearn: 0.9997182\ttotal: 4m 52s\tremaining: 9m 32s\n",
      "338:\tlearn: 0.9997182\ttotal: 4m 53s\tremaining: 9m 31s\n",
      "339:\tlearn: 0.9997182\ttotal: 4m 53s\tremaining: 9m 30s\n",
      "340:\tlearn: 0.9997182\ttotal: 4m 54s\tremaining: 9m 29s\n",
      "341:\tlearn: 0.9997182\ttotal: 4m 55s\tremaining: 9m 28s\n",
      "342:\tlearn: 0.9997182\ttotal: 4m 56s\tremaining: 9m 27s\n",
      "343:\tlearn: 0.9997182\ttotal: 4m 56s\tremaining: 9m 26s\n",
      "344:\tlearn: 0.9997182\ttotal: 4m 57s\tremaining: 9m 25s\n",
      "345:\tlearn: 0.9997182\ttotal: 4m 58s\tremaining: 9m 24s\n",
      "346:\tlearn: 0.9997182\ttotal: 4m 59s\tremaining: 9m 23s\n",
      "347:\tlearn: 0.9997182\ttotal: 5m\tremaining: 9m 22s\n",
      "348:\tlearn: 0.9997182\ttotal: 5m 1s\tremaining: 9m 21s\n",
      "349:\tlearn: 0.9997182\ttotal: 5m 1s\tremaining: 9m 20s\n",
      "350:\tlearn: 0.9997182\ttotal: 5m 2s\tremaining: 9m 19s\n",
      "351:\tlearn: 0.9997182\ttotal: 5m 3s\tremaining: 9m 18s\n",
      "352:\tlearn: 0.9997182\ttotal: 5m 4s\tremaining: 9m 17s\n",
      "353:\tlearn: 0.9997182\ttotal: 5m 4s\tremaining: 9m 16s\n",
      "354:\tlearn: 0.9997182\ttotal: 5m 5s\tremaining: 9m 15s\n",
      "355:\tlearn: 0.9997182\ttotal: 5m 6s\tremaining: 9m 14s\n",
      "356:\tlearn: 0.9997182\ttotal: 5m 7s\tremaining: 9m 13s\n",
      "357:\tlearn: 0.9997182\ttotal: 5m 8s\tremaining: 9m 12s\n",
      "358:\tlearn: 0.9997182\ttotal: 5m 8s\tremaining: 9m 11s\n",
      "359:\tlearn: 0.9997182\ttotal: 5m 9s\tremaining: 9m 10s\n",
      "360:\tlearn: 0.9997182\ttotal: 5m 10s\tremaining: 9m 9s\n",
      "361:\tlearn: 0.9997182\ttotal: 5m 11s\tremaining: 9m 8s\n",
      "362:\tlearn: 0.9997182\ttotal: 5m 12s\tremaining: 9m 7s\n",
      "363:\tlearn: 0.9997182\ttotal: 5m 13s\tremaining: 9m 6s\n",
      "364:\tlearn: 0.9997182\ttotal: 5m 13s\tremaining: 9m 5s\n",
      "365:\tlearn: 0.9997182\ttotal: 5m 14s\tremaining: 9m 4s\n",
      "366:\tlearn: 0.9997182\ttotal: 5m 15s\tremaining: 9m 3s\n",
      "367:\tlearn: 0.9997182\ttotal: 5m 16s\tremaining: 9m 2s\n",
      "368:\tlearn: 0.9997182\ttotal: 5m 16s\tremaining: 9m 2s\n",
      "369:\tlearn: 0.9997182\ttotal: 5m 17s\tremaining: 9m 1s\n",
      "370:\tlearn: 0.9997182\ttotal: 5m 18s\tremaining: 9m\n",
      "371:\tlearn: 0.9997182\ttotal: 5m 19s\tremaining: 8m 59s\n",
      "372:\tlearn: 0.9997182\ttotal: 5m 20s\tremaining: 8m 58s\n",
      "373:\tlearn: 0.9997182\ttotal: 5m 21s\tremaining: 8m 57s\n",
      "374:\tlearn: 0.9997182\ttotal: 5m 21s\tremaining: 8m 56s\n",
      "375:\tlearn: 0.9997182\ttotal: 5m 22s\tremaining: 8m 55s\n",
      "376:\tlearn: 0.9997182\ttotal: 5m 23s\tremaining: 8m 54s\n",
      "377:\tlearn: 0.9997182\ttotal: 5m 24s\tremaining: 8m 53s\n",
      "378:\tlearn: 0.9997182\ttotal: 5m 25s\tremaining: 8m 52s\n",
      "379:\tlearn: 0.9997079\ttotal: 5m 26s\tremaining: 8m 51s\n",
      "380:\tlearn: 0.9997079\ttotal: 5m 26s\tremaining: 8m 51s\n",
      "381:\tlearn: 0.9997079\ttotal: 5m 27s\tremaining: 8m 50s\n",
      "382:\tlearn: 0.9997079\ttotal: 5m 28s\tremaining: 8m 49s\n",
      "383:\tlearn: 0.9997079\ttotal: 5m 29s\tremaining: 8m 48s\n",
      "384:\tlearn: 0.9997079\ttotal: 5m 30s\tremaining: 8m 47s\n",
      "385:\tlearn: 0.9997079\ttotal: 5m 31s\tremaining: 8m 46s\n",
      "386:\tlearn: 0.9997079\ttotal: 5m 31s\tremaining: 8m 45s\n",
      "387:\tlearn: 0.9997079\ttotal: 5m 32s\tremaining: 8m 44s\n",
      "388:\tlearn: 0.9997086\ttotal: 5m 33s\tremaining: 8m 44s\n",
      "389:\tlearn: 0.9997086\ttotal: 5m 34s\tremaining: 8m 43s\n",
      "390:\tlearn: 0.9997085\ttotal: 5m 35s\tremaining: 8m 42s\n",
      "391:\tlearn: 0.9997106\ttotal: 5m 36s\tremaining: 8m 41s\n",
      "392:\tlearn: 0.9997105\ttotal: 5m 37s\tremaining: 8m 40s\n",
      "393:\tlearn: 0.9997105\ttotal: 5m 37s\tremaining: 8m 39s\n",
      "394:\tlearn: 0.9997105\ttotal: 5m 38s\tremaining: 8m 38s\n",
      "395:\tlearn: 0.9997105\ttotal: 5m 39s\tremaining: 8m 37s\n",
      "396:\tlearn: 0.9997105\ttotal: 5m 40s\tremaining: 8m 37s\n",
      "397:\tlearn: 0.9997105\ttotal: 5m 41s\tremaining: 8m 36s\n",
      "398:\tlearn: 0.9997105\ttotal: 5m 42s\tremaining: 8m 35s\n",
      "399:\tlearn: 0.9997105\ttotal: 5m 42s\tremaining: 8m 34s\n",
      "400:\tlearn: 0.9997105\ttotal: 5m 43s\tremaining: 8m 33s\n",
      "401:\tlearn: 0.9997105\ttotal: 5m 44s\tremaining: 8m 32s\n",
      "402:\tlearn: 0.9997105\ttotal: 5m 45s\tremaining: 8m 31s\n",
      "403:\tlearn: 0.9997105\ttotal: 5m 46s\tremaining: 8m 30s\n",
      "404:\tlearn: 0.9997105\ttotal: 5m 47s\tremaining: 8m 29s\n",
      "405:\tlearn: 0.9997105\ttotal: 5m 47s\tremaining: 8m 29s\n",
      "406:\tlearn: 0.9997105\ttotal: 5m 48s\tremaining: 8m 28s\n",
      "407:\tlearn: 0.9997105\ttotal: 5m 49s\tremaining: 8m 27s\n",
      "408:\tlearn: 0.9997105\ttotal: 5m 50s\tremaining: 8m 26s\n",
      "409:\tlearn: 0.9997105\ttotal: 5m 51s\tremaining: 8m 25s\n",
      "410:\tlearn: 0.9997105\ttotal: 5m 52s\tremaining: 8m 24s\n",
      "411:\tlearn: 0.9997105\ttotal: 5m 52s\tremaining: 8m 23s\n",
      "412:\tlearn: 0.9997105\ttotal: 5m 53s\tremaining: 8m 22s\n",
      "413:\tlearn: 0.9997105\ttotal: 5m 54s\tremaining: 8m 21s\n",
      "414:\tlearn: 0.9997105\ttotal: 5m 55s\tremaining: 8m 20s\n",
      "415:\tlearn: 0.9997105\ttotal: 5m 56s\tremaining: 8m 20s\n",
      "416:\tlearn: 0.9997105\ttotal: 5m 57s\tremaining: 8m 19s\n",
      "417:\tlearn: 0.9997105\ttotal: 5m 57s\tremaining: 8m 18s\n",
      "418:\tlearn: 0.9997105\ttotal: 5m 58s\tremaining: 8m 17s\n",
      "419:\tlearn: 0.9997105\ttotal: 5m 59s\tremaining: 8m 16s\n",
      "420:\tlearn: 0.9997105\ttotal: 6m\tremaining: 8m 15s\n",
      "421:\tlearn: 0.9997105\ttotal: 6m 1s\tremaining: 8m 14s\n",
      "422:\tlearn: 0.9997105\ttotal: 6m 2s\tremaining: 8m 13s\n",
      "423:\tlearn: 0.9997105\ttotal: 6m 2s\tremaining: 8m 13s\n",
      "424:\tlearn: 0.9997105\ttotal: 6m 3s\tremaining: 8m 12s\n",
      "425:\tlearn: 0.9997105\ttotal: 6m 4s\tremaining: 8m 11s\n",
      "426:\tlearn: 0.9997105\ttotal: 6m 5s\tremaining: 8m 10s\n",
      "427:\tlearn: 0.9997105\ttotal: 6m 6s\tremaining: 8m 9s\n",
      "428:\tlearn: 0.9997105\ttotal: 6m 7s\tremaining: 8m 8s\n",
      "429:\tlearn: 0.9997105\ttotal: 6m 8s\tremaining: 8m 7s\n",
      "430:\tlearn: 0.9997105\ttotal: 6m 8s\tremaining: 8m 6s\n",
      "431:\tlearn: 0.9997105\ttotal: 6m 9s\tremaining: 8m 6s\n",
      "432:\tlearn: 0.9997105\ttotal: 6m 10s\tremaining: 8m 5s\n",
      "433:\tlearn: 0.9997105\ttotal: 6m 11s\tremaining: 8m 4s\n",
      "434:\tlearn: 0.9997105\ttotal: 6m 12s\tremaining: 8m 3s\n",
      "435:\tlearn: 0.9997105\ttotal: 6m 13s\tremaining: 8m 2s\n",
      "436:\tlearn: 0.9997105\ttotal: 6m 13s\tremaining: 8m 1s\n",
      "437:\tlearn: 0.9997105\ttotal: 6m 14s\tremaining: 8m\n",
      "438:\tlearn: 0.9997105\ttotal: 6m 15s\tremaining: 8m\n",
      "439:\tlearn: 0.9997105\ttotal: 6m 16s\tremaining: 7m 59s\n",
      "440:\tlearn: 0.9997105\ttotal: 6m 17s\tremaining: 7m 58s\n",
      "441:\tlearn: 0.9997105\ttotal: 6m 18s\tremaining: 7m 57s\n",
      "442:\tlearn: 0.9997105\ttotal: 6m 19s\tremaining: 7m 56s\n",
      "443:\tlearn: 0.9997105\ttotal: 6m 19s\tremaining: 7m 55s\n",
      "444:\tlearn: 0.9997105\ttotal: 6m 20s\tremaining: 7m 54s\n",
      "445:\tlearn: 0.9997105\ttotal: 6m 21s\tremaining: 7m 53s\n",
      "446:\tlearn: 0.9997105\ttotal: 6m 22s\tremaining: 7m 53s\n",
      "447:\tlearn: 0.9997105\ttotal: 6m 23s\tremaining: 7m 52s\n",
      "448:\tlearn: 0.9997105\ttotal: 6m 24s\tremaining: 7m 51s\n",
      "449:\tlearn: 0.9997105\ttotal: 6m 24s\tremaining: 7m 50s\n",
      "450:\tlearn: 0.9997105\ttotal: 6m 25s\tremaining: 7m 49s\n",
      "451:\tlearn: 0.9997105\ttotal: 6m 26s\tremaining: 7m 48s\n",
      "452:\tlearn: 0.9997105\ttotal: 6m 27s\tremaining: 7m 47s\n",
      "453:\tlearn: 0.9997105\ttotal: 6m 28s\tremaining: 7m 46s\n",
      "454:\tlearn: 0.9997105\ttotal: 6m 29s\tremaining: 7m 46s\n",
      "455:\tlearn: 0.9997105\ttotal: 6m 29s\tremaining: 7m 45s\n",
      "456:\tlearn: 0.9997105\ttotal: 6m 30s\tremaining: 7m 44s\n",
      "457:\tlearn: 0.9997105\ttotal: 6m 31s\tremaining: 7m 43s\n"
     ]
    },
    {
     "name": "stdout",
     "output_type": "stream",
     "text": [
      "458:\tlearn: 0.9997105\ttotal: 6m 32s\tremaining: 7m 42s\n",
      "459:\tlearn: 0.9997105\ttotal: 6m 33s\tremaining: 7m 41s\n",
      "460:\tlearn: 0.9997104\ttotal: 6m 34s\tremaining: 7m 40s\n",
      "461:\tlearn: 0.9997104\ttotal: 6m 34s\tremaining: 7m 39s\n",
      "462:\tlearn: 0.9997104\ttotal: 6m 35s\tremaining: 7m 38s\n",
      "463:\tlearn: 0.9997105\ttotal: 6m 36s\tremaining: 7m 38s\n",
      "464:\tlearn: 0.9997105\ttotal: 6m 37s\tremaining: 7m 37s\n",
      "465:\tlearn: 0.9997105\ttotal: 6m 38s\tremaining: 7m 36s\n",
      "466:\tlearn: 0.9997105\ttotal: 6m 39s\tremaining: 7m 35s\n",
      "467:\tlearn: 0.9997105\ttotal: 6m 39s\tremaining: 7m 34s\n",
      "468:\tlearn: 0.9997105\ttotal: 6m 40s\tremaining: 7m 33s\n",
      "469:\tlearn: 0.9997105\ttotal: 6m 41s\tremaining: 7m 32s\n",
      "470:\tlearn: 0.9997105\ttotal: 6m 42s\tremaining: 7m 32s\n",
      "471:\tlearn: 0.9997102\ttotal: 6m 43s\tremaining: 7m 31s\n",
      "472:\tlearn: 0.9997102\ttotal: 6m 44s\tremaining: 7m 30s\n",
      "473:\tlearn: 0.9997102\ttotal: 6m 44s\tremaining: 7m 29s\n",
      "474:\tlearn: 0.9997102\ttotal: 6m 45s\tremaining: 7m 28s\n",
      "475:\tlearn: 0.9997102\ttotal: 6m 46s\tremaining: 7m 27s\n",
      "476:\tlearn: 0.9997102\ttotal: 6m 47s\tremaining: 7m 26s\n",
      "477:\tlearn: 0.9997102\ttotal: 6m 48s\tremaining: 7m 25s\n",
      "478:\tlearn: 0.9997102\ttotal: 6m 49s\tremaining: 7m 25s\n",
      "479:\tlearn: 0.9997103\ttotal: 6m 50s\tremaining: 7m 24s\n",
      "480:\tlearn: 0.9997102\ttotal: 6m 50s\tremaining: 7m 23s\n",
      "481:\tlearn: 0.9997101\ttotal: 6m 51s\tremaining: 7m 22s\n",
      "482:\tlearn: 0.9997102\ttotal: 6m 52s\tremaining: 7m 21s\n",
      "483:\tlearn: 0.9997101\ttotal: 6m 53s\tremaining: 7m 20s\n",
      "484:\tlearn: 0.9997104\ttotal: 6m 54s\tremaining: 7m 19s\n",
      "485:\tlearn: 0.9997102\ttotal: 6m 55s\tremaining: 7m 19s\n",
      "486:\tlearn: 0.9997102\ttotal: 6m 55s\tremaining: 7m 18s\n",
      "487:\tlearn: 0.9997102\ttotal: 6m 56s\tremaining: 7m 17s\n",
      "488:\tlearn: 0.9997102\ttotal: 6m 57s\tremaining: 7m 16s\n",
      "489:\tlearn: 0.9997100\ttotal: 6m 58s\tremaining: 7m 15s\n",
      "490:\tlearn: 0.9997100\ttotal: 6m 59s\tremaining: 7m 14s\n",
      "491:\tlearn: 0.9997100\ttotal: 7m\tremaining: 7m 13s\n",
      "492:\tlearn: 0.9997103\ttotal: 7m\tremaining: 7m 12s\n",
      "493:\tlearn: 0.9997102\ttotal: 7m 1s\tremaining: 7m 12s\n",
      "494:\tlearn: 0.9997102\ttotal: 7m 2s\tremaining: 7m 11s\n",
      "495:\tlearn: 0.9997103\ttotal: 7m 3s\tremaining: 7m 10s\n",
      "496:\tlearn: 0.9997103\ttotal: 7m 4s\tremaining: 7m 9s\n",
      "497:\tlearn: 0.9997103\ttotal: 7m 5s\tremaining: 7m 8s\n",
      "498:\tlearn: 0.9997103\ttotal: 7m 6s\tremaining: 7m 7s\n",
      "499:\tlearn: 0.9997103\ttotal: 7m 6s\tremaining: 7m 6s\n",
      "500:\tlearn: 0.9997103\ttotal: 7m 7s\tremaining: 7m 6s\n",
      "501:\tlearn: 0.9997103\ttotal: 7m 8s\tremaining: 7m 5s\n",
      "502:\tlearn: 0.9997103\ttotal: 7m 9s\tremaining: 7m 4s\n",
      "503:\tlearn: 0.9997103\ttotal: 7m 10s\tremaining: 7m 3s\n",
      "504:\tlearn: 0.9997103\ttotal: 7m 11s\tremaining: 7m 2s\n",
      "505:\tlearn: 0.9997103\ttotal: 7m 11s\tremaining: 7m 1s\n",
      "506:\tlearn: 0.9997103\ttotal: 7m 12s\tremaining: 7m\n",
      "507:\tlearn: 0.9997102\ttotal: 7m 13s\tremaining: 6m 59s\n",
      "508:\tlearn: 0.9997102\ttotal: 7m 14s\tremaining: 6m 59s\n",
      "509:\tlearn: 0.9997102\ttotal: 7m 15s\tremaining: 6m 58s\n",
      "510:\tlearn: 0.9997102\ttotal: 7m 16s\tremaining: 6m 57s\n",
      "511:\tlearn: 0.9997102\ttotal: 7m 16s\tremaining: 6m 56s\n",
      "512:\tlearn: 0.9997102\ttotal: 7m 17s\tremaining: 6m 55s\n",
      "513:\tlearn: 0.9997102\ttotal: 7m 18s\tremaining: 6m 54s\n",
      "514:\tlearn: 0.9997102\ttotal: 7m 19s\tremaining: 6m 53s\n",
      "515:\tlearn: 0.9997103\ttotal: 7m 20s\tremaining: 6m 53s\n",
      "516:\tlearn: 0.9997103\ttotal: 7m 21s\tremaining: 6m 52s\n",
      "517:\tlearn: 0.9997103\ttotal: 7m 22s\tremaining: 6m 51s\n",
      "518:\tlearn: 0.9997103\ttotal: 7m 23s\tremaining: 6m 50s\n",
      "519:\tlearn: 0.9997103\ttotal: 7m 23s\tremaining: 6m 49s\n",
      "520:\tlearn: 0.9997103\ttotal: 7m 24s\tremaining: 6m 49s\n",
      "521:\tlearn: 0.9997102\ttotal: 7m 25s\tremaining: 6m 48s\n",
      "522:\tlearn: 0.9997102\ttotal: 7m 26s\tremaining: 6m 47s\n",
      "523:\tlearn: 0.9997102\ttotal: 7m 27s\tremaining: 6m 46s\n",
      "524:\tlearn: 0.9997102\ttotal: 7m 28s\tremaining: 6m 45s\n",
      "525:\tlearn: 0.9997101\ttotal: 7m 29s\tremaining: 6m 44s\n",
      "526:\tlearn: 0.9997101\ttotal: 7m 29s\tremaining: 6m 43s\n",
      "527:\tlearn: 0.9997101\ttotal: 7m 30s\tremaining: 6m 43s\n",
      "528:\tlearn: 0.9997101\ttotal: 7m 31s\tremaining: 6m 42s\n",
      "529:\tlearn: 0.9997100\ttotal: 7m 32s\tremaining: 6m 41s\n",
      "530:\tlearn: 0.9997100\ttotal: 7m 33s\tremaining: 6m 40s\n",
      "531:\tlearn: 0.9997100\ttotal: 7m 34s\tremaining: 6m 39s\n",
      "532:\tlearn: 0.9997100\ttotal: 7m 35s\tremaining: 6m 38s\n",
      "533:\tlearn: 0.9997100\ttotal: 7m 35s\tremaining: 6m 37s\n",
      "534:\tlearn: 0.9997100\ttotal: 7m 36s\tremaining: 6m 37s\n",
      "535:\tlearn: 0.9997100\ttotal: 7m 37s\tremaining: 6m 36s\n",
      "536:\tlearn: 0.9997100\ttotal: 7m 38s\tremaining: 6m 35s\n",
      "537:\tlearn: 0.9997100\ttotal: 7m 39s\tremaining: 6m 34s\n",
      "538:\tlearn: 0.9997100\ttotal: 7m 40s\tremaining: 6m 33s\n",
      "539:\tlearn: 0.9997100\ttotal: 7m 41s\tremaining: 6m 32s\n",
      "540:\tlearn: 0.9997100\ttotal: 7m 42s\tremaining: 6m 32s\n",
      "541:\tlearn: 0.9997100\ttotal: 7m 42s\tremaining: 6m 31s\n",
      "542:\tlearn: 0.9997100\ttotal: 7m 43s\tremaining: 6m 30s\n",
      "543:\tlearn: 0.9997100\ttotal: 7m 44s\tremaining: 6m 29s\n",
      "544:\tlearn: 0.9997102\ttotal: 7m 45s\tremaining: 6m 28s\n",
      "545:\tlearn: 0.9997101\ttotal: 7m 46s\tremaining: 6m 27s\n",
      "546:\tlearn: 0.9997101\ttotal: 7m 47s\tremaining: 6m 26s\n",
      "547:\tlearn: 0.9997101\ttotal: 7m 48s\tremaining: 6m 26s\n",
      "548:\tlearn: 0.9997101\ttotal: 7m 48s\tremaining: 6m 25s\n",
      "549:\tlearn: 0.9997102\ttotal: 7m 49s\tremaining: 6m 24s\n",
      "550:\tlearn: 0.9997102\ttotal: 7m 50s\tremaining: 6m 23s\n",
      "551:\tlearn: 0.9997156\ttotal: 7m 51s\tremaining: 6m 22s\n",
      "552:\tlearn: 0.9997156\ttotal: 7m 52s\tremaining: 6m 21s\n",
      "553:\tlearn: 0.9997156\ttotal: 7m 53s\tremaining: 6m 20s\n",
      "554:\tlearn: 0.9997156\ttotal: 7m 54s\tremaining: 6m 20s\n",
      "555:\tlearn: 0.9997156\ttotal: 7m 54s\tremaining: 6m 19s\n",
      "556:\tlearn: 0.9997156\ttotal: 7m 55s\tremaining: 6m 18s\n",
      "557:\tlearn: 0.9997156\ttotal: 7m 56s\tremaining: 6m 17s\n",
      "558:\tlearn: 0.9997156\ttotal: 7m 57s\tremaining: 6m 16s\n",
      "559:\tlearn: 0.9997156\ttotal: 7m 58s\tremaining: 6m 15s\n",
      "560:\tlearn: 0.9997157\ttotal: 7m 59s\tremaining: 6m 14s\n",
      "561:\tlearn: 0.9997157\ttotal: 7m 59s\tremaining: 6m 14s\n",
      "562:\tlearn: 0.9997157\ttotal: 8m\tremaining: 6m 13s\n",
      "563:\tlearn: 0.9997157\ttotal: 8m 1s\tremaining: 6m 12s\n",
      "564:\tlearn: 0.9997157\ttotal: 8m 2s\tremaining: 6m 11s\n",
      "565:\tlearn: 0.9997157\ttotal: 8m 3s\tremaining: 6m 10s\n",
      "566:\tlearn: 0.9997157\ttotal: 8m 4s\tremaining: 6m 9s\n",
      "567:\tlearn: 0.9997157\ttotal: 8m 5s\tremaining: 6m 9s\n",
      "568:\tlearn: 0.9997157\ttotal: 8m 6s\tremaining: 6m 8s\n",
      "569:\tlearn: 0.9997157\ttotal: 8m 6s\tremaining: 6m 7s\n",
      "570:\tlearn: 0.9997157\ttotal: 8m 7s\tremaining: 6m 6s\n",
      "571:\tlearn: 0.9997157\ttotal: 8m 8s\tremaining: 6m 5s\n",
      "572:\tlearn: 0.9997157\ttotal: 8m 9s\tremaining: 6m 4s\n",
      "573:\tlearn: 0.9997157\ttotal: 8m 10s\tremaining: 6m 3s\n",
      "574:\tlearn: 0.9997157\ttotal: 8m 11s\tremaining: 6m 3s\n",
      "575:\tlearn: 0.9997157\ttotal: 8m 12s\tremaining: 6m 2s\n",
      "576:\tlearn: 0.9997157\ttotal: 8m 12s\tremaining: 6m 1s\n",
      "577:\tlearn: 0.9997157\ttotal: 8m 13s\tremaining: 6m\n",
      "578:\tlearn: 0.9997157\ttotal: 8m 14s\tremaining: 5m 59s\n",
      "579:\tlearn: 0.9997157\ttotal: 8m 15s\tremaining: 5m 58s\n",
      "580:\tlearn: 0.9997157\ttotal: 8m 16s\tremaining: 5m 57s\n",
      "581:\tlearn: 0.9997157\ttotal: 8m 17s\tremaining: 5m 57s\n",
      "582:\tlearn: 0.9997157\ttotal: 8m 18s\tremaining: 5m 56s\n",
      "583:\tlearn: 0.9997157\ttotal: 8m 18s\tremaining: 5m 55s\n",
      "584:\tlearn: 0.9997157\ttotal: 8m 19s\tremaining: 5m 54s\n",
      "585:\tlearn: 0.9997157\ttotal: 8m 20s\tremaining: 5m 53s\n",
      "586:\tlearn: 0.9997157\ttotal: 8m 21s\tremaining: 5m 52s\n",
      "587:\tlearn: 0.9997157\ttotal: 8m 22s\tremaining: 5m 52s\n",
      "588:\tlearn: 0.9997157\ttotal: 8m 23s\tremaining: 5m 51s\n",
      "589:\tlearn: 0.9997157\ttotal: 8m 24s\tremaining: 5m 50s\n",
      "590:\tlearn: 0.9997157\ttotal: 8m 25s\tremaining: 5m 49s\n",
      "591:\tlearn: 0.9997157\ttotal: 8m 25s\tremaining: 5m 48s\n",
      "592:\tlearn: 0.9997157\ttotal: 8m 26s\tremaining: 5m 47s\n",
      "593:\tlearn: 0.9997157\ttotal: 8m 27s\tremaining: 5m 46s\n",
      "594:\tlearn: 0.9997157\ttotal: 8m 28s\tremaining: 5m 46s\n",
      "595:\tlearn: 0.9997157\ttotal: 8m 29s\tremaining: 5m 45s\n",
      "596:\tlearn: 0.9997157\ttotal: 8m 30s\tremaining: 5m 44s\n",
      "597:\tlearn: 0.9997157\ttotal: 8m 31s\tremaining: 5m 43s\n",
      "598:\tlearn: 0.9997157\ttotal: 8m 31s\tremaining: 5m 42s\n",
      "599:\tlearn: 0.9997157\ttotal: 8m 32s\tremaining: 5m 41s\n",
      "600:\tlearn: 0.9997157\ttotal: 8m 33s\tremaining: 5m 41s\n",
      "601:\tlearn: 0.9997157\ttotal: 8m 34s\tremaining: 5m 40s\n",
      "602:\tlearn: 0.9997157\ttotal: 8m 35s\tremaining: 5m 39s\n",
      "603:\tlearn: 0.9997157\ttotal: 8m 36s\tremaining: 5m 38s\n",
      "604:\tlearn: 0.9997157\ttotal: 8m 37s\tremaining: 5m 37s\n",
      "605:\tlearn: 0.9997157\ttotal: 8m 37s\tremaining: 5m 36s\n",
      "606:\tlearn: 0.9997157\ttotal: 8m 38s\tremaining: 5m 35s\n",
      "607:\tlearn: 0.9997157\ttotal: 8m 39s\tremaining: 5m 35s\n",
      "608:\tlearn: 0.9997157\ttotal: 8m 40s\tremaining: 5m 34s\n",
      "609:\tlearn: 0.9997157\ttotal: 8m 41s\tremaining: 5m 33s\n",
      "610:\tlearn: 0.9997157\ttotal: 8m 42s\tremaining: 5m 32s\n"
     ]
    },
    {
     "name": "stdout",
     "output_type": "stream",
     "text": [
      "611:\tlearn: 0.9997157\ttotal: 8m 43s\tremaining: 5m 31s\n",
      "612:\tlearn: 0.9997157\ttotal: 8m 43s\tremaining: 5m 30s\n",
      "613:\tlearn: 0.9997157\ttotal: 8m 44s\tremaining: 5m 29s\n",
      "614:\tlearn: 0.9997157\ttotal: 8m 45s\tremaining: 5m 29s\n",
      "615:\tlearn: 0.9997157\ttotal: 8m 46s\tremaining: 5m 28s\n",
      "616:\tlearn: 0.9997157\ttotal: 8m 47s\tremaining: 5m 27s\n",
      "617:\tlearn: 0.9997157\ttotal: 8m 48s\tremaining: 5m 26s\n",
      "618:\tlearn: 0.9997157\ttotal: 8m 48s\tremaining: 5m 25s\n",
      "619:\tlearn: 0.9997157\ttotal: 8m 49s\tremaining: 5m 24s\n",
      "620:\tlearn: 0.9997157\ttotal: 8m 50s\tremaining: 5m 23s\n",
      "621:\tlearn: 0.9997157\ttotal: 8m 51s\tremaining: 5m 22s\n",
      "622:\tlearn: 0.9997157\ttotal: 8m 52s\tremaining: 5m 22s\n",
      "623:\tlearn: 0.9997157\ttotal: 8m 53s\tremaining: 5m 21s\n",
      "624:\tlearn: 0.9997158\ttotal: 8m 54s\tremaining: 5m 20s\n",
      "625:\tlearn: 0.9997158\ttotal: 8m 54s\tremaining: 5m 19s\n",
      "626:\tlearn: 0.9997158\ttotal: 8m 55s\tremaining: 5m 18s\n",
      "627:\tlearn: 0.9997158\ttotal: 8m 56s\tremaining: 5m 17s\n",
      "628:\tlearn: 0.9997158\ttotal: 8m 57s\tremaining: 5m 16s\n",
      "629:\tlearn: 0.9997158\ttotal: 8m 58s\tremaining: 5m 16s\n",
      "630:\tlearn: 0.9997158\ttotal: 8m 59s\tremaining: 5m 15s\n",
      "631:\tlearn: 0.9997149\ttotal: 8m 59s\tremaining: 5m 14s\n",
      "632:\tlearn: 0.9997149\ttotal: 9m\tremaining: 5m 13s\n",
      "633:\tlearn: 0.9997149\ttotal: 9m 1s\tremaining: 5m 12s\n",
      "634:\tlearn: 0.9997149\ttotal: 9m 2s\tremaining: 5m 11s\n",
      "635:\tlearn: 0.9997149\ttotal: 9m 3s\tremaining: 5m 10s\n",
      "636:\tlearn: 0.9997150\ttotal: 9m 4s\tremaining: 5m 10s\n",
      "637:\tlearn: 0.9997150\ttotal: 9m 5s\tremaining: 5m 9s\n",
      "638:\tlearn: 0.9997150\ttotal: 9m 5s\tremaining: 5m 8s\n",
      "639:\tlearn: 0.9997150\ttotal: 9m 6s\tremaining: 5m 7s\n",
      "640:\tlearn: 0.9997150\ttotal: 9m 7s\tremaining: 5m 6s\n",
      "641:\tlearn: 0.9997150\ttotal: 9m 8s\tremaining: 5m 5s\n",
      "642:\tlearn: 0.9997150\ttotal: 9m 9s\tremaining: 5m 4s\n",
      "643:\tlearn: 0.9997150\ttotal: 9m 10s\tremaining: 5m 4s\n",
      "644:\tlearn: 0.9997151\ttotal: 9m 10s\tremaining: 5m 3s\n",
      "645:\tlearn: 0.9997151\ttotal: 9m 11s\tremaining: 5m 2s\n",
      "646:\tlearn: 0.9997150\ttotal: 9m 12s\tremaining: 5m 1s\n",
      "647:\tlearn: 0.9997150\ttotal: 9m 13s\tremaining: 5m\n",
      "648:\tlearn: 0.9997150\ttotal: 9m 14s\tremaining: 4m 59s\n",
      "649:\tlearn: 0.9997150\ttotal: 9m 15s\tremaining: 4m 58s\n",
      "650:\tlearn: 0.9997150\ttotal: 9m 16s\tremaining: 4m 58s\n",
      "651:\tlearn: 0.9997150\ttotal: 9m 16s\tremaining: 4m 57s\n",
      "652:\tlearn: 0.9997150\ttotal: 9m 17s\tremaining: 4m 56s\n",
      "653:\tlearn: 0.9997150\ttotal: 9m 18s\tremaining: 4m 55s\n",
      "654:\tlearn: 0.9997150\ttotal: 9m 19s\tremaining: 4m 54s\n",
      "655:\tlearn: 0.9997150\ttotal: 9m 20s\tremaining: 4m 53s\n",
      "656:\tlearn: 0.9997150\ttotal: 9m 21s\tremaining: 4m 53s\n",
      "657:\tlearn: 0.9997150\ttotal: 9m 22s\tremaining: 4m 52s\n",
      "658:\tlearn: 0.9997150\ttotal: 9m 22s\tremaining: 4m 51s\n",
      "659:\tlearn: 0.9997150\ttotal: 9m 23s\tremaining: 4m 50s\n",
      "660:\tlearn: 0.9997150\ttotal: 9m 24s\tremaining: 4m 49s\n",
      "661:\tlearn: 0.9997150\ttotal: 9m 25s\tremaining: 4m 48s\n",
      "662:\tlearn: 0.9997150\ttotal: 9m 26s\tremaining: 4m 47s\n",
      "663:\tlearn: 0.9997150\ttotal: 9m 27s\tremaining: 4m 47s\n",
      "664:\tlearn: 0.9997151\ttotal: 9m 28s\tremaining: 4m 46s\n",
      "665:\tlearn: 0.9997151\ttotal: 9m 28s\tremaining: 4m 45s\n",
      "666:\tlearn: 0.9997151\ttotal: 9m 29s\tremaining: 4m 44s\n",
      "667:\tlearn: 0.9997151\ttotal: 9m 30s\tremaining: 4m 43s\n",
      "668:\tlearn: 0.9997160\ttotal: 9m 31s\tremaining: 4m 42s\n",
      "669:\tlearn: 0.9997160\ttotal: 9m 32s\tremaining: 4m 41s\n",
      "670:\tlearn: 0.9997160\ttotal: 9m 33s\tremaining: 4m 41s\n",
      "671:\tlearn: 0.9997161\ttotal: 9m 34s\tremaining: 4m 40s\n",
      "672:\tlearn: 0.9997161\ttotal: 9m 35s\tremaining: 4m 39s\n",
      "673:\tlearn: 0.9997160\ttotal: 9m 35s\tremaining: 4m 38s\n",
      "674:\tlearn: 0.9997160\ttotal: 9m 36s\tremaining: 4m 37s\n",
      "675:\tlearn: 0.9997160\ttotal: 9m 37s\tremaining: 4m 36s\n",
      "676:\tlearn: 0.9997160\ttotal: 9m 38s\tremaining: 4m 35s\n",
      "677:\tlearn: 0.9997160\ttotal: 9m 39s\tremaining: 4m 35s\n",
      "678:\tlearn: 0.9997160\ttotal: 9m 40s\tremaining: 4m 34s\n",
      "679:\tlearn: 0.9997160\ttotal: 9m 40s\tremaining: 4m 33s\n",
      "680:\tlearn: 0.9997160\ttotal: 9m 41s\tremaining: 4m 32s\n",
      "681:\tlearn: 0.9997161\ttotal: 9m 42s\tremaining: 4m 31s\n",
      "682:\tlearn: 0.9997165\ttotal: 9m 43s\tremaining: 4m 30s\n",
      "683:\tlearn: 0.9997165\ttotal: 9m 44s\tremaining: 4m 29s\n",
      "684:\tlearn: 0.9997165\ttotal: 9m 45s\tremaining: 4m 29s\n",
      "685:\tlearn: 0.9997165\ttotal: 9m 45s\tremaining: 4m 28s\n",
      "686:\tlearn: 0.9997165\ttotal: 9m 46s\tremaining: 4m 27s\n",
      "687:\tlearn: 0.9997165\ttotal: 9m 47s\tremaining: 4m 26s\n",
      "688:\tlearn: 0.9997165\ttotal: 9m 48s\tremaining: 4m 25s\n",
      "689:\tlearn: 0.9997165\ttotal: 9m 49s\tremaining: 4m 24s\n",
      "690:\tlearn: 0.9997165\ttotal: 9m 50s\tremaining: 4m 23s\n",
      "691:\tlearn: 0.9997165\ttotal: 9m 50s\tremaining: 4m 23s\n",
      "692:\tlearn: 0.9997165\ttotal: 9m 51s\tremaining: 4m 22s\n",
      "693:\tlearn: 0.9997165\ttotal: 9m 52s\tremaining: 4m 21s\n",
      "694:\tlearn: 0.9997165\ttotal: 9m 53s\tremaining: 4m 20s\n",
      "695:\tlearn: 0.9997165\ttotal: 9m 54s\tremaining: 4m 19s\n",
      "696:\tlearn: 0.9997165\ttotal: 9m 55s\tremaining: 4m 18s\n",
      "697:\tlearn: 0.9997165\ttotal: 9m 55s\tremaining: 4m 17s\n",
      "698:\tlearn: 0.9997165\ttotal: 9m 56s\tremaining: 4m 17s\n",
      "699:\tlearn: 0.9997165\ttotal: 9m 57s\tremaining: 4m 16s\n",
      "700:\tlearn: 0.9997165\ttotal: 9m 58s\tremaining: 4m 15s\n",
      "701:\tlearn: 0.9997165\ttotal: 9m 59s\tremaining: 4m 14s\n",
      "702:\tlearn: 0.9997165\ttotal: 10m\tremaining: 4m 13s\n",
      "703:\tlearn: 0.9997165\ttotal: 10m 1s\tremaining: 4m 12s\n",
      "704:\tlearn: 0.9997166\ttotal: 10m 2s\tremaining: 4m 11s\n",
      "705:\tlearn: 0.9997166\ttotal: 10m 2s\tremaining: 4m 11s\n",
      "706:\tlearn: 0.9997163\ttotal: 10m 3s\tremaining: 4m 10s\n",
      "707:\tlearn: 0.9997166\ttotal: 10m 4s\tremaining: 4m 9s\n",
      "708:\tlearn: 0.9997166\ttotal: 10m 5s\tremaining: 4m 8s\n",
      "709:\tlearn: 0.9997166\ttotal: 10m 6s\tremaining: 4m 7s\n",
      "710:\tlearn: 0.9997166\ttotal: 10m 7s\tremaining: 4m 6s\n",
      "711:\tlearn: 0.9997166\ttotal: 10m 8s\tremaining: 4m 5s\n",
      "712:\tlearn: 0.9997166\ttotal: 10m 8s\tremaining: 4m 5s\n",
      "713:\tlearn: 0.9997166\ttotal: 10m 9s\tremaining: 4m 4s\n",
      "714:\tlearn: 0.9997166\ttotal: 10m 10s\tremaining: 4m 3s\n",
      "715:\tlearn: 0.9997166\ttotal: 10m 11s\tremaining: 4m 2s\n",
      "716:\tlearn: 0.9997166\ttotal: 10m 12s\tremaining: 4m 1s\n",
      "717:\tlearn: 0.9997166\ttotal: 10m 13s\tremaining: 4m\n",
      "718:\tlearn: 0.9997166\ttotal: 10m 14s\tremaining: 3m 59s\n",
      "719:\tlearn: 0.9997166\ttotal: 10m 14s\tremaining: 3m 59s\n",
      "720:\tlearn: 0.9997166\ttotal: 10m 15s\tremaining: 3m 58s\n",
      "721:\tlearn: 0.9997166\ttotal: 10m 16s\tremaining: 3m 57s\n",
      "722:\tlearn: 0.9997166\ttotal: 10m 17s\tremaining: 3m 56s\n",
      "723:\tlearn: 0.9997166\ttotal: 10m 18s\tremaining: 3m 55s\n",
      "724:\tlearn: 0.9997166\ttotal: 10m 19s\tremaining: 3m 54s\n",
      "725:\tlearn: 0.9997166\ttotal: 10m 19s\tremaining: 3m 53s\n",
      "726:\tlearn: 0.9997166\ttotal: 10m 20s\tremaining: 3m 53s\n",
      "727:\tlearn: 0.9997166\ttotal: 10m 21s\tremaining: 3m 52s\n",
      "728:\tlearn: 0.9997166\ttotal: 10m 22s\tremaining: 3m 51s\n",
      "729:\tlearn: 0.9997166\ttotal: 10m 23s\tremaining: 3m 50s\n",
      "730:\tlearn: 0.9997166\ttotal: 10m 24s\tremaining: 3m 49s\n",
      "731:\tlearn: 0.9997166\ttotal: 10m 25s\tremaining: 3m 48s\n",
      "732:\tlearn: 0.9997166\ttotal: 10m 25s\tremaining: 3m 48s\n",
      "733:\tlearn: 0.9997166\ttotal: 10m 26s\tremaining: 3m 47s\n",
      "734:\tlearn: 0.9997166\ttotal: 10m 27s\tremaining: 3m 46s\n",
      "735:\tlearn: 0.9997166\ttotal: 10m 28s\tremaining: 3m 45s\n",
      "736:\tlearn: 0.9997166\ttotal: 10m 29s\tremaining: 3m 44s\n",
      "737:\tlearn: 0.9997163\ttotal: 10m 30s\tremaining: 3m 43s\n",
      "738:\tlearn: 0.9997163\ttotal: 10m 31s\tremaining: 3m 42s\n",
      "739:\tlearn: 0.9997163\ttotal: 10m 31s\tremaining: 3m 42s\n",
      "740:\tlearn: 0.9997163\ttotal: 10m 32s\tremaining: 3m 41s\n",
      "741:\tlearn: 0.9997163\ttotal: 10m 33s\tremaining: 3m 40s\n",
      "742:\tlearn: 0.9997155\ttotal: 10m 34s\tremaining: 3m 39s\n",
      "743:\tlearn: 0.9997155\ttotal: 10m 35s\tremaining: 3m 38s\n",
      "744:\tlearn: 0.9997155\ttotal: 10m 36s\tremaining: 3m 37s\n",
      "745:\tlearn: 0.9997155\ttotal: 10m 37s\tremaining: 3m 36s\n",
      "746:\tlearn: 0.9997155\ttotal: 10m 37s\tremaining: 3m 36s\n",
      "747:\tlearn: 0.9997155\ttotal: 10m 38s\tremaining: 3m 35s\n",
      "748:\tlearn: 0.9997155\ttotal: 10m 39s\tremaining: 3m 34s\n",
      "749:\tlearn: 0.9997155\ttotal: 10m 40s\tremaining: 3m 33s\n",
      "750:\tlearn: 0.9997155\ttotal: 10m 41s\tremaining: 3m 32s\n",
      "751:\tlearn: 0.9997155\ttotal: 10m 42s\tremaining: 3m 31s\n",
      "752:\tlearn: 0.9997155\ttotal: 10m 42s\tremaining: 3m 30s\n",
      "753:\tlearn: 0.9997155\ttotal: 10m 43s\tremaining: 3m 30s\n",
      "754:\tlearn: 0.9997155\ttotal: 10m 44s\tremaining: 3m 29s\n",
      "755:\tlearn: 0.9997155\ttotal: 10m 45s\tremaining: 3m 28s\n",
      "756:\tlearn: 0.9997155\ttotal: 10m 46s\tremaining: 3m 27s\n",
      "757:\tlearn: 0.9997155\ttotal: 10m 47s\tremaining: 3m 26s\n",
      "758:\tlearn: 0.9997155\ttotal: 10m 47s\tremaining: 3m 25s\n",
      "759:\tlearn: 0.9997155\ttotal: 10m 48s\tremaining: 3m 24s\n",
      "760:\tlearn: 0.9997155\ttotal: 10m 49s\tremaining: 3m 24s\n",
      "761:\tlearn: 0.9997155\ttotal: 10m 50s\tremaining: 3m 23s\n",
      "762:\tlearn: 0.9997155\ttotal: 10m 51s\tremaining: 3m 22s\n"
     ]
    },
    {
     "name": "stdout",
     "output_type": "stream",
     "text": [
      "763:\tlearn: 0.9997155\ttotal: 10m 52s\tremaining: 3m 21s\n",
      "764:\tlearn: 0.9997155\ttotal: 10m 53s\tremaining: 3m 20s\n",
      "765:\tlearn: 0.9997155\ttotal: 10m 53s\tremaining: 3m 19s\n",
      "766:\tlearn: 0.9997155\ttotal: 10m 54s\tremaining: 3m 18s\n",
      "767:\tlearn: 0.9997155\ttotal: 10m 55s\tremaining: 3m 18s\n",
      "768:\tlearn: 0.9997155\ttotal: 10m 56s\tremaining: 3m 17s\n",
      "769:\tlearn: 0.9997155\ttotal: 10m 57s\tremaining: 3m 16s\n",
      "770:\tlearn: 0.9997155\ttotal: 10m 58s\tremaining: 3m 15s\n",
      "771:\tlearn: 0.9997155\ttotal: 10m 58s\tremaining: 3m 14s\n",
      "772:\tlearn: 0.9997155\ttotal: 10m 59s\tremaining: 3m 13s\n",
      "773:\tlearn: 0.9997155\ttotal: 11m\tremaining: 3m 12s\n",
      "774:\tlearn: 0.9997155\ttotal: 11m 1s\tremaining: 3m 12s\n",
      "775:\tlearn: 0.9997155\ttotal: 11m 2s\tremaining: 3m 11s\n",
      "776:\tlearn: 0.9997155\ttotal: 11m 3s\tremaining: 3m 10s\n",
      "777:\tlearn: 0.9997155\ttotal: 11m 3s\tremaining: 3m 9s\n",
      "778:\tlearn: 0.9997155\ttotal: 11m 4s\tremaining: 3m 8s\n",
      "779:\tlearn: 0.9997155\ttotal: 11m 5s\tremaining: 3m 7s\n",
      "780:\tlearn: 0.9997155\ttotal: 11m 6s\tremaining: 3m 6s\n",
      "781:\tlearn: 0.9997155\ttotal: 11m 7s\tremaining: 3m 5s\n",
      "782:\tlearn: 0.9997155\ttotal: 11m 8s\tremaining: 3m 5s\n",
      "783:\tlearn: 0.9997155\ttotal: 11m 8s\tremaining: 3m 4s\n",
      "784:\tlearn: 0.9997155\ttotal: 11m 9s\tremaining: 3m 3s\n",
      "785:\tlearn: 0.9997155\ttotal: 11m 10s\tremaining: 3m 2s\n",
      "786:\tlearn: 0.9997155\ttotal: 11m 11s\tremaining: 3m 1s\n",
      "787:\tlearn: 0.9997155\ttotal: 11m 12s\tremaining: 3m\n",
      "788:\tlearn: 0.9997155\ttotal: 11m 13s\tremaining: 2m 59s\n",
      "789:\tlearn: 0.9997155\ttotal: 11m 13s\tremaining: 2m 59s\n",
      "790:\tlearn: 0.9997155\ttotal: 11m 14s\tremaining: 2m 58s\n",
      "791:\tlearn: 0.9997155\ttotal: 11m 15s\tremaining: 2m 57s\n",
      "792:\tlearn: 0.9997155\ttotal: 11m 16s\tremaining: 2m 56s\n",
      "793:\tlearn: 0.9997155\ttotal: 11m 17s\tremaining: 2m 55s\n",
      "794:\tlearn: 0.9997155\ttotal: 11m 18s\tremaining: 2m 54s\n",
      "795:\tlearn: 0.9997155\ttotal: 11m 18s\tremaining: 2m 53s\n",
      "796:\tlearn: 0.9997155\ttotal: 11m 19s\tremaining: 2m 53s\n",
      "797:\tlearn: 0.9997155\ttotal: 11m 20s\tremaining: 2m 52s\n",
      "798:\tlearn: 0.9997155\ttotal: 11m 21s\tremaining: 2m 51s\n",
      "799:\tlearn: 0.9997155\ttotal: 11m 22s\tremaining: 2m 50s\n",
      "800:\tlearn: 0.9997155\ttotal: 11m 23s\tremaining: 2m 49s\n",
      "801:\tlearn: 0.9997155\ttotal: 11m 23s\tremaining: 2m 48s\n",
      "802:\tlearn: 0.9997155\ttotal: 11m 24s\tremaining: 2m 47s\n",
      "803:\tlearn: 0.9997155\ttotal: 11m 25s\tremaining: 2m 47s\n",
      "804:\tlearn: 0.9997155\ttotal: 11m 26s\tremaining: 2m 46s\n",
      "805:\tlearn: 0.9997155\ttotal: 11m 27s\tremaining: 2m 45s\n",
      "806:\tlearn: 0.9997155\ttotal: 11m 28s\tremaining: 2m 44s\n",
      "807:\tlearn: 0.9997155\ttotal: 11m 28s\tremaining: 2m 43s\n",
      "808:\tlearn: 0.9997155\ttotal: 11m 29s\tremaining: 2m 42s\n",
      "809:\tlearn: 0.9997155\ttotal: 11m 30s\tremaining: 2m 42s\n",
      "810:\tlearn: 0.9997155\ttotal: 11m 31s\tremaining: 2m 41s\n",
      "811:\tlearn: 0.9997155\ttotal: 11m 32s\tremaining: 2m 40s\n",
      "812:\tlearn: 0.9997155\ttotal: 11m 33s\tremaining: 2m 39s\n",
      "813:\tlearn: 0.9997155\ttotal: 11m 33s\tremaining: 2m 38s\n",
      "814:\tlearn: 0.9997155\ttotal: 11m 34s\tremaining: 2m 37s\n",
      "815:\tlearn: 0.9997155\ttotal: 11m 35s\tremaining: 2m 36s\n",
      "816:\tlearn: 0.9997155\ttotal: 11m 36s\tremaining: 2m 36s\n",
      "817:\tlearn: 0.9997155\ttotal: 11m 37s\tremaining: 2m 35s\n",
      "818:\tlearn: 0.9997158\ttotal: 11m 38s\tremaining: 2m 34s\n",
      "819:\tlearn: 0.9997158\ttotal: 11m 38s\tremaining: 2m 33s\n",
      "820:\tlearn: 0.9997158\ttotal: 11m 39s\tremaining: 2m 32s\n",
      "821:\tlearn: 0.9997158\ttotal: 11m 40s\tremaining: 2m 31s\n",
      "822:\tlearn: 0.9997158\ttotal: 11m 41s\tremaining: 2m 30s\n",
      "823:\tlearn: 0.9997159\ttotal: 11m 42s\tremaining: 2m 30s\n",
      "824:\tlearn: 0.9997159\ttotal: 11m 43s\tremaining: 2m 29s\n",
      "825:\tlearn: 0.9997159\ttotal: 11m 43s\tremaining: 2m 28s\n",
      "826:\tlearn: 0.9997159\ttotal: 11m 44s\tremaining: 2m 27s\n",
      "827:\tlearn: 0.9997159\ttotal: 11m 45s\tremaining: 2m 26s\n",
      "828:\tlearn: 0.9997159\ttotal: 11m 46s\tremaining: 2m 25s\n",
      "829:\tlearn: 0.9997159\ttotal: 11m 47s\tremaining: 2m 24s\n",
      "830:\tlearn: 0.9997159\ttotal: 11m 48s\tremaining: 2m 24s\n",
      "831:\tlearn: 0.9997159\ttotal: 11m 48s\tremaining: 2m 23s\n",
      "832:\tlearn: 0.9997159\ttotal: 11m 49s\tremaining: 2m 22s\n",
      "833:\tlearn: 0.9997159\ttotal: 11m 50s\tremaining: 2m 21s\n",
      "834:\tlearn: 0.9997159\ttotal: 11m 51s\tremaining: 2m 20s\n",
      "835:\tlearn: 0.9997159\ttotal: 11m 52s\tremaining: 2m 19s\n",
      "836:\tlearn: 0.9997159\ttotal: 11m 53s\tremaining: 2m 18s\n",
      "837:\tlearn: 0.9997159\ttotal: 11m 53s\tremaining: 2m 18s\n",
      "838:\tlearn: 0.9997159\ttotal: 11m 54s\tremaining: 2m 17s\n",
      "839:\tlearn: 0.9997159\ttotal: 11m 55s\tremaining: 2m 16s\n",
      "840:\tlearn: 0.9997159\ttotal: 11m 56s\tremaining: 2m 15s\n",
      "841:\tlearn: 0.9997159\ttotal: 11m 57s\tremaining: 2m 14s\n",
      "842:\tlearn: 0.9997159\ttotal: 11m 58s\tremaining: 2m 13s\n",
      "843:\tlearn: 0.9997159\ttotal: 11m 58s\tremaining: 2m 12s\n",
      "844:\tlearn: 0.9997159\ttotal: 11m 59s\tremaining: 2m 12s\n",
      "845:\tlearn: 0.9997159\ttotal: 12m\tremaining: 2m 11s\n",
      "846:\tlearn: 0.9997159\ttotal: 12m 1s\tremaining: 2m 10s\n",
      "847:\tlearn: 0.9997159\ttotal: 12m 2s\tremaining: 2m 9s\n",
      "848:\tlearn: 0.9997159\ttotal: 12m 3s\tremaining: 2m 8s\n",
      "849:\tlearn: 0.9997159\ttotal: 12m 4s\tremaining: 2m 7s\n",
      "850:\tlearn: 0.9997159\ttotal: 12m 5s\tremaining: 2m 6s\n",
      "851:\tlearn: 0.9997159\ttotal: 12m 5s\tremaining: 2m 6s\n",
      "852:\tlearn: 0.9997159\ttotal: 12m 6s\tremaining: 2m 5s\n",
      "853:\tlearn: 0.9997159\ttotal: 12m 7s\tremaining: 2m 4s\n",
      "854:\tlearn: 0.9997159\ttotal: 12m 8s\tremaining: 2m 3s\n",
      "855:\tlearn: 0.9997159\ttotal: 12m 9s\tremaining: 2m 2s\n",
      "856:\tlearn: 0.9997159\ttotal: 12m 10s\tremaining: 2m 1s\n",
      "857:\tlearn: 0.9997159\ttotal: 12m 11s\tremaining: 2m\n",
      "858:\tlearn: 0.9997159\ttotal: 12m 11s\tremaining: 2m\n",
      "859:\tlearn: 0.9997159\ttotal: 12m 12s\tremaining: 1m 59s\n",
      "860:\tlearn: 0.9997159\ttotal: 12m 13s\tremaining: 1m 58s\n",
      "861:\tlearn: 0.9997159\ttotal: 12m 14s\tremaining: 1m 57s\n",
      "862:\tlearn: 0.9997159\ttotal: 12m 15s\tremaining: 1m 56s\n",
      "863:\tlearn: 0.9997159\ttotal: 12m 16s\tremaining: 1m 55s\n",
      "864:\tlearn: 0.9997159\ttotal: 12m 17s\tremaining: 1m 55s\n",
      "865:\tlearn: 0.9997159\ttotal: 12m 17s\tremaining: 1m 54s\n",
      "866:\tlearn: 0.9997159\ttotal: 12m 18s\tremaining: 1m 53s\n",
      "867:\tlearn: 0.9997159\ttotal: 12m 19s\tremaining: 1m 52s\n",
      "868:\tlearn: 0.9997159\ttotal: 12m 20s\tremaining: 1m 51s\n",
      "869:\tlearn: 0.9997159\ttotal: 12m 21s\tremaining: 1m 50s\n",
      "870:\tlearn: 0.9997159\ttotal: 12m 22s\tremaining: 1m 49s\n",
      "871:\tlearn: 0.9997159\ttotal: 12m 22s\tremaining: 1m 49s\n",
      "872:\tlearn: 0.9997159\ttotal: 12m 23s\tremaining: 1m 48s\n",
      "873:\tlearn: 0.9997159\ttotal: 12m 24s\tremaining: 1m 47s\n",
      "874:\tlearn: 0.9997159\ttotal: 12m 25s\tremaining: 1m 46s\n",
      "875:\tlearn: 0.9997159\ttotal: 12m 26s\tremaining: 1m 45s\n",
      "876:\tlearn: 0.9997159\ttotal: 12m 27s\tremaining: 1m 44s\n",
      "877:\tlearn: 0.9997159\ttotal: 12m 28s\tremaining: 1m 43s\n",
      "878:\tlearn: 0.9997159\ttotal: 12m 28s\tremaining: 1m 43s\n",
      "879:\tlearn: 0.9997159\ttotal: 12m 29s\tremaining: 1m 42s\n",
      "880:\tlearn: 0.9997159\ttotal: 12m 30s\tremaining: 1m 41s\n",
      "881:\tlearn: 0.9997159\ttotal: 12m 31s\tremaining: 1m 40s\n",
      "882:\tlearn: 0.9997159\ttotal: 12m 32s\tremaining: 1m 39s\n",
      "883:\tlearn: 0.9997159\ttotal: 12m 33s\tremaining: 1m 38s\n",
      "884:\tlearn: 0.9997159\ttotal: 12m 34s\tremaining: 1m 37s\n",
      "885:\tlearn: 0.9997159\ttotal: 12m 34s\tremaining: 1m 37s\n",
      "886:\tlearn: 0.9997159\ttotal: 12m 35s\tremaining: 1m 36s\n",
      "887:\tlearn: 0.9997159\ttotal: 12m 36s\tremaining: 1m 35s\n",
      "888:\tlearn: 0.9997159\ttotal: 12m 37s\tremaining: 1m 34s\n",
      "889:\tlearn: 0.9997159\ttotal: 12m 38s\tremaining: 1m 33s\n",
      "890:\tlearn: 0.9997159\ttotal: 12m 39s\tremaining: 1m 32s\n",
      "891:\tlearn: 0.9997159\ttotal: 12m 39s\tremaining: 1m 32s\n",
      "892:\tlearn: 0.9997159\ttotal: 12m 40s\tremaining: 1m 31s\n",
      "893:\tlearn: 0.9997159\ttotal: 12m 41s\tremaining: 1m 30s\n",
      "894:\tlearn: 0.9997159\ttotal: 12m 42s\tremaining: 1m 29s\n",
      "895:\tlearn: 0.9997159\ttotal: 12m 43s\tremaining: 1m 28s\n",
      "896:\tlearn: 0.9997159\ttotal: 12m 44s\tremaining: 1m 27s\n",
      "897:\tlearn: 0.9997159\ttotal: 12m 45s\tremaining: 1m 26s\n",
      "898:\tlearn: 0.9997159\ttotal: 12m 45s\tremaining: 1m 26s\n",
      "899:\tlearn: 0.9997159\ttotal: 12m 46s\tremaining: 1m 25s\n",
      "900:\tlearn: 0.9997159\ttotal: 12m 47s\tremaining: 1m 24s\n",
      "901:\tlearn: 0.9997159\ttotal: 12m 48s\tremaining: 1m 23s\n",
      "902:\tlearn: 0.9997159\ttotal: 12m 49s\tremaining: 1m 22s\n",
      "903:\tlearn: 0.9997159\ttotal: 12m 50s\tremaining: 1m 21s\n",
      "904:\tlearn: 0.9997159\ttotal: 12m 50s\tremaining: 1m 20s\n",
      "905:\tlearn: 0.9997159\ttotal: 12m 51s\tremaining: 1m 20s\n",
      "906:\tlearn: 0.9997159\ttotal: 12m 52s\tremaining: 1m 19s\n",
      "907:\tlearn: 0.9997159\ttotal: 12m 53s\tremaining: 1m 18s\n",
      "908:\tlearn: 0.9997159\ttotal: 12m 54s\tremaining: 1m 17s\n",
      "909:\tlearn: 0.9997159\ttotal: 12m 55s\tremaining: 1m 16s\n",
      "910:\tlearn: 0.9997159\ttotal: 12m 56s\tremaining: 1m 15s\n",
      "911:\tlearn: 0.9997159\ttotal: 12m 57s\tremaining: 1m 14s\n",
      "912:\tlearn: 0.9997159\ttotal: 12m 57s\tremaining: 1m 14s\n",
      "913:\tlearn: 0.9997159\ttotal: 12m 58s\tremaining: 1m 13s\n"
     ]
    },
    {
     "name": "stdout",
     "output_type": "stream",
     "text": [
      "914:\tlearn: 0.9997159\ttotal: 12m 59s\tremaining: 1m 12s\n",
      "915:\tlearn: 0.9997159\ttotal: 13m\tremaining: 1m 11s\n",
      "916:\tlearn: 0.9997159\ttotal: 13m 1s\tremaining: 1m 10s\n",
      "917:\tlearn: 0.9997159\ttotal: 13m 2s\tremaining: 1m 9s\n",
      "918:\tlearn: 0.9997159\ttotal: 13m 2s\tremaining: 1m 9s\n",
      "919:\tlearn: 0.9997159\ttotal: 13m 3s\tremaining: 1m 8s\n",
      "920:\tlearn: 0.9997159\ttotal: 13m 4s\tremaining: 1m 7s\n",
      "921:\tlearn: 0.9997159\ttotal: 13m 5s\tremaining: 1m 6s\n",
      "922:\tlearn: 0.9997159\ttotal: 13m 6s\tremaining: 1m 5s\n",
      "923:\tlearn: 0.9997159\ttotal: 13m 7s\tremaining: 1m 4s\n",
      "924:\tlearn: 0.9997159\ttotal: 13m 8s\tremaining: 1m 3s\n",
      "925:\tlearn: 0.9997159\ttotal: 13m 8s\tremaining: 1m 3s\n",
      "926:\tlearn: 0.9997159\ttotal: 13m 9s\tremaining: 1m 2s\n",
      "927:\tlearn: 0.9997159\ttotal: 13m 10s\tremaining: 1m 1s\n",
      "928:\tlearn: 0.9997159\ttotal: 13m 11s\tremaining: 1m\n",
      "929:\tlearn: 0.9997159\ttotal: 13m 12s\tremaining: 59.6s\n",
      "930:\tlearn: 0.9997159\ttotal: 13m 13s\tremaining: 58.8s\n",
      "931:\tlearn: 0.9997159\ttotal: 13m 14s\tremaining: 57.9s\n",
      "932:\tlearn: 0.9997159\ttotal: 13m 14s\tremaining: 57.1s\n",
      "933:\tlearn: 0.9997159\ttotal: 13m 15s\tremaining: 56.2s\n",
      "934:\tlearn: 0.9997159\ttotal: 13m 16s\tremaining: 55.4s\n",
      "935:\tlearn: 0.9997159\ttotal: 13m 17s\tremaining: 54.5s\n",
      "936:\tlearn: 0.9997159\ttotal: 13m 18s\tremaining: 53.7s\n",
      "937:\tlearn: 0.9997159\ttotal: 13m 19s\tremaining: 52.8s\n",
      "938:\tlearn: 0.9997159\ttotal: 13m 20s\tremaining: 52s\n",
      "939:\tlearn: 0.9997159\ttotal: 13m 20s\tremaining: 51.1s\n",
      "940:\tlearn: 0.9997159\ttotal: 13m 21s\tremaining: 50.3s\n",
      "941:\tlearn: 0.9997158\ttotal: 13m 22s\tremaining: 49.4s\n",
      "942:\tlearn: 0.9997158\ttotal: 13m 23s\tremaining: 48.6s\n",
      "943:\tlearn: 0.9997158\ttotal: 13m 24s\tremaining: 47.7s\n",
      "944:\tlearn: 0.9997158\ttotal: 13m 25s\tremaining: 46.9s\n",
      "945:\tlearn: 0.9997158\ttotal: 13m 26s\tremaining: 46s\n",
      "946:\tlearn: 0.9997158\ttotal: 13m 26s\tremaining: 45.2s\n",
      "947:\tlearn: 0.9997158\ttotal: 13m 27s\tremaining: 44.3s\n",
      "948:\tlearn: 0.9997158\ttotal: 13m 28s\tremaining: 43.5s\n",
      "949:\tlearn: 0.9997158\ttotal: 13m 29s\tremaining: 42.6s\n",
      "950:\tlearn: 0.9997159\ttotal: 13m 30s\tremaining: 41.8s\n",
      "951:\tlearn: 0.9997159\ttotal: 13m 31s\tremaining: 40.9s\n",
      "952:\tlearn: 0.9997159\ttotal: 13m 32s\tremaining: 40.1s\n",
      "953:\tlearn: 0.9997159\ttotal: 13m 33s\tremaining: 39.2s\n",
      "954:\tlearn: 0.9997159\ttotal: 13m 33s\tremaining: 38.4s\n",
      "955:\tlearn: 0.9997159\ttotal: 13m 34s\tremaining: 37.5s\n",
      "956:\tlearn: 0.9997159\ttotal: 13m 35s\tremaining: 36.6s\n",
      "957:\tlearn: 0.9997159\ttotal: 13m 36s\tremaining: 35.8s\n",
      "958:\tlearn: 0.9997159\ttotal: 13m 37s\tremaining: 34.9s\n",
      "959:\tlearn: 0.9997159\ttotal: 13m 38s\tremaining: 34.1s\n",
      "960:\tlearn: 0.9997159\ttotal: 13m 39s\tremaining: 33.2s\n",
      "961:\tlearn: 0.9997159\ttotal: 13m 39s\tremaining: 32.4s\n",
      "962:\tlearn: 0.9997159\ttotal: 13m 40s\tremaining: 31.5s\n",
      "963:\tlearn: 0.9997159\ttotal: 13m 41s\tremaining: 30.7s\n",
      "964:\tlearn: 0.9997159\ttotal: 13m 42s\tremaining: 29.8s\n",
      "965:\tlearn: 0.9997159\ttotal: 13m 43s\tremaining: 29s\n",
      "966:\tlearn: 0.9997159\ttotal: 13m 44s\tremaining: 28.1s\n",
      "967:\tlearn: 0.9997159\ttotal: 13m 45s\tremaining: 27.3s\n",
      "968:\tlearn: 0.9997159\ttotal: 13m 45s\tremaining: 26.4s\n",
      "969:\tlearn: 0.9997159\ttotal: 13m 46s\tremaining: 25.6s\n",
      "970:\tlearn: 0.9997159\ttotal: 13m 47s\tremaining: 24.7s\n",
      "971:\tlearn: 0.9997159\ttotal: 13m 48s\tremaining: 23.9s\n",
      "972:\tlearn: 0.9997159\ttotal: 13m 49s\tremaining: 23s\n",
      "973:\tlearn: 0.9997159\ttotal: 13m 50s\tremaining: 22.2s\n",
      "974:\tlearn: 0.9997159\ttotal: 13m 50s\tremaining: 21.3s\n",
      "975:\tlearn: 0.9997159\ttotal: 13m 51s\tremaining: 20.5s\n",
      "976:\tlearn: 0.9997159\ttotal: 13m 52s\tremaining: 19.6s\n",
      "977:\tlearn: 0.9997159\ttotal: 13m 53s\tremaining: 18.7s\n",
      "978:\tlearn: 0.9997159\ttotal: 13m 54s\tremaining: 17.9s\n",
      "979:\tlearn: 0.9997159\ttotal: 13m 55s\tremaining: 17s\n",
      "980:\tlearn: 0.9997159\ttotal: 13m 55s\tremaining: 16.2s\n",
      "981:\tlearn: 0.9997159\ttotal: 13m 56s\tremaining: 15.3s\n",
      "982:\tlearn: 0.9997159\ttotal: 13m 57s\tremaining: 14.5s\n",
      "983:\tlearn: 0.9997159\ttotal: 13m 58s\tremaining: 13.6s\n",
      "984:\tlearn: 0.9997159\ttotal: 13m 59s\tremaining: 12.8s\n",
      "985:\tlearn: 0.9997159\ttotal: 14m\tremaining: 11.9s\n",
      "986:\tlearn: 0.9997159\ttotal: 14m 1s\tremaining: 11.1s\n",
      "987:\tlearn: 0.9997159\ttotal: 14m 1s\tremaining: 10.2s\n",
      "988:\tlearn: 0.9997158\ttotal: 14m 2s\tremaining: 9.37s\n",
      "989:\tlearn: 0.9997158\ttotal: 14m 3s\tremaining: 8.52s\n",
      "990:\tlearn: 0.9997158\ttotal: 14m 4s\tremaining: 7.67s\n",
      "991:\tlearn: 0.9997158\ttotal: 14m 5s\tremaining: 6.82s\n",
      "992:\tlearn: 0.9997158\ttotal: 14m 6s\tremaining: 5.96s\n",
      "993:\tlearn: 0.9997158\ttotal: 14m 7s\tremaining: 5.11s\n",
      "994:\tlearn: 0.9997158\ttotal: 14m 7s\tremaining: 4.26s\n",
      "995:\tlearn: 0.9997158\ttotal: 14m 8s\tremaining: 3.41s\n",
      "996:\tlearn: 0.9997158\ttotal: 14m 9s\tremaining: 2.56s\n",
      "997:\tlearn: 0.9997158\ttotal: 14m 10s\tremaining: 1.7s\n",
      "998:\tlearn: 0.9997158\ttotal: 14m 11s\tremaining: 852ms\n",
      "999:\tlearn: 0.9997158\ttotal: 14m 12s\tremaining: 0us\n"
     ]
    },
    {
     "data": {
      "text/plain": [
       "<catboost.core.CatBoostClassifier at 0x1e4cf9c0d90>"
      ]
     },
     "execution_count": 89,
     "metadata": {},
     "output_type": "execute_result"
    }
   ],
   "source": [
    "minority_class_weight = len(y_train_lo_s[y_train_lo_s == 1]) / len(y_train_lo_s[y_train_lo_s == -1])\n",
    "    \n",
    "cls_cb_s = CatBoostClassifier(loss_function='Logloss',\n",
    "                            eval_metric='Recall',                        \n",
    "                            class_weights=[1, minority_class_weight],\n",
    "                            task_type='CPU',\n",
    "                            verbose=True)\n",
    "\n",
    "cls_cb_s.fit(train_pool_s)"
   ]
  },
  {
   "cell_type": "code",
   "execution_count": 91,
   "metadata": {},
   "outputs": [
    {
     "name": "stdout",
     "output_type": "stream",
     "text": [
      "Classification Report (Test):\n",
      "              precision    recall  f1-score   support\n",
      "\n",
      "        -1.0       1.00      0.94      0.97    274824\n",
      "         1.0       0.99      1.00      0.99   1348471\n",
      "\n",
      "    accuracy                           0.99   1623295\n",
      "   macro avg       0.99      0.97      0.98   1623295\n",
      "weighted avg       0.99      0.99      0.99   1623295\n",
      "\n",
      "Avg Precision Score: 0.9876061522505258\n"
     ]
    },
    {
     "data": {
      "image/png": "[encoded data removed]",
      "text/plain": [
       "<Figure size 432x288 with 1 Axes>"
      ]
     },
     "metadata": {
      "needs_background": "light"
     },
     "output_type": "display_data"
    },
    {
     "name": "stdout",
     "output_type": "stream",
     "text": [
      "\n",
      "\n"
     ]
    }
   ],
   "source": [
    "print_report('Test', cls_cb_s, test_pool, y_test_lo, cls_cb_s.predict(test_pool), plot_pr=True)"
   ]
  },
  {
   "cell_type": "markdown",
   "metadata": {},
   "source": [
    "### under sampling"
   ]
  },
  {
   "cell_type": "code",
   "execution_count": 9,
   "metadata": {},
   "outputs": [],
   "source": [
    "benign_mask = df.label_is_attack == 0\n",
    "attack_mask = df.label_is_attack == 1\n",
    "benign = df[benign_mask]\n",
    "attack = df[attack_mask]"
   ]
  },
  {
   "cell_type": "code",
   "execution_count": 14,
   "metadata": {},
   "outputs": [],
   "source": [
    "X_benign = benign.drop(['label_is_attack','label_code','label'],axis=1)\n",
    "y_benign = benign[['label_is_attack','label_code','label']]"
   ]
  },
  {
   "cell_type": "code",
   "execution_count": 21,
   "metadata": {},
   "outputs": [],
   "source": [
    "train_benign, test_benign = train_test_split(df[benign_mask], test_size=0.2, random_state=42)"
   ]
  },
  {
   "cell_type": "code",
   "execution_count": 22,
   "metadata": {},
   "outputs": [],
   "source": [
    "y_cols = ['label', 'label_code', 'label_is_attack']\n",
    "X_benign = test_benign.drop(columns=y_cols)\n",
    "y_benign = test_benign[y_cols]"
   ]
  },
  {
   "cell_type": "code",
   "execution_count": 52,
   "metadata": {},
   "outputs": [
    {
     "data": {
      "text/plain": [
       "(2696942, 31)"
      ]
     },
     "execution_count": 52,
     "metadata": {},
     "output_type": "execute_result"
    }
   ],
   "source": [
    "X_benign.shape"
   ]
  },
  {
   "cell_type": "code",
   "execution_count": 30,
   "metadata": {},
   "outputs": [],
   "source": [
    "X_attack = attack.drop(columns = y_cols)\n",
    "y_attack = attack[y_cols]"
   ]
  },
  {
   "cell_type": "code",
   "execution_count": 33,
   "metadata": {},
   "outputs": [],
   "source": [
    "X_ab = X_benign.append(X_attack)\n",
    "y_ab = y_benign.append(y_attack)"
   ]
  },
  {
   "cell_type": "code",
   "execution_count": 32,
   "metadata": {},
   "outputs": [
    {
     "data": {
      "text/plain": [
       "(5445177, 31)"
      ]
     },
     "execution_count": 32,
     "metadata": {},
     "output_type": "execute_result"
    }
   ],
   "source": [
    "X_ab.shape"
   ]
  },
  {
   "cell_type": "code",
   "execution_count": 37,
   "metadata": {},
   "outputs": [],
   "source": [
    "features = list(X_ab)\n",
    "for i in range(len(features)):\n",
    "    X_ab[features[i]] =  pd.to_numeric(X_ab[features[i]], errors='coerce')\n",
    "# Creating a new normalized dataframe\n",
    "X2 = X_ab[features].dropna()\n",
    "min_max_scaler = preprocessing.StandardScaler()\n",
    "np_scaled = min_max_scaler.fit_transform(X2)\n",
    "X2 = pd.DataFrame(np_scaled)\n",
    "# Principle Component Analasys Step\n",
    "pca = PCA(n_components=2)\n",
    "X2 = pca.fit_transform(X2)\n",
    "np_scaled = min_max_scaler.fit_transform(X2)\n",
    "X2 = pd.DataFrame(np_scaled)\n"
   ]
  },
  {
   "cell_type": "code",
   "execution_count": 44,
   "metadata": {},
   "outputs": [],
   "source": [
    "LOF1 = LocalOutlierFactor(n_neighbors=20, novelty=False, contamination=0.50,n_jobs=32)\n",
    "out = LOF1.fit_predict(X2)\n"
   ]
  },
  {
   "cell_type": "code",
   "execution_count": 40,
   "metadata": {},
   "outputs": [],
   "source": [
    "l = np.array(y_ab.label_is_attack)"
   ]
  },
  {
   "cell_type": "code",
   "execution_count": 45,
   "metadata": {},
   "outputs": [
    {
     "data": {
      "text/html": [
       "<div>\n",
       "<style scoped>\n",
       "    .dataframe tbody tr th:only-of-type {\n",
       "        vertical-align: middle;\n",
       "    }\n",
       "\n",
       "    .dataframe tbody tr th {\n",
       "        vertical-align: top;\n",
       "    }\n",
       "\n",
       "    .dataframe thead th {\n",
       "        text-align: right;\n",
       "    }\n",
       "</style>\n",
       "<table border=\"1\" class=\"dataframe\">\n",
       "  <thead>\n",
       "    <tr style=\"text-align: right;\">\n",
       "      <th></th>\n",
       "      <th>protocol</th>\n",
       "      <th>flow_duration</th>\n",
       "      <th>tot_fwd_pkts</th>\n",
       "      <th>tot_bwd_pkts</th>\n",
       "      <th>totlen_fwd_pkts</th>\n",
       "      <th>totlen_bwd_pkts</th>\n",
       "      <th>fwd_pkt_len_mean</th>\n",
       "      <th>fwd_pkt_len_std</th>\n",
       "      <th>bwd_pkt_len_mean</th>\n",
       "      <th>flow_byts_s</th>\n",
       "      <th>...</th>\n",
       "      <th>urg_flag_cnt</th>\n",
       "      <th>down_up_ratio</th>\n",
       "      <th>init_fwd_win_byts</th>\n",
       "      <th>init_bwd_win_byts</th>\n",
       "      <th>fwd_seg_size_min</th>\n",
       "      <th>active_mean</th>\n",
       "      <th>idle_mean</th>\n",
       "      <th>is_attack</th>\n",
       "      <th>if_anomaly</th>\n",
       "      <th>normal</th>\n",
       "    </tr>\n",
       "  </thead>\n",
       "  <tbody>\n",
       "    <tr>\n",
       "      <th>9276754</th>\n",
       "      <td>6</td>\n",
       "      <td>1713.0</td>\n",
       "      <td>3</td>\n",
       "      <td>0</td>\n",
       "      <td>77</td>\n",
       "      <td>0</td>\n",
       "      <td>25.666666</td>\n",
       "      <td>23.459185</td>\n",
       "      <td>0.0</td>\n",
       "      <td>44950.379451</td>\n",
       "      <td>...</td>\n",
       "      <td>0</td>\n",
       "      <td>0</td>\n",
       "      <td>258.0</td>\n",
       "      <td>17682.268468</td>\n",
       "      <td>20</td>\n",
       "      <td>0.0</td>\n",
       "      <td>0.0</td>\n",
       "      <td>0</td>\n",
       "      <td>1</td>\n",
       "      <td>1.0</td>\n",
       "    </tr>\n",
       "    <tr>\n",
       "      <th>8887162</th>\n",
       "      <td>6</td>\n",
       "      <td>11657.0</td>\n",
       "      <td>2</td>\n",
       "      <td>1</td>\n",
       "      <td>0</td>\n",
       "      <td>0</td>\n",
       "      <td>0.000000</td>\n",
       "      <td>0.000000</td>\n",
       "      <td>0.0</td>\n",
       "      <td>0.000000</td>\n",
       "      <td>...</td>\n",
       "      <td>1</td>\n",
       "      <td>0</td>\n",
       "      <td>61.0</td>\n",
       "      <td>254.000000</td>\n",
       "      <td>20</td>\n",
       "      <td>0.0</td>\n",
       "      <td>0.0</td>\n",
       "      <td>0</td>\n",
       "      <td>1</td>\n",
       "      <td>1.0</td>\n",
       "    </tr>\n",
       "  </tbody>\n",
       "</table>\n",
       "<p>2 rows × 34 columns</p>\n",
       "</div>"
      ],
      "text/plain": [
       "         protocol  flow_duration  tot_fwd_pkts  tot_bwd_pkts  totlen_fwd_pkts  \\\n",
       "9276754         6         1713.0             3             0               77   \n",
       "8887162         6        11657.0             2             1                0   \n",
       "\n",
       "         totlen_bwd_pkts  fwd_pkt_len_mean  fwd_pkt_len_std  bwd_pkt_len_mean  \\\n",
       "9276754                0         25.666666        23.459185               0.0   \n",
       "8887162                0          0.000000         0.000000               0.0   \n",
       "\n",
       "          flow_byts_s  ...  urg_flag_cnt  down_up_ratio  init_fwd_win_byts  \\\n",
       "9276754  44950.379451  ...             0              0              258.0   \n",
       "8887162      0.000000  ...             1              0               61.0   \n",
       "\n",
       "         init_bwd_win_byts  fwd_seg_size_min  active_mean  idle_mean  \\\n",
       "9276754       17682.268468                20          0.0        0.0   \n",
       "8887162         254.000000                20          0.0        0.0   \n",
       "\n",
       "         is_attack  if_anomaly  normal  \n",
       "9276754          0           1     1.0  \n",
       "8887162          0           1     1.0  \n",
       "\n",
       "[2 rows x 34 columns]"
      ]
     },
     "execution_count": 45,
     "metadata": {},
     "output_type": "execute_result"
    }
   ],
   "source": [
    "X = X_ab.copy()\n",
    "X['is_attack'] = y_ab.label_is_attack\n",
    "X['if_anomaly']=list(out)\n",
    "X.loc[X['is_attack'] ==1, 'normal'] = -1\n",
    "X.loc[X['is_attack'] ==0, 'normal'] = 1\n",
    "X.head(2)"
   ]
  },
  {
   "cell_type": "code",
   "execution_count": 46,
   "metadata": {},
   "outputs": [
    {
     "name": "stdout",
     "output_type": "stream",
     "text": [
      "              precision    recall  f1-score   support\n",
      "\n",
      "        -1.0       0.41      0.41      0.41   2748235\n",
      "         1.0       0.40      0.41      0.40   2696942\n",
      "\n",
      "    accuracy                           0.41   5445177\n",
      "   macro avg       0.41      0.41      0.41   5445177\n",
      "weighted avg       0.41      0.41      0.41   5445177\n",
      "\n"
     ]
    }
   ],
   "source": [
    "print(classification_report(X['normal'],X['if_anomaly']))"
   ]
  },
  {
   "cell_type": "code",
   "execution_count": null,
   "metadata": {},
   "outputs": [],
   "source": []
  }
 ],
 "metadata": {
  "kernelspec": {
   "display_name": "Python 3",
   "language": "python",
   "name": "python3"
  },
  "language_info": {
   "codemirror_mode": {
    "name": "ipython",
    "version": 3
   },
   "file_extension": ".py",
   "mimetype": "text/x-python",
   "name": "python",
   "nbconvert_exporter": "python",
   "pygments_lexer": "ipython3",
   "version": "3.8.5"
  }
 },
 "nbformat": 4,
 "nbformat_minor": 2
}

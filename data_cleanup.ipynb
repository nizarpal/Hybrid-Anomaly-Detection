{
 "cells": [
  {
   "cell_type": "markdown",
   "metadata": {},
   "source": [
    "## Data Cleanup\n",
    "The dataset consists of 10 csv files and each one containes a benign and malicious network traffic collected in different days. Before we start the analysis of data we have to do some data cleaning steps to make sure that our data has no issues and we can use it to train several models.\n",
    "\n",
    "In the begining we will read one file to have a general look on the data and to know if it has problems. Then we will fix these problems and apply the steps on all files."
   ]
  },
  {
   "cell_type": "code",
   "execution_count": 1,
   "metadata": {},
   "outputs": [],
   "source": [
    "# set base path to the directory containing the csv files of the dataset\n",
    "dataset_base_path = r'dataset'"
   ]
  },
  {
   "cell_type": "markdown",
   "metadata": {},
   "source": [
    "### 1. Remove the Rows Containing the Headers"
   ]
  },
  {
   "cell_type": "code",
   "execution_count": 2,
   "metadata": {},
   "outputs": [
    {
     "name": "stderr",
     "output_type": "stream",
     "text": [
      "C:\\ProgramData\\Anaconda3\\lib\\site-packages\\IPython\\core\\interactiveshell.py:3146: DtypeWarning: Columns (0,1,3,4,5,6,7,8,9,10,11,12,13,14,15,16,17,18,19,20,21,22,23,24,25,26,27,28,29,30,31,32,33,34,35,36,37,38,39,40,41,42,43,44,45,46,47,48,49,50,51,52,53,54,55,56,57,58,59,60,61,62,63,64,65,66,67,68,69,70,71,72,73,74,75,76,77,78) have mixed types.Specify dtype option on import or set low_memory=False.\n",
      "  has_raised = await self.run_ast_nodes(code_ast.body, cell_name,\n"
     ]
    }
   ],
   "source": [
    "import numpy as np\n",
    "import pandas as pd\n",
    "import os\n",
    "\n",
    "file_path = os.path.join(dataset_base_path, 'Thursday-01-03-2018_TrafficForML_CICFlowMeter.csv')\n",
    "\n",
    "df = pd.read_csv(file_path)"
   ]
  },
  {
   "cell_type": "markdown",
   "metadata": {},
   "source": [
    "The warning shows that the data type in all columns is not specified. Let's see more information of the columns."
   ]
  },
  {
   "cell_type": "code",
   "execution_count": 3,
   "metadata": {},
   "outputs": [
    {
     "data": {
      "text/plain": [
       "Index(['Dst Port', 'Protocol', 'Timestamp', 'Flow Duration', 'Tot Fwd Pkts',\n",
       "       'Tot Bwd Pkts', 'TotLen Fwd Pkts', 'TotLen Bwd Pkts', 'Fwd Pkt Len Max',\n",
       "       'Fwd Pkt Len Min', 'Fwd Pkt Len Mean', 'Fwd Pkt Len Std',\n",
       "       'Bwd Pkt Len Max', 'Bwd Pkt Len Min', 'Bwd Pkt Len Mean',\n",
       "       'Bwd Pkt Len Std', 'Flow Byts/s', 'Flow Pkts/s', 'Flow IAT Mean',\n",
       "       'Flow IAT Std', 'Flow IAT Max', 'Flow IAT Min', 'Fwd IAT Tot',\n",
       "       'Fwd IAT Mean', 'Fwd IAT Std', 'Fwd IAT Max', 'Fwd IAT Min',\n",
       "       'Bwd IAT Tot', 'Bwd IAT Mean', 'Bwd IAT Std', 'Bwd IAT Max',\n",
       "       'Bwd IAT Min', 'Fwd PSH Flags', 'Bwd PSH Flags', 'Fwd URG Flags',\n",
       "       'Bwd URG Flags', 'Fwd Header Len', 'Bwd Header Len', 'Fwd Pkts/s',\n",
       "       'Bwd Pkts/s', 'Pkt Len Min', 'Pkt Len Max', 'Pkt Len Mean',\n",
       "       'Pkt Len Std', 'Pkt Len Var', 'FIN Flag Cnt', 'SYN Flag Cnt',\n",
       "       'RST Flag Cnt', 'PSH Flag Cnt', 'ACK Flag Cnt', 'URG Flag Cnt',\n",
       "       'CWE Flag Count', 'ECE Flag Cnt', 'Down/Up Ratio', 'Pkt Size Avg',\n",
       "       'Fwd Seg Size Avg', 'Bwd Seg Size Avg', 'Fwd Byts/b Avg',\n",
       "       'Fwd Pkts/b Avg', 'Fwd Blk Rate Avg', 'Bwd Byts/b Avg',\n",
       "       'Bwd Pkts/b Avg', 'Bwd Blk Rate Avg', 'Subflow Fwd Pkts',\n",
       "       'Subflow Fwd Byts', 'Subflow Bwd Pkts', 'Subflow Bwd Byts',\n",
       "       'Init Fwd Win Byts', 'Init Bwd Win Byts', 'Fwd Act Data Pkts',\n",
       "       'Fwd Seg Size Min', 'Active Mean', 'Active Std', 'Active Max',\n",
       "       'Active Min', 'Idle Mean', 'Idle Std', 'Idle Max', 'Idle Min', 'Label'],\n",
       "      dtype='object')"
      ]
     },
     "execution_count": 3,
     "metadata": {},
     "output_type": "execute_result"
    }
   ],
   "source": [
    "df.columns"
   ]
  },
  {
   "cell_type": "code",
   "execution_count": 3,
   "metadata": {},
   "outputs": [
    {
     "name": "stdout",
     "output_type": "stream",
     "text": [
      "<class 'pandas.core.frame.DataFrame'>\n",
      "RangeIndex: 331125 entries, 0 to 331124\n",
      "Data columns (total 80 columns):\n",
      " #   Column             Non-Null Count   Dtype \n",
      "---  ------             --------------   ----- \n",
      " 0   Dst Port           331125 non-null  object\n",
      " 1   Protocol           331125 non-null  object\n",
      " 2   Timestamp          331125 non-null  object\n",
      " 3   Flow Duration      331125 non-null  object\n",
      " 4   Tot Fwd Pkts       331125 non-null  object\n",
      " 5   Tot Bwd Pkts       331125 non-null  object\n",
      " 6   TotLen Fwd Pkts    331125 non-null  object\n",
      " 7   TotLen Bwd Pkts    331125 non-null  object\n",
      " 8   Fwd Pkt Len Max    331125 non-null  object\n",
      " 9   Fwd Pkt Len Min    331125 non-null  object\n",
      " 10  Fwd Pkt Len Mean   331125 non-null  object\n",
      " 11  Fwd Pkt Len Std    331125 non-null  object\n",
      " 12  Bwd Pkt Len Max    331125 non-null  object\n",
      " 13  Bwd Pkt Len Min    331125 non-null  object\n",
      " 14  Bwd Pkt Len Mean   331125 non-null  object\n",
      " 15  Bwd Pkt Len Std    331125 non-null  object\n",
      " 16  Flow Byts/s        329291 non-null  object\n",
      " 17  Flow Pkts/s        331125 non-null  object\n",
      " 18  Flow IAT Mean      331125 non-null  object\n",
      " 19  Flow IAT Std       331125 non-null  object\n",
      " 20  Flow IAT Max       331125 non-null  object\n",
      " 21  Flow IAT Min       331125 non-null  object\n",
      " 22  Fwd IAT Tot        331125 non-null  object\n",
      " 23  Fwd IAT Mean       331125 non-null  object\n",
      " 24  Fwd IAT Std        331125 non-null  object\n",
      " 25  Fwd IAT Max        331125 non-null  object\n",
      " 26  Fwd IAT Min        331125 non-null  object\n",
      " 27  Bwd IAT Tot        331125 non-null  object\n",
      " 28  Bwd IAT Mean       331125 non-null  object\n",
      " 29  Bwd IAT Std        331125 non-null  object\n",
      " 30  Bwd IAT Max        331125 non-null  object\n",
      " 31  Bwd IAT Min        331125 non-null  object\n",
      " 32  Fwd PSH Flags      331125 non-null  object\n",
      " 33  Bwd PSH Flags      331125 non-null  object\n",
      " 34  Fwd URG Flags      331125 non-null  object\n",
      " 35  Bwd URG Flags      331125 non-null  object\n",
      " 36  Fwd Header Len     331125 non-null  object\n",
      " 37  Bwd Header Len     331125 non-null  object\n",
      " 38  Fwd Pkts/s         331125 non-null  object\n",
      " 39  Bwd Pkts/s         331125 non-null  object\n",
      " 40  Pkt Len Min        331125 non-null  object\n",
      " 41  Pkt Len Max        331125 non-null  object\n",
      " 42  Pkt Len Mean       331125 non-null  object\n",
      " 43  Pkt Len Std        331125 non-null  object\n",
      " 44  Pkt Len Var        331125 non-null  object\n",
      " 45  FIN Flag Cnt       331125 non-null  object\n",
      " 46  SYN Flag Cnt       331125 non-null  object\n",
      " 47  RST Flag Cnt       331125 non-null  object\n",
      " 48  PSH Flag Cnt       331125 non-null  object\n",
      " 49  ACK Flag Cnt       331125 non-null  object\n",
      " 50  URG Flag Cnt       331125 non-null  object\n",
      " 51  CWE Flag Count     331125 non-null  object\n",
      " 52  ECE Flag Cnt       331125 non-null  object\n",
      " 53  Down/Up Ratio      331125 non-null  object\n",
      " 54  Pkt Size Avg       331125 non-null  object\n",
      " 55  Fwd Seg Size Avg   331125 non-null  object\n",
      " 56  Bwd Seg Size Avg   331125 non-null  object\n",
      " 57  Fwd Byts/b Avg     331125 non-null  object\n",
      " 58  Fwd Pkts/b Avg     331125 non-null  object\n",
      " 59  Fwd Blk Rate Avg   331125 non-null  object\n",
      " 60  Bwd Byts/b Avg     331125 non-null  object\n",
      " 61  Bwd Pkts/b Avg     331125 non-null  object\n",
      " 62  Bwd Blk Rate Avg   331125 non-null  object\n",
      " 63  Subflow Fwd Pkts   331125 non-null  object\n",
      " 64  Subflow Fwd Byts   331125 non-null  object\n",
      " 65  Subflow Bwd Pkts   331125 non-null  object\n",
      " 66  Subflow Bwd Byts   331125 non-null  object\n",
      " 67  Init Fwd Win Byts  331125 non-null  object\n",
      " 68  Init Bwd Win Byts  331125 non-null  object\n",
      " 69  Fwd Act Data Pkts  331125 non-null  object\n",
      " 70  Fwd Seg Size Min   331125 non-null  object\n",
      " 71  Active Mean        331125 non-null  object\n",
      " 72  Active Std         331125 non-null  object\n",
      " 73  Active Max         331125 non-null  object\n",
      " 74  Active Min         331125 non-null  object\n",
      " 75  Idle Mean          331125 non-null  object\n",
      " 76  Idle Std           331125 non-null  object\n",
      " 77  Idle Max           331125 non-null  object\n",
      " 78  Idle Min           331125 non-null  object\n",
      " 79  Label              331125 non-null  object\n",
      "dtypes: object(80)\n",
      "memory usage: 202.1+ MB\n"
     ]
    }
   ],
   "source": [
    "df.info()"
   ]
  },
  {
   "cell_type": "markdown",
   "metadata": {},
   "source": [
    "So all the columns have object data type. Therefore, we will start exploring the values inside some columns to know where is the problem."
   ]
  },
  {
   "cell_type": "code",
   "execution_count": 4,
   "metadata": {},
   "outputs": [
    {
     "data": {
      "text/plain": [
       "6           170066\n",
       "17           95674\n",
       "6            42833\n",
       "17           15378\n",
       "0             4596\n",
       "0             2553\n",
       "Protocol        25\n",
       "Name: Protocol, dtype: int64"
      ]
     },
     "execution_count": 4,
     "metadata": {},
     "output_type": "execute_result"
    }
   ],
   "source": [
    "df['Protocol'].value_counts()"
   ]
  },
  {
   "cell_type": "code",
   "execution_count": 21,
   "metadata": {},
   "outputs": [
    {
     "data": {
      "text/plain": [
       "0                 269473\n",
       "0                  60697\n",
       "1                    863\n",
       "1                     67\n",
       "CWE Flag Count        25\n",
       "Name: CWE Flag Count, dtype: int64"
      ]
     },
     "execution_count": 21,
     "metadata": {},
     "output_type": "execute_result"
    }
   ],
   "source": [
    "df['CWE Flag Count'].value_counts()"
   ]
  },
  {
   "cell_type": "markdown",
   "metadata": {},
   "source": [
    "As we see the column name appears inside the column with the values, and the issue exists in all columns. Hence, the headers are duplicated multiple times within the file. As a result, we will remove the headers from the entire rows."
   ]
  },
  {
   "cell_type": "code",
   "execution_count": 6,
   "metadata": {},
   "outputs": [],
   "source": [
    "df = df[~df['Dst Port'].str.contains('Dst Port', na=False)]"
   ]
  },
  {
   "cell_type": "markdown",
   "metadata": {},
   "source": [
    "Next, we will export the data into a new file with defining the correct data types. Also, we will make a little changes to the columns names to make them easier to access."
   ]
  },
  {
   "cell_type": "code",
   "execution_count": 7,
   "metadata": {},
   "outputs": [],
   "source": [
    "import re\n",
    "\n",
    "tmp_path = os.path.join(dataset_base_path, 'tmp')\n",
    "\n",
    "if not os.path.exists(tmp_path):\n",
    "    os.mkdir(tmp_path)\n",
    "\n",
    "column_name_regex = re.compile(r\"\\W\", re.IGNORECASE)\n",
    "df.columns = [column_name_regex.sub('_', c.lower()) for c in df.columns]\n",
    "\n",
    "tmp_file_path = os.path.join(tmp_path, 'Thursday-01-03-2018_TrafficForML_CICFlowMeter_duplicate_headers_removed.csv')\n",
    "\n",
    "df.to_csv(tmp_file_path)"
   ]
  },
  {
   "cell_type": "markdown",
   "metadata": {},
   "source": [
    "### 2. Replacing invalid values with Correct Ones\n",
    "\n",
    "Now the temporary file will be loaded with the following datatype definitions. "
   ]
  },
  {
   "cell_type": "code",
   "execution_count": 8,
   "metadata": {},
   "outputs": [],
   "source": [
    "types = {\n",
    "    'dst_port': 'uint32',\n",
    "    'protocol': 'uint8',\n",
    "    'timestamp': 'object',\n",
    "    'flow_duration': 'int64',\n",
    "    'tot_fwd_pkts': 'uint32',\n",
    "    'tot_bwd_pkts': 'uint32',\n",
    "    'totlen_fwd_pkts': 'uint32',\n",
    "    'totlen_bwd_pkts': 'uint32',\n",
    "    'fwd_pkt_len_max': 'uint16',\n",
    "    'fwd_pkt_len_min': 'uint16',\n",
    "    'fwd_pkt_len_mean': 'float32',\n",
    "    'fwd_pkt_len_std': 'float32',\n",
    "    'bwd_pkt_len_max': 'uint16',\n",
    "    'bwd_pkt_len_min': 'uint16',\n",
    "    'bwd_pkt_len_mean': 'float32',\n",
    "    'bwd_pkt_len_std': 'float32',\n",
    "    'flow_byts_s': 'float64',\n",
    "    'flow_pkts_s': 'float64',\n",
    "    'flow_iat_mean': 'float32',\n",
    "    'flow_iat_std': 'float32',\n",
    "    'flow_iat_max': 'int64',\n",
    "    'flow_iat_min': 'int64',\n",
    "    'fwd_iat_tot': 'int64',\n",
    "    'fwd_iat_mean': 'float32',\n",
    "    'fwd_iat_std': 'float32',\n",
    "    'fwd_iat_max': 'int64',\n",
    "    'fwd_iat_min': 'int64',\n",
    "    'bwd_iat_tot': 'uint32',\n",
    "    'bwd_iat_mean': 'float32',\n",
    "    'bwd_iat_std': 'float32',\n",
    "    'bwd_iat_max': 'uint32',\n",
    "    'bwd_iat_min': 'uint32',\n",
    "    'fwd_psh_flags': 'uint8',\n",
    "    'bwd_psh_flags': 'uint8',\n",
    "    'fwd_urg_flags': 'uint8',\n",
    "    'bwd_urg_flags': 'uint8',\n",
    "    'fwd_header_len': 'uint32',\n",
    "    'bwd_header_len': 'uint32',\n",
    "    'flow_byts_s': 'float32',\n",
    "    'bwd_pkts_s': 'float32',\n",
    "    'pkt_len_min': 'uint16',\n",
    "    'pkt_len_max': 'uint16',\n",
    "    'pkt_len_mean': 'float32',\n",
    "    'pkt_len_std': 'float32',\n",
    "    'pkt_len_var': 'float32',\n",
    "    'fin_flag_cnt': 'uint8',\n",
    "    'syn_flag_cnt': 'uint8',\n",
    "    'rst_flag_cnt': 'uint8',\n",
    "    'psh_flag_cnt': 'uint8',\n",
    "    'ack_flag_cnt': 'uint8',\n",
    "    'urg_flag_cnt': 'uint8',\n",
    "    'cwe_flag_count': 'uint8',\n",
    "    'ece_flag_cnt': 'uint8',\n",
    "    'down_up_ratio': 'uint16',\n",
    "    'pkt_size_avg': 'float32',\n",
    "    'fwd_seg_size_avg': 'float32',\n",
    "    'bwd_seg_size_avg': 'float32',\n",
    "    'fwd_byts_b_avg': 'uint8',\n",
    "    'fwd_pkts_b_avg': 'uint8',\n",
    "    'fwd_blk_rate_avg': 'uint8',\n",
    "    'bwd_byts_b_avg': 'uint8',\n",
    "    'bwd_pkts_b_avg': 'uint8',\n",
    "    'bwd_blk_rate_avg': 'uint8',\n",
    "    'subflow_fwd_pkts': 'uint32',\n",
    "    'subflow_fwd_byts': 'uint32',\n",
    "    'subflow_bwd_pkts': 'uint32',\n",
    "    'subflow_bwd_byts': 'uint32',\n",
    "    'init_fwd_win_byts': 'int32',\n",
    "    'init_bwd_win_byts': 'int32',\n",
    "    'fwd_act_data_pkts': 'uint32',\n",
    "    'fwd_seg_size_min': 'uint8',\n",
    "    'active_mean': 'float32',\n",
    "    'active_std': 'float32',\n",
    "    'active_max': 'uint32',\n",
    "    'active_min': 'uint32',\n",
    "    'idle_mean': 'float32',\n",
    "    'idle_std': 'float32',\n",
    "    'idle_max': 'uint64',\n",
    "    'idle_min': 'uint64',\n",
    "    'label': 'category'\n",
    "}"
   ]
  },
  {
   "cell_type": "code",
   "execution_count": 9,
   "metadata": {},
   "outputs": [],
   "source": [
    "df = pd.read_csv(tmp_file_path, dtype=types)"
   ]
  },
  {
   "cell_type": "markdown",
   "metadata": {},
   "source": [
    "In some file an error related to data type appears because some columns contains a word Infinity but in python it should be either inf or -inf, and so we will replace it and then read the file again."
   ]
  },
  {
   "cell_type": "code",
   "execution_count": 10,
   "metadata": {},
   "outputs": [],
   "source": [
    "df = pd.read_csv(tmp_file_path)\n",
    "\n",
    "df_infinity_fixed = df.replace('Infinity', 'inf')\n",
    "\n",
    "tmp_file_path_inf = os.path.join(tmp_path, 'Thursday-01-03-2018_TrafficForML_CICFlowMeter_infinity_fixed.csv')\n",
    "\n",
    "df_infinity_fixed.to_csv(tmp_file_path_inf)"
   ]
  },
  {
   "cell_type": "markdown",
   "metadata": {},
   "source": [
    "After fixing the infinity values the file can successfully be loaded with the given datatypes."
   ]
  },
  {
   "cell_type": "code",
   "execution_count": 11,
   "metadata": {},
   "outputs": [],
   "source": [
    "df = pd.read_csv(tmp_file_path_inf, dtype=types)"
   ]
  },
  {
   "cell_type": "code",
   "execution_count": 12,
   "metadata": {},
   "outputs": [
    {
     "name": "stdout",
     "output_type": "stream",
     "text": [
      "<class 'pandas.core.frame.DataFrame'>\n",
      "RangeIndex: 331100 entries, 0 to 331099\n",
      "Data columns (total 82 columns):\n",
      " #   Column             Non-Null Count   Dtype   \n",
      "---  ------             --------------   -----   \n",
      " 0   Unnamed: 0         331100 non-null  int64   \n",
      " 1   Unnamed: 0.1       331100 non-null  int64   \n",
      " 2   dst_port           331100 non-null  uint32  \n",
      " 3   protocol           331100 non-null  uint8   \n",
      " 4   timestamp          331100 non-null  object  \n",
      " 5   flow_duration      331100 non-null  int64   \n",
      " 6   tot_fwd_pkts       331100 non-null  uint32  \n",
      " 7   tot_bwd_pkts       331100 non-null  uint32  \n",
      " 8   totlen_fwd_pkts    331100 non-null  uint32  \n",
      " 9   totlen_bwd_pkts    331100 non-null  uint32  \n",
      " 10  fwd_pkt_len_max    331100 non-null  uint16  \n",
      " 11  fwd_pkt_len_min    331100 non-null  uint16  \n",
      " 12  fwd_pkt_len_mean   331100 non-null  float32 \n",
      " 13  fwd_pkt_len_std    331100 non-null  float32 \n",
      " 14  bwd_pkt_len_max    331100 non-null  uint16  \n",
      " 15  bwd_pkt_len_min    331100 non-null  uint16  \n",
      " 16  bwd_pkt_len_mean   331100 non-null  float32 \n",
      " 17  bwd_pkt_len_std    331100 non-null  float32 \n",
      " 18  flow_byts_s        329266 non-null  float32 \n",
      " 19  flow_pkts_s        331100 non-null  float64 \n",
      " 20  flow_iat_mean      331100 non-null  float32 \n",
      " 21  flow_iat_std       331100 non-null  float32 \n",
      " 22  flow_iat_max       331100 non-null  int64   \n",
      " 23  flow_iat_min       331100 non-null  int64   \n",
      " 24  fwd_iat_tot        331100 non-null  int64   \n",
      " 25  fwd_iat_mean       331100 non-null  float32 \n",
      " 26  fwd_iat_std        331100 non-null  float32 \n",
      " 27  fwd_iat_max        331100 non-null  int64   \n",
      " 28  fwd_iat_min        331100 non-null  int64   \n",
      " 29  bwd_iat_tot        331100 non-null  uint32  \n",
      " 30  bwd_iat_mean       331100 non-null  float32 \n",
      " 31  bwd_iat_std        331100 non-null  float32 \n",
      " 32  bwd_iat_max        331100 non-null  uint32  \n",
      " 33  bwd_iat_min        331100 non-null  uint32  \n",
      " 34  fwd_psh_flags      331100 non-null  uint8   \n",
      " 35  bwd_psh_flags      331100 non-null  uint8   \n",
      " 36  fwd_urg_flags      331100 non-null  uint8   \n",
      " 37  bwd_urg_flags      331100 non-null  uint8   \n",
      " 38  fwd_header_len     331100 non-null  uint32  \n",
      " 39  bwd_header_len     331100 non-null  uint32  \n",
      " 40  fwd_pkts_s         331100 non-null  float64 \n",
      " 41  bwd_pkts_s         331100 non-null  float32 \n",
      " 42  pkt_len_min        331100 non-null  uint16  \n",
      " 43  pkt_len_max        331100 non-null  uint16  \n",
      " 44  pkt_len_mean       331100 non-null  float32 \n",
      " 45  pkt_len_std        331100 non-null  float32 \n",
      " 46  pkt_len_var        331100 non-null  float32 \n",
      " 47  fin_flag_cnt       331100 non-null  uint8   \n",
      " 48  syn_flag_cnt       331100 non-null  uint8   \n",
      " 49  rst_flag_cnt       331100 non-null  uint8   \n",
      " 50  psh_flag_cnt       331100 non-null  uint8   \n",
      " 51  ack_flag_cnt       331100 non-null  uint8   \n",
      " 52  urg_flag_cnt       331100 non-null  uint8   \n",
      " 53  cwe_flag_count     331100 non-null  uint8   \n",
      " 54  ece_flag_cnt       331100 non-null  uint8   \n",
      " 55  down_up_ratio      331100 non-null  uint16  \n",
      " 56  pkt_size_avg       331100 non-null  float32 \n",
      " 57  fwd_seg_size_avg   331100 non-null  float32 \n",
      " 58  bwd_seg_size_avg   331100 non-null  float32 \n",
      " 59  fwd_byts_b_avg     331100 non-null  uint8   \n",
      " 60  fwd_pkts_b_avg     331100 non-null  uint8   \n",
      " 61  fwd_blk_rate_avg   331100 non-null  uint8   \n",
      " 62  bwd_byts_b_avg     331100 non-null  uint8   \n",
      " 63  bwd_pkts_b_avg     331100 non-null  uint8   \n",
      " 64  bwd_blk_rate_avg   331100 non-null  uint8   \n",
      " 65  subflow_fwd_pkts   331100 non-null  uint32  \n",
      " 66  subflow_fwd_byts   331100 non-null  uint32  \n",
      " 67  subflow_bwd_pkts   331100 non-null  uint32  \n",
      " 68  subflow_bwd_byts   331100 non-null  uint32  \n",
      " 69  init_fwd_win_byts  331100 non-null  int32   \n",
      " 70  init_bwd_win_byts  331100 non-null  int32   \n",
      " 71  fwd_act_data_pkts  331100 non-null  uint32  \n",
      " 72  fwd_seg_size_min   331100 non-null  uint8   \n",
      " 73  active_mean        331100 non-null  float32 \n",
      " 74  active_std         331100 non-null  float32 \n",
      " 75  active_max         331100 non-null  uint32  \n",
      " 76  active_min         331100 non-null  uint32  \n",
      " 77  idle_mean          331100 non-null  float32 \n",
      " 78  idle_std           331100 non-null  float32 \n",
      " 79  idle_max           331100 non-null  uint64  \n",
      " 80  idle_min           331100 non-null  uint64  \n",
      " 81  label              331100 non-null  category\n",
      "dtypes: category(1), float32(22), float64(2), int32(2), int64(8), object(1), uint16(7), uint32(17), uint64(2), uint8(20)\n",
      "memory usage: 95.7+ MB\n"
     ]
    }
   ],
   "source": [
    "df.info()"
   ]
  },
  {
   "cell_type": "code",
   "execution_count": 13,
   "metadata": {},
   "outputs": [
    {
     "name": "stdout",
     "output_type": "stream",
     "text": [
      "Infinity values of flow_byts_s: 1085\n",
      "Null values of flow_byts_s: 1834\n"
     ]
    }
   ],
   "source": [
    "print(f\"Infinity values of flow_byts_s: {df[df['flow_byts_s'] == np.inf]['dst_port'].count()}\")\n",
    "print(f\"Null values of flow_byts_s: {df[df['flow_byts_s'].isnull()]['dst_port'].count()}\")"
   ]
  },
  {
   "cell_type": "markdown",
   "metadata": {},
   "source": [
    "### 3. Cleanup Other Files in the Same Way\n",
    "\n",
    "Here, we will start cleaning all the files and save them in a new directory. We will do the following steps:\n",
    "1. Remove the duplicated headers.\n",
    "2. Replace `Infinity` with `inf`.\n",
    "3. Renaming the column names to remove whitespaces and non-word characters.\n",
    "\n",
    "We will name each file with the type of attack contained in that file. Also, the columns (`Flow ID`, `Src IP`, `Dst IP`, `Src Port`) in the file `Thuesday-20-02-2018_TrafficForML_CICFlowMeter.csv` will be removed because they do not appear in the other files."
   ]
  },
  {
   "cell_type": "code",
   "execution_count": 14,
   "metadata": {},
   "outputs": [],
   "source": [
    "import numpy as np\n",
    "import pandas as pd\n",
    "import os\n",
    "import re\n",
    "\n",
    "csv_files = {\n",
    " 'Wednesday-28-02-2018_TrafficForML_CICFlowMeter.csv': 'infiltration_28-02-2018.csv',\n",
    " 'Thursday-01-03-2018_TrafficForML_CICFlowMeter.csv': 'infiltration_01-03-2018.csv',\n",
    " 'Friday-02-03-2018_TrafficForML_CICFlowMeter.csv': 'bot_02-03-2018.csv',\n",
    " 'Thursday-22-02-2018_TrafficForML_CICFlowMeter.csv': 'bruteforce-web-xss_sql-injection_22-02-2018.csv',\n",
    " 'Thursday-15-02-2018_TrafficForML_CICFlowMeter.csv': 'dos-goldeneye-slowloris_15-02-2018.csv',\n",
    " 'Thuesday-20-02-2018_TrafficForML_CICFlowMeter.csv': 'ddos-loic-http-loic-udp_20-02-2018.csv',\n",
    " 'Wednesday-21-02-2018_TrafficForML_CICFlowMeter.csv': 'ddos-loic-udp_hoic_21-02-2018.csv',\n",
    " 'Wednesday-14-02-2018_TrafficForML_CICFlowMeter.csv': 'bruteforce-ftp-ssh_14-02-2018.csv',\n",
    " 'Friday-16-02-2018_TrafficForML_CICFlowMeter.csv': 'dos-slowhttp-hulk_16-02-2018.csv',\n",
    " 'Friday-23-02-2018_TrafficForML_CICFlowMeter.csv': 'bruteforce-web-xss_sql-injection_23-02-2018.csv'\n",
    "}\n",
    "\n",
    "column_name_regex = re.compile(r\"\\W\", re.IGNORECASE)\n",
    "processed_dir = 'processed'\n",
    "processed_path = os.path.join(dataset_base_path, processed_dir)\n",
    "\n",
    "def remove_headers(f):    \n",
    "    return f[~f['Dst Port'].str.contains('Dst Port', na=False)]\n",
    "\n",
    "def replace_infinity(f):\n",
    "    return f.replace('Infinity', 'inf', inplace=True)\n",
    "\n",
    "def remove_non_word_chars_from_column_names(f):\n",
    "    return [column_name_regex.sub('_', c.lower()) for c in df.columns]\n",
    "    \n",
    "if not os.path.exists(processed_path):\n",
    "    os.mkdir(processed_path)    \n",
    "    \n",
    "for f, out in csv_files.items():\n",
    "    file_path = os.path.join(dataset_base_path, f)\n",
    "    output_path = os.path.join(dataset_base_path, processed_dir, out)\n",
    "    \n",
    "    df = pd.read_csv(file_path, dtype=str).drop(columns=['Flow ID', 'Src IP', 'Dst IP', 'Src Port'], errors='ignore')\n",
    "    df = remove_headers(df)\n",
    "    replace_infinity(df)\n",
    "    df.columns = remove_non_word_chars_from_column_names(df)\n",
    "    df.to_csv(output_path, index=False)"
   ]
  },
  {
   "cell_type": "code",
   "execution_count": 2,
   "metadata": {},
   "outputs": [],
   "source": [
    "import numpy as np\n",
    "import pandas as pd\n",
    "df2=pd.read_csv('dataset/Thuesday-20-02-2018_TrafficForML_CICFlowMeter.csv')"
   ]
  },
  {
   "cell_type": "code",
   "execution_count": 5,
   "metadata": {},
   "outputs": [],
   "source": [
    "df3=df2[['Flow ID', 'Src IP', 'Dst IP', 'Src Port']]"
   ]
  },
  {
   "cell_type": "code",
   "execution_count": 10,
   "metadata": {},
   "outputs": [
    {
     "data": {
      "text/html": [
       "<div>\n",
       "<style scoped>\n",
       "    .dataframe tbody tr th:only-of-type {\n",
       "        vertical-align: middle;\n",
       "    }\n",
       "\n",
       "    .dataframe tbody tr th {\n",
       "        vertical-align: top;\n",
       "    }\n",
       "\n",
       "    .dataframe thead th {\n",
       "        text-align: right;\n",
       "    }\n",
       "</style>\n",
       "<table border=\"1\" class=\"dataframe\">\n",
       "  <thead>\n",
       "    <tr style=\"text-align: right;\">\n",
       "      <th></th>\n",
       "      <th>Flow ID</th>\n",
       "      <th>Src IP</th>\n",
       "      <th>Dst IP</th>\n",
       "      <th>Src Port</th>\n",
       "    </tr>\n",
       "  </thead>\n",
       "  <tbody>\n",
       "    <tr>\n",
       "      <th>0</th>\n",
       "      <td>172.31.69.25-94.231.103.172-22-45498-6</td>\n",
       "      <td>94.231.103.172</td>\n",
       "      <td>172.31.69.25</td>\n",
       "      <td>45498</td>\n",
       "    </tr>\n",
       "    <tr>\n",
       "      <th>1</th>\n",
       "      <td>8.0.6.4-8.6.0.1-0-0-0</td>\n",
       "      <td>8.6.0.1</td>\n",
       "      <td>8.0.6.4</td>\n",
       "      <td>0</td>\n",
       "    </tr>\n",
       "    <tr>\n",
       "      <th>2</th>\n",
       "      <td>8.0.6.4-8.6.0.1-0-0-0</td>\n",
       "      <td>8.6.0.1</td>\n",
       "      <td>8.0.6.4</td>\n",
       "      <td>0</td>\n",
       "    </tr>\n",
       "    <tr>\n",
       "      <th>3</th>\n",
       "      <td>8.0.6.4-8.6.0.1-0-0-0</td>\n",
       "      <td>8.6.0.1</td>\n",
       "      <td>8.0.6.4</td>\n",
       "      <td>0</td>\n",
       "    </tr>\n",
       "    <tr>\n",
       "      <th>4</th>\n",
       "      <td>8.0.6.4-8.6.0.1-0-0-0</td>\n",
       "      <td>8.6.0.1</td>\n",
       "      <td>8.0.6.4</td>\n",
       "      <td>0</td>\n",
       "    </tr>\n",
       "  </tbody>\n",
       "</table>\n",
       "</div>"
      ],
      "text/plain": [
       "                                  Flow ID          Src IP        Dst IP  \\\n",
       "0  172.31.69.25-94.231.103.172-22-45498-6  94.231.103.172  172.31.69.25   \n",
       "1                   8.0.6.4-8.6.0.1-0-0-0         8.6.0.1       8.0.6.4   \n",
       "2                   8.0.6.4-8.6.0.1-0-0-0         8.6.0.1       8.0.6.4   \n",
       "3                   8.0.6.4-8.6.0.1-0-0-0         8.6.0.1       8.0.6.4   \n",
       "4                   8.0.6.4-8.6.0.1-0-0-0         8.6.0.1       8.0.6.4   \n",
       "\n",
       "   Src Port  \n",
       "0     45498  \n",
       "1         0  \n",
       "2         0  \n",
       "3         0  \n",
       "4         0  "
      ]
     },
     "execution_count": 10,
     "metadata": {},
     "output_type": "execute_result"
    }
   ],
   "source": [
    "df3.head()"
   ]
  },
  {
   "cell_type": "code",
   "execution_count": 16,
   "metadata": {},
   "outputs": [
    {
     "data": {
      "text/plain": [
       "(7948748, 4)"
      ]
     },
     "execution_count": 16,
     "metadata": {},
     "output_type": "execute_result"
    }
   ],
   "source": [
    "df3.shape"
   ]
  },
  {
   "cell_type": "code",
   "execution_count": 12,
   "metadata": {},
   "outputs": [
    {
     "data": {
      "text/plain": [
       "8.0.6.4-8.6.0.1-0-0-0                       93775\n",
       "172.31.67.120-13.89.188.5-49674-443-6         350\n",
       "172.31.67.38-13.89.187.212-49674-443-6        348\n",
       "172.31.66.78-13.89.184.238-49672-443-6        339\n",
       "172.31.66.95-13.89.188.5-49672-443-6          331\n",
       "                                            ...  \n",
       "144.21.81.16-172.31.64.71-60905-3389-6          1\n",
       "172.31.65.57-175.195.219.31-3389-60440-6        1\n",
       "172.31.0.2-172.31.65.29-53-57774-17             1\n",
       "172.31.0.2-172.31.67.59-53-57210-17             1\n",
       "172.31.67.21-35.167.62.142-3389-56391-6         1\n",
       "Name: Flow ID, Length: 5030830, dtype: int64"
      ]
     },
     "execution_count": 12,
     "metadata": {},
     "output_type": "execute_result"
    }
   ],
   "source": [
    "df3['Flow ID'].value_counts()"
   ]
  },
  {
   "cell_type": "code",
   "execution_count": 13,
   "metadata": {},
   "outputs": [
    {
     "data": {
      "text/plain": [
       "8.6.0.1           93775\n",
       "18.219.9.1        58532\n",
       "18.218.229.235    58398\n",
       "52.14.136.135     58137\n",
       "18.218.55.126     57998\n",
       "                  ...  \n",
       "27.18.128.146         1\n",
       "94.25.168.185         1\n",
       "52.85.133.124         1\n",
       "223.67.233.173        1\n",
       "95.134.48.11          1\n",
       "Name: Src IP, Length: 31291, dtype: int64"
      ]
     },
     "execution_count": 13,
     "metadata": {},
     "output_type": "execute_result"
    }
   ],
   "source": [
    "df3['Src IP'].value_counts()"
   ]
  },
  {
   "cell_type": "code",
   "execution_count": 14,
   "metadata": {},
   "outputs": [
    {
     "data": {
      "text/plain": [
       "172.31.0.2         2457307\n",
       "172.31.69.25        576782\n",
       "169.254.169.254     549148\n",
       "8.0.6.4              93775\n",
       "178.255.83.1         45386\n",
       "                    ...   \n",
       "54.231.168.251           1\n",
       "185.13.229.59            1\n",
       "140.205.34.51            1\n",
       "111.250.56.54            1\n",
       "52.216.227.235           1\n",
       "Name: Dst IP, Length: 27076, dtype: int64"
      ]
     },
     "execution_count": 14,
     "metadata": {},
     "output_type": "execute_result"
    }
   ],
   "source": [
    "df3['Dst IP'].value_counts()"
   ]
  },
  {
   "cell_type": "code",
   "execution_count": 15,
   "metadata": {},
   "outputs": [
    {
     "data": {
      "text/plain": [
       "443     630995\n",
       "445     210031\n",
       "80      153777\n",
       "0       144134\n",
       "3389     80222\n",
       "         ...  \n",
       "5310         1\n",
       "485          1\n",
       "33           1\n",
       "483          1\n",
       "893          1\n",
       "Name: Src Port, Length: 64898, dtype: int64"
      ]
     },
     "execution_count": 15,
     "metadata": {},
     "output_type": "execute_result"
    }
   ],
   "source": [
    "df3['Src Port'].value_counts()"
   ]
  },
  {
   "cell_type": "code",
   "execution_count": null,
   "metadata": {},
   "outputs": [],
   "source": []
  }
 ],
 "metadata": {
  "kernelspec": {
   "display_name": "Python 3",
   "language": "python",
   "name": "python3"
  },
  "language_info": {
   "codemirror_mode": {
    "name": "ipython",
    "version": 3
   },
   "file_extension": ".py",
   "mimetype": "text/x-python",
   "name": "python",
   "nbconvert_exporter": "python",
   "pygments_lexer": "ipython3",
   "version": "3.8.5"
  }
 },
 "nbformat": 4,
 "nbformat_minor": 2
}
